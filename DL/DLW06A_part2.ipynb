{
  "nbformat": 4,
  "nbformat_minor": 0,
  "metadata": {
    "colab": {
      "provenance": [],
      "include_colab_link": true
    },
    "kernelspec": {
      "name": "python3",
      "display_name": "Python 3"
    },
    "language_info": {
      "name": "python"
    }
  },
  "cells": [
    {
      "cell_type": "markdown",
      "metadata": {
        "id": "view-in-github",
        "colab_type": "text"
      },
      "source": [
        "<a href=\"https://colab.research.google.com/github/eng-edu-lgh/DL23/blob/main/DL/DLW06A_part2.ipynb\" target=\"_parent\"><img src=\"https://colab.research.google.com/assets/colab-badge.svg\" alt=\"Open In Colab\"/></a>"
      ]
    },
    {
      "cell_type": "markdown",
      "source": [
        "# 🌀**DLW06A Part II**"
      ],
      "metadata": {
        "id": "_mbT_YJKGkm-"
      }
    },
    {
      "cell_type": "markdown",
      "source": [
        "---\n",
        "# 📙Concepts and elements to learn beforehand (so far):\n",
        "\n",
        "0. Importing modules: Explain how to import a module (like random) and use its functions (like random.shuffle()).\n",
        "\n",
        "1. Python basics: Basic data types (strings, integers, lists, dictionaries), variables, and basic input/output functions (like print() and input()).\n",
        "\n",
        "2. String manipulation: Cover string methods like .strip() and .lower().\n",
        "\n",
        "## *Part II.*\n",
        "\n",
        "3. **Control structures: Introduce for loops, while loops, and conditional statements (if, elif, else).**\n",
        "\n",
        "4. **Functions: Explain how to define and use functions, including function parameters.** \n",
        "\n",
        "5. **F-strings: Introduce f-strings (formatted string literals) and how to embed expressions inside string literals using curly braces {}.**\n",
        "---"
      ],
      "metadata": {
        "id": "HtxckuUzxY6e"
      }
    },
    {
      "cell_type": "markdown",
      "source": [
        "숫자로 시작하는 변수는 안됨"
      ],
      "metadata": {
        "id": "Lrqaay44chRE"
      }
    },
    {
      "cell_type": "markdown",
      "source": [
        "# **[3] Control structures: for** loops, **while** loops, and conditional statement **(if, elif, else)**\n",
        "\n"
      ],
      "metadata": {
        "id": "-f-HoEdhxnW9"
      }
    },
    {
      "cell_type": "markdown",
      "source": [
        "## **A. for loops**"
      ],
      "metadata": {
        "id": "85NBK-wTx1lt"
      }
    },
    {
      "cell_type": "code",
      "source": [
        "number = 2\n",
        "print(number**2)"
      ],
      "metadata": {
        "id": "8axdZo8yyK49",
        "outputId": "9c80838a-59c3-4466-8ff7-6d7477d86034",
        "colab": {
          "base_uri": "https://localhost:8080/"
        }
      },
      "execution_count": null,
      "outputs": [
        {
          "output_type": "stream",
          "name": "stdout",
          "text": [
            "4\n"
          ]
        }
      ]
    },
    {
      "cell_type": "markdown",
      "source": [
        "If you want the same process (square of x) for 1, 2, 3, 4, 5"
      ],
      "metadata": {
        "id": "m9sAA43oyUG-"
      }
    },
    {
      "cell_type": "code",
      "source": [
        "# Define a list of numbers\n",
        "numbers = [1, 2, 3, 4, 5]\n",
        "\n",
        "# Use a for loop to iterate through the list\n",
        "for num in numbers:\n",
        "    # Print the square of each number\n",
        "    print(num ** 2)"
      ],
      "metadata": {
        "id": "N1b7Us8myGNK",
        "outputId": "60df1c3f-2c2b-4a1f-f4a9-f38ee1a8b799",
        "colab": {
          "base_uri": "https://localhost:8080/"
        }
      },
      "execution_count": null,
      "outputs": [
        {
          "output_type": "stream",
          "name": "stdout",
          "text": [
            "1\n",
            "4\n",
            "9\n",
            "16\n",
            "25\n"
          ]
        }
      ]
    },
    {
      "cell_type": "markdown",
      "source": [
        "**data.append()**"
      ],
      "metadata": {
        "id": "PxMMHR0YjktC"
      }
    },
    {
      "cell_type": "code",
      "source": [
        "numbers = [1,2,3,4,5]\n",
        "squared = []\n",
        "\n",
        "for i in numbers:\n",
        "  s = i ** 2\n",
        "  squared.append(s)\n",
        "\n",
        "print(squared)"
      ],
      "metadata": {
        "id": "N6WKYWzAi9zS",
        "outputId": "73c16f81-fca0-450e-af4a-2c3b30303566",
        "colab": {
          "base_uri": "https://localhost:8080/"
        }
      },
      "execution_count": 3,
      "outputs": [
        {
          "output_type": "stream",
          "name": "stdout",
          "text": [
            "[1, 4, 9, 16, 25]\n"
          ]
        }
      ]
    },
    {
      "cell_type": "markdown",
      "source": [
        "DIY\n",
        "\n",
        "1. Ask how many to input\n",
        "2. User input name\n",
        "3. Using for loop, append the attendance list\n",
        "\n",
        "\n",
        "\n"
      ],
      "metadata": {
        "id": "eoodtQr3PQZa"
      }
    },
    {
      "cell_type": "code",
      "source": [
        "num_names = input(\"How many names? \")\n",
        "num_names = int(num_names)\n",
        "\n",
        "attendance = []\n",
        "\n",
        "for i in range(0, num_names):\n",
        "  name = input()\n",
        "  attendance.append(name)\n",
        "\n",
        "print(attendance)\n"
      ],
      "metadata": {
        "id": "1h-L7PPzP0o4",
        "outputId": "820010b2-4d01-4b38-b4a4-597bcb2f8f3a",
        "colab": {
          "base_uri": "https://localhost:8080/"
        }
      },
      "execution_count": null,
      "outputs": [
        {
          "output_type": "stream",
          "name": "stdout",
          "text": [
            "How many names? 3\n",
            "Tom\n",
            "Jane\n",
            "Mary\n",
            "['Tom', 'Jane', 'Mary']\n"
          ]
        }
      ]
    },
    {
      "cell_type": "code",
      "source": [
        "len(attendance)"
      ],
      "metadata": {
        "id": "0esSSfGdQOaL",
        "outputId": "f1e19718-f393-4d2f-cbb7-070a11e1f9fe",
        "colab": {
          "base_uri": "https://localhost:8080/"
        }
      },
      "execution_count": null,
      "outputs": [
        {
          "output_type": "execute_result",
          "data": {
            "text/plain": [
              "3"
            ]
          },
          "metadata": {},
          "execution_count": 5
        }
      ]
    },
    {
      "cell_type": "markdown",
      "source": [
        "In Python, the **range()** function is used to generate a sequence of numbers. It takes three arguments: the start value, the end value (exclusive), and the step value. In the example range(10, 0, -1), the arguments are:\n",
        "\n",
        "+ 10: The start value, indicating that the sequence will begin with the number 10.\n",
        "+ 0: The end value (exclusive), meaning that the sequence will stop before reaching 0.\n",
        "+ -1: The step value, which determines the difference between each number in the sequence. In this case, the step is -1, indicating that the numbers in the sequence will decrease by 1 with each iteration.\n",
        "So, the range(10, 0, -1) function will generate a sequence of numbers counting down from 10 to 1 in reverse order, like this: 10, 9, 8, 7, 6, 5, 4, 3, 2, 1."
      ],
      "metadata": {
        "id": "t95iZcbxz0eT"
      }
    },
    {
      "cell_type": "code",
      "source": [
        "# Set the starting number for the countdown\n",
        "sn = 10\n",
        "\n",
        "# Use a for loop to iterate through the countdown\n",
        "for i in range(sn, 0, -1):\n",
        "    # Print the current countdown number\n",
        "    print(i)\n",
        "\n",
        "# Print the final message after the countdown\n",
        "print(\"Blast off!\")"
      ],
      "metadata": {
        "id": "GWMUXPgrytyY",
        "outputId": "f7cfd5aa-e1bc-4c99-d0e4-3f0c481e9559",
        "colab": {
          "base_uri": "https://localhost:8080/"
        }
      },
      "execution_count": null,
      "outputs": [
        {
          "output_type": "stream",
          "name": "stdout",
          "text": [
            "10\n",
            "9\n",
            "8\n",
            "7\n",
            "6\n",
            "5\n",
            "4\n",
            "3\n",
            "2\n",
            "1\n",
            "Blast off!\n"
          ]
        }
      ]
    },
    {
      "cell_type": "markdown",
      "source": [
        "DIY: using for loop, print odd numbers starting from 17"
      ],
      "metadata": {
        "id": "HR8OoxDK0BIe"
      }
    },
    {
      "cell_type": "code",
      "source": [
        "# start_number = \n",
        "\n",
        "# for i in range(,,):\n",
        "#   print(i)"
      ],
      "metadata": {
        "id": "30AxHsUi0NXY"
      },
      "execution_count": null,
      "outputs": []
    },
    {
      "cell_type": "code",
      "source": [
        "# DIY how to get a list with numbers 1*1, 2*4, 3*9, 4*16, 5*25 from the above\n",
        "\n",
        "a = numbers\n",
        "b = squared\n",
        "# hint: a[0] = 1, a[2] = 2, b[0]=1, b[1]=4\n",
        "\n",
        "#for i in range(,):\n",
        "#  s = \n",
        "#  print(s)"
      ],
      "metadata": {
        "id": "DUNgA-9Xo0JI"
      },
      "execution_count": null,
      "outputs": []
    },
    {
      "cell_type": "markdown",
      "source": [
        "More complicated for loop"
      ],
      "metadata": {
        "id": "iip7do8O0jts"
      }
    },
    {
      "cell_type": "markdown",
      "source": [
        "In the for loop, row is a loop variable that represents the current row number during each iteration of the loop. The loop iterates through a range of numbers starting from 1 up to (and including) n."
      ],
      "metadata": {
        "id": "nJnh-CQQ1565"
      }
    },
    {
      "cell_type": "code",
      "source": [
        "n = 10\n",
        "\n",
        "for j in range(1, n, + 1):\n",
        "    print('*' * j)"
      ],
      "metadata": {
        "id": "kj5fHNGo0lvD",
        "outputId": "7a869515-67da-46b8-f95e-69d108f13c81",
        "colab": {
          "base_uri": "https://localhost:8080/"
        }
      },
      "execution_count": null,
      "outputs": [
        {
          "output_type": "stream",
          "name": "stdout",
          "text": [
            "*\n",
            "**\n",
            "***\n",
            "****\n",
            "*****\n",
            "******\n",
            "*******\n",
            "********\n",
            "*********\n"
          ]
        }
      ]
    },
    {
      "cell_type": "code",
      "source": [
        "#@markdown Square\n",
        "# Set the size of the diamond (must be an odd number)\n",
        "diamond_size = 9\n",
        "\n",
        "# Calculate the middle row of the diamond\n",
        "middle_row = diamond_size // 2\n",
        "\n",
        "# Iterate through each row\n",
        "for row in range(diamond_size):\n",
        "    # Iterate through each column\n",
        "    for col in range(diamond_size):\n",
        "        # Conditions for the upper part of the diamond\n",
        "        if row <= middle_row and (col == middle_row - row or col == middle_row + row):\n",
        "            print('x', end='')\n",
        "\n",
        "        # Conditions for the lower part of the diamond\n",
        "        elif row > middle_row and (col == row - middle_row or col == diamond_size - (row - middle_row) - 1):\n",
        "            print('x', end='')\n",
        "\n",
        "        # Print space if no symbol should be printed at this position\n",
        "        else:\n",
        "            print(' ', end='')\n",
        "\n",
        "    # Move to the next row\n",
        "    print()\n"
      ],
      "metadata": {
        "cellView": "form",
        "id": "8Nt1wddo2nn8",
        "outputId": "16a9ed05-93ff-4406-c960-01306bfc2005",
        "colab": {
          "base_uri": "https://localhost:8080/"
        }
      },
      "execution_count": null,
      "outputs": [
        {
          "output_type": "stream",
          "name": "stdout",
          "text": [
            "    x    \n",
            "   x x   \n",
            "  x   x  \n",
            " x     x \n",
            "x       x\n",
            " x     x \n",
            "  x   x  \n",
            "   x x   \n",
            "    x    \n"
          ]
        }
      ]
    },
    {
      "cell_type": "markdown",
      "source": [
        "## **B. while loops**\n",
        "\n",
        "The while loop in Python is used to repeatedly execute **a block of code** as long as a specified condition remains True. The general syntax for a while loop is as follows:"
      ],
      "metadata": {
        "id": "xmqkOQVp4LZP"
      }
    },
    {
      "cell_type": "code",
      "source": [
        "counter = 1\n",
        "\n",
        "while counter <= 7:\n",
        "    print(counter)\n",
        "    counter = counter + 1"
      ],
      "metadata": {
        "id": "EFgFEwI_4PlO",
        "outputId": "baa488e4-cbd0-4e7d-d915-473f4f277761",
        "colab": {
          "base_uri": "https://localhost:8080/"
        }
      },
      "execution_count": null,
      "outputs": [
        {
          "output_type": "stream",
          "name": "stdout",
          "text": [
            "1\n",
            "2\n",
            "3\n",
            "4\n",
            "5\n",
            "6\n",
            "7\n"
          ]
        }
      ]
    },
    {
      "cell_type": "code",
      "source": [
        "countdown = 10\n",
        "\n",
        "while countdown > 0:\n",
        "    print(countdown)\n",
        "    countdown = countdown - 1  # countdown -= -1\n",
        "print(\"Done!\")"
      ],
      "metadata": {
        "id": "oBUWPRDC5C3b",
        "outputId": "fc32432f-4351-4a58-ae91-2bcec9bb5afb",
        "colab": {
          "base_uri": "https://localhost:8080/"
        }
      },
      "execution_count": null,
      "outputs": [
        {
          "output_type": "stream",
          "name": "stdout",
          "text": [
            "10\n",
            "9\n",
            "8\n",
            "7\n",
            "6\n",
            "5\n",
            "4\n",
            "3\n",
            "2\n",
            "1\n",
            "Done!\n"
          ]
        }
      ]
    },
    {
      "cell_type": "markdown",
      "source": [
        "## **C. if loops**\n",
        "\n",
        "The while loop in Python is used to repeatedly execute **a block of code** as long as a specified condition remains True. The general syntax for a while loop is as follows:"
      ],
      "metadata": {
        "id": "7WJIBubp-5tw"
      }
    },
    {
      "cell_type": "markdown",
      "source": [
        "+ Conditional loops, also known as conditional statements, are used in programming to control the flow of code execution based on specific conditions. \n",
        "+In Python, the most commonly used conditional statements are **if, elif** (short for else-if), and else. "
      ],
      "metadata": {
        "id": "sPM5Yy5D7Dmv"
      }
    },
    {
      "cell_type": "code",
      "source": [
        "age = 18\n",
        "\n",
        "if age >= 18:\n",
        "    print(\"You are eligible to vote.\")"
      ],
      "metadata": {
        "id": "TSklWfLN65ed"
      },
      "execution_count": null,
      "outputs": []
    },
    {
      "cell_type": "code",
      "source": [
        "yourage = input()\n",
        "yourage = int(yourage)\n",
        "\n",
        "if yourage >= 20:\n",
        "  print(\"Since you are 20 years old or older, you can enter our club.\")\n",
        "elif yourage >=80:\n",
        "  print(\"Since you are 30 years old or older cannot enter our club.\")\n",
        "elif yourage < 20:\n",
        "  print(\"Since you are younger than 20, you are not allowed to enter our club\")"
      ],
      "metadata": {
        "id": "Cg8ZoQ077yTD",
        "outputId": "deeae0df-0f2c-4f5f-868f-4776c4bab95c",
        "colab": {
          "base_uri": "https://localhost:8080/"
        }
      },
      "execution_count": null,
      "outputs": [
        {
          "output_type": "stream",
          "name": "stdout",
          "text": [
            "24\n",
            "Since you are 20 years old or older, you can enter our club.\n"
          ]
        }
      ]
    },
    {
      "cell_type": "code",
      "source": [
        "n = input(\"Type any number: \")\n",
        "n = int(n)\n",
        "\n",
        "if n/3 == 0:\n",
        "  print(\"The number you entered is a multiple of 3.\")\n",
        "else:\n",
        "  print(\"The number you entered is not a multiple of 3.\")"
      ],
      "metadata": {
        "id": "uEydy4dsFjQx",
        "outputId": "66479475-85d2-4354-bfeb-9d4b2e6c7efe",
        "colab": {
          "base_uri": "https://localhost:8080/"
        }
      },
      "execution_count": null,
      "outputs": [
        {
          "output_type": "stream",
          "name": "stdout",
          "text": [
            "Type any number: 87\n",
            "The number you entered is not a multiple of 3.\n"
          ]
        }
      ]
    },
    {
      "cell_type": "code",
      "source": [
        "#@markdown Demo: Spelling game (3 words)\n",
        "# Define the wordlist and their meanings\n",
        "wordlist = {\n",
        "    \"pterodactyl\": \"A type of prehistoric flying reptile with large wings, a long beak, and a crest on its head.\",\n",
        "    \"diaphragm\": \"A muscular, membranous partition that separates the thoracic cavity from the abdominal cavity and aids in respiration by moving up and down.\",\n",
        "    \"personnel\": \"The people who work for an organization or business, especially when considered as a group.\"\n",
        "}\n",
        "\n",
        "print(\"Welcome to the spelling game! We'll provide the meaning of a word, and you have to guess the correct spelling. Here we go:\\n\")\n",
        "\n",
        "# Initialize the score\n",
        "score = 0\n",
        "\n",
        "# Iterate through the wordlist items\n",
        "for word, meaning in wordlist.items():\n",
        "    # Print the meaning of the word\n",
        "    print(meaning)\n",
        "    \n",
        "    # Get the user's guess\n",
        "    guess = input(\"Your guess: \")\n",
        "    \n",
        "    # Check if the user's guess is correct\n",
        "    if guess.lower() == word.lower():\n",
        "        print(\"Correct!\")\n",
        "        score += 1\n",
        "    else:\n",
        "        print(f\"Sorry, the correct spelling is '{word}'.\")\n",
        "    \n",
        "    print()\n",
        "\n",
        "# Print the final score\n",
        "print(f\"Your final score: {score}/{len(wordlist)}\")"
      ],
      "metadata": {
        "cellView": "form",
        "id": "dzAs-8Ay-E6X"
      },
      "execution_count": null,
      "outputs": []
    },
    {
      "cell_type": "code",
      "source": [
        "#@markdown Demo: 369Game\n",
        "# Define the range for counting\n",
        "count_range = 50\n",
        "\n",
        "# Iterate through the numbers from 1 to count_range\n",
        "for number in range(1, count_range + 1):\n",
        "    # Check if the number is divisible by 3 or if its last digit is 3, 6, or 9\n",
        "    if number % 3 == 0 or str(number)[-1] in ['3', '6', '9']:\n",
        "        print('*', end=' ')\n",
        "    else:\n",
        "        print(number, end=' ')\n",
        "\n",
        "print(\"No one can beat me!\")"
      ],
      "metadata": {
        "cellView": "form",
        "id": "1R7z6_ZW5Ptm",
        "outputId": "a172a738-749a-444b-d0df-4cd193407bd1",
        "colab": {
          "base_uri": "https://localhost:8080/"
        }
      },
      "execution_count": null,
      "outputs": [
        {
          "output_type": "stream",
          "name": "stdout",
          "text": [
            "1 2 * 4 5 * 7 8 * 10 11 * * 14 * * 17 * * 20 * 22 * * 25 * * 28 * * 31 32 * 34 35 * 37 38 * 40 41 * * 44 * * 47 * * 50 No one can beat me!\n"
          ]
        }
      ]
    },
    {
      "cell_type": "markdown",
      "source": [
        "# **[4] Functions:**\n",
        "\n"
      ],
      "metadata": {
        "id": "yGhON8XaHGlI"
      }
    },
    {
      "cell_type": "markdown",
      "source": [
        "## **print(x)** Built-in function"
      ],
      "metadata": {
        "id": "5ntjZSxOHGlJ"
      }
    },
    {
      "cell_type": "code",
      "source": [
        "x = \"Hello, there?\"\n",
        "print(x)"
      ],
      "metadata": {
        "colab": {
          "base_uri": "https://localhost:8080/"
        },
        "id": "FR_892S4HVW5",
        "outputId": "85d9e371-0de6-47ad-fa02-eac67ca6ff1a"
      },
      "execution_count": null,
      "outputs": [
        {
          "output_type": "stream",
          "name": "stdout",
          "text": [
            "Hello, there?\n"
          ]
        }
      ]
    },
    {
      "cell_type": "markdown",
      "source": [
        "## **type(x)** Built-in function"
      ],
      "metadata": {
        "id": "BtyWhTLNHikj"
      }
    },
    {
      "cell_type": "code",
      "source": [
        "x = 3\n",
        "y = \"Mary\"\n",
        "type(x)"
      ],
      "metadata": {
        "colab": {
          "base_uri": "https://localhost:8080/"
        },
        "id": "5mUFyKMqHY_A",
        "outputId": "88ba0aa5-66af-4571-da0d-74c854815432"
      },
      "execution_count": null,
      "outputs": [
        {
          "output_type": "execute_result",
          "data": {
            "text/plain": [
              "int"
            ]
          },
          "metadata": {},
          "execution_count": 2
        }
      ]
    },
    {
      "cell_type": "markdown",
      "source": [
        "## **Define my function**"
      ],
      "metadata": {
        "id": "djp4kt6_HzLB"
      }
    },
    {
      "cell_type": "code",
      "source": [
        "# Define add function\n",
        "def add(x,y):\n",
        "  sum = x + y\n",
        "  return sum"
      ],
      "metadata": {
        "id": "50j2dJYKIF18"
      },
      "execution_count": null,
      "outputs": []
    },
    {
      "cell_type": "code",
      "source": [
        "# Try add function\n",
        "x = 120\n",
        "y = 327\n",
        "\n",
        "add(x, y)"
      ],
      "metadata": {
        "colab": {
          "base_uri": "https://localhost:8080/"
        },
        "id": "8M6Q7APeIOKZ",
        "outputId": "07714e27-6b65-4777-9635-0b64a0617a02"
      },
      "execution_count": null,
      "outputs": [
        {
          "output_type": "execute_result",
          "data": {
            "text/plain": [
              "447"
            ]
          },
          "metadata": {},
          "execution_count": 6
        }
      ]
    },
    {
      "cell_type": "code",
      "source": [
        "# Run this and revise the code to display the result as we expect\n",
        "# hint think about the type of x, y\n",
        "\n",
        "x = input()\n",
        "y = input()\n",
        "\n",
        "add(x,y)"
      ],
      "metadata": {
        "id": "scveOvqbrQS2",
        "outputId": "65877e54-a052-4a98-9165-5417e8064579",
        "colab": {
          "base_uri": "https://localhost:8080/",
          "height": 72
        }
      },
      "execution_count": null,
      "outputs": [
        {
          "name": "stdout",
          "output_type": "stream",
          "text": [
            "4\n",
            "5\n"
          ]
        },
        {
          "output_type": "execute_result",
          "data": {
            "text/plain": [
              "'45'"
            ],
            "application/vnd.google.colaboratory.intrinsic+json": {
              "type": "string"
            }
          },
          "metadata": {},
          "execution_count": 22
        }
      ]
    },
    {
      "cell_type": "markdown",
      "source": [
        "## **tts(x)**"
      ],
      "metadata": {
        "id": "IAG6vZUuI0OR"
      }
    },
    {
      "cell_type": "code",
      "source": [
        "!pip install gTTS\n",
        "from gtts import gTTS\n",
        "from IPython.display import Audio\n",
        "\n",
        "##################\n",
        "\n",
        "def tts(txt):\n",
        "  gtts_object = gTTS(text = txt, lang = \"en\")\n",
        "  gtts_object.save(\"E-audio.mp3\")\n",
        "  return Audio(\"E-audio.mp3\")"
      ],
      "metadata": {
        "colab": {
          "base_uri": "https://localhost:8080/"
        },
        "id": "Mbij0mIAIUbV",
        "outputId": "78246a46-dd25-40a4-de2c-85afd176d14c"
      },
      "execution_count": null,
      "outputs": [
        {
          "output_type": "stream",
          "name": "stdout",
          "text": [
            "Looking in indexes: https://pypi.org/simple, https://us-python.pkg.dev/colab-wheels/public/simple/\n",
            "Collecting gTTS\n",
            "  Downloading gTTS-2.3.1-py3-none-any.whl (28 kB)\n",
            "Requirement already satisfied: requests<3,>=2.27 in /usr/local/lib/python3.9/dist-packages (from gTTS) (2.27.1)\n",
            "Requirement already satisfied: click<8.2,>=7.1 in /usr/local/lib/python3.9/dist-packages (from gTTS) (8.1.3)\n",
            "Requirement already satisfied: idna<4,>=2.5 in /usr/local/lib/python3.9/dist-packages (from requests<3,>=2.27->gTTS) (3.4)\n",
            "Requirement already satisfied: certifi>=2017.4.17 in /usr/local/lib/python3.9/dist-packages (from requests<3,>=2.27->gTTS) (2022.12.7)\n",
            "Requirement already satisfied: charset-normalizer~=2.0.0 in /usr/local/lib/python3.9/dist-packages (from requests<3,>=2.27->gTTS) (2.0.12)\n",
            "Requirement already satisfied: urllib3<1.27,>=1.21.1 in /usr/local/lib/python3.9/dist-packages (from requests<3,>=2.27->gTTS) (1.26.15)\n",
            "Installing collected packages: gTTS\n",
            "Successfully installed gTTS-2.3.1\n"
          ]
        }
      ]
    },
    {
      "cell_type": "code",
      "source": [
        "tts(\"Hello there!\")"
      ],
      "metadata": {
        "colab": {
          "base_uri": "https://localhost:8080/",
          "height": 75
        },
        "id": "4arAqGTaJcRx",
        "outputId": "f610abfd-acc9-4451-bc7a-e1ec5c235713"
      },
      "execution_count": null,
      "outputs": [
        {
          "output_type": "execute_result",
          "data": {
            "text/plain": [
              "<IPython.lib.display.Audio object>"
            ],
            "text/html": [
              "\n",
              "                <audio  controls=\"controls\" >\n",
              "                    <source src=\"data:audio/mpeg;base64,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\" type=\"audio/mpeg\" />\n",
              "                    Your browser does not support the audio element.\n",
              "                </audio>\n",
              "              "
            ]
          },
          "metadata": {},
          "execution_count": 9
        }
      ]
    }
  ]
}
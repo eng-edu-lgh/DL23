{
  "nbformat": 4,
  "nbformat_minor": 0,
  "metadata": {
    "colab": {
      "provenance": [],
      "include_colab_link": true
    },
    "kernelspec": {
      "name": "python3",
      "display_name": "Python 3"
    },
    "language_info": {
      "name": "python"
    }
  },
  "cells": [
    {
      "cell_type": "markdown",
      "metadata": {
        "id": "view-in-github",
        "colab_type": "text"
      },
      "source": [
        "<a href=\"https://colab.research.google.com/github/eng-edu-lgh/DL23/blob/main/DL/DLW06A_part1.ipynb\" target=\"_parent\"><img src=\"https://colab.research.google.com/assets/colab-badge.svg\" alt=\"Open In Colab\"/></a>"
      ]
    },
    {
      "cell_type": "markdown",
      "source": [
        "# 🌀**DLW06A Part I (4/12)** Coding and Language games"
      ],
      "metadata": {
        "id": "_mbT_YJKGkm-"
      }
    },
    {
      "cell_type": "markdown",
      "source": [
        "# 💕 Goal: Creating an app similar to **_Word Guessing Game from Hints_**\n",
        "\n",
        "We will be spending 2 weeks to get this go."
      ],
      "metadata": {
        "id": "ppmHMRdisMiv"
      }
    },
    {
      "cell_type": "markdown",
      "source": [
        "##💦 **Demo 1: Making a word quiz.**"
      ],
      "metadata": {
        "id": "MWpQZGE5wZgt"
      }
    },
    {
      "cell_type": "code",
      "source": [
        "#@markdown Run this code to see guesiong game\n",
        "import random\n",
        "\n",
        "# Define a dictionary of words and their hints\n",
        "word_hints = {\n",
        "    \"suprasegmental\": [\n",
        "        \"This term is related to the features of speech that go beyond individual sounds.\",\n",
        "        \"It is often associated with intonation, stress, and timing.\",\n",
        "        \"Examples include pitch, tone, and stress patterns.\",\n",
        "        \"The answer begins with 's'.\"\n",
        "    ],\n",
        "    \"geminate\": [\n",
        "        \"This term is related to a specific type of consonant.\",\n",
        "        \"It refers to a consonant that is pronounced for a longer duration than its regular counterpart.\",\n",
        "        \"In some languages, it can be represented by doubling the consonant in writing.\",\n",
        "        \"The answer begins with 'g'.\"\n",
        "    ],\n",
        "    \"syllable\": [\n",
        "        \"This term is related to a unit of speech.\",\n",
        "        \"It is a sequence of speech sounds, typically consisting of a vowel and any surrounding consonants.\",\n",
        "        \"A word can have one or multiple of these units.\",\n",
        "        \"The answer begins with 's'.\"\n",
        "    ]\n",
        "}\n",
        "\n",
        "# Define guessing game\n",
        "\n",
        "def guessing_game(word_hints):\n",
        "    words = list(word_hints.keys())\n",
        "    random.shuffle(words)\n",
        "\n",
        "    for word in words:\n",
        "        print(\"\\nGuess the word based on the following hints:\")\n",
        "        hints = word_hints[word]\n",
        "        attempts = 0\n",
        "\n",
        "        while attempts < len(hints):\n",
        "            print(f\"Hint {attempts + 1}: {hints[attempts]}\")\n",
        "            guess = input(\"Your guess: \").strip().lower()\n",
        "\n",
        "            if guess == word.lower():\n",
        "                print(\"Congratulations! You guessed the correct word!\\n\")\n",
        "                break\n",
        "            else:\n",
        "                print(\"Incorrect. Try again with another hint.\\n\")\n",
        "                attempts += 1\n",
        "\n",
        "        if attempts == len(hints):\n",
        "            print(f\"Sorry, you've run out of hints. The correct word was: {word}\\n\")\n",
        "\n",
        "# Using this conditional structure is a common practice in Python to allow a script to be both executed as a standalone program and imported as a module in other scripts without immediately running the code within the script.\n",
        "if __name__ == \"__main__\":\n",
        "  guessing_game(word_hints)"
      ],
      "metadata": {
        "cellView": "form",
        "id": "68fDLUnZs8KF"
      },
      "execution_count": null,
      "outputs": []
    },
    {
      "cell_type": "markdown",
      "source": [
        "##💦**Demo 2: Convert a statement to a yes-no question**"
      ],
      "metadata": {
        "id": "DKwjeU8pW-iu"
      }
    },
    {
      "cell_type": "code",
      "source": [
        "#@markdown Install and import libraries\n",
        "%%capture\n",
        "!pip install gtts\n",
        "!pip install IPython\n",
        "from gtts import gTTS\n",
        "from IPython.display import Audio, display\n",
        "\n",
        "#@markdown etts(), ktts()\n",
        "def etts(text):\n",
        "  text_to_say = text\n",
        "\n",
        "  gtts_object = gTTS(text = text_to_say,\n",
        "                     lang = \"en\",\n",
        "                    slow = False)\n",
        "  \n",
        "  gtts_object.save(\"E-audio.mp3\")\n",
        "  return Audio(\"E-audio.mp3\")\n",
        "\n",
        "def ktts(text):\n",
        "  text_to_say = text\n",
        "\n",
        "  gtts_object = gTTS(text = text_to_say,\n",
        "                     lang = \"ko\",\n",
        "                    slow = False)\n",
        "  \n",
        "  gtts_object.save(\"K-audio.mp3\")\n",
        "  return Audio(\"K-audio.mp3\")"
      ],
      "metadata": {
        "cellView": "form",
        "id": "TajMEehr8_7D"
      },
      "execution_count": null,
      "outputs": []
    },
    {
      "cell_type": "markdown",
      "source": [
        "---\n",
        "### Complete version with some restriction \n",
        "\n",
        "1. The statement you're entering must contain a be-verb.\n",
        "2. If you use a proper noun as a subject, restrict it to one of the followings: \n",
        "\n",
        "> **Male: Tom, Thomas, Bill**\n",
        "\n",
        "> **Female: Mary, Jane, Jessica**\n",
        "\n",
        "2. Must contain a punctuation(.)\n",
        "---"
      ],
      "metadata": {
        "id": "5XYJaX2IDrOu"
      }
    },
    {
      "cell_type": "code",
      "source": [
        "#@markdown Statment to a Yes-No question (Audio autoplay)\n",
        "sentence = input(\"Type a sentence containing a be verb: e.g., I am a students.\\n\")\n",
        "beverbs = [\"is\", \"was\", \"are\", \"were\"]\n",
        "pronouns = [\"I\",\"You\",\"He\",\"She\",\"They\",\"It\"]\n",
        "names = [\"Mary\", \"Jane\", \"Tom\",\"Thomas\",\"Jessica\", \"Bill\"]\n",
        "\n",
        "def check_word(list_A, list_B):\n",
        "    for a in list_A:\n",
        "        for b in list_B:\n",
        "            if b in a:\n",
        "                mword = a\n",
        "                return True, mword\n",
        "    return False, None\n",
        "\n",
        "\n",
        "cat1 = sentence.split()\n",
        "\n",
        "result = check_word(cat1,beverbs)\n",
        "\n",
        "if result[0] == True:\n",
        "  if cat1[0] in pronouns:\n",
        "      b = result[1]\n",
        "      be = \" \"+b+\" \"\n",
        "      ss = sentence.split(be)\n",
        "      subj = ss[0]\n",
        "      nsubj = subj[0].lower()+subj[1:]\n",
        "      pred = ss[1]\n",
        "      w1 = b[0].upper() + b[1:] # Capitalized be verb\n",
        "      newsent = w1 + \" \" + nsubj + \" \" + pred[:-1] + \"?\"\n",
        "      mytext = \"I'll make it to a yes-no question: \" + newsent\n",
        "      print(\"Yes-no question: \", newsent)\n",
        "  elif cat1[0] not in pronouns and cat1[0] in names:\n",
        "        b = result[1]\n",
        "        be = \" \"+b+\" \"\n",
        "        ss = sentence.split(be)\n",
        "        subj = ss[0]\n",
        "        pred = ss[1]\n",
        "        w1 = b[0].upper() + b[1:] # Capitalized be verb\n",
        "        newsent = w1 + \" \" + subj + \" \" + pred[:-1] + \"?\"\n",
        "        mytext = \"I'll make it to a yes-no question: \" + newsent\n",
        "        print(\"Yes-no question: \", newsent)\n",
        "  elif cat1[0] not in pronouns and cat1[0] not in names:\n",
        "        b = result[1]\n",
        "        be = \" \"+b+\" \"\n",
        "        ss = sentence.split(be)\n",
        "        subj = ss[0]\n",
        "        nsubj = subj[0].lower()+subj[1:]\n",
        "        pred = ss[1]\n",
        "        w1 = b[0].upper() + b[1:] # Capitalized be verb\n",
        "        newsent = w1 + \" \" + nsubj + \" \" + pred[:-1] + \"?\"\n",
        "        mytext = \"I'll make it to a yes-no question: \" + newsent\n",
        "        print(\"Yes-no question: \", newsent)\n",
        "\n",
        "else:\n",
        "    mytext = \"The sentence you\\' provided does not contain a 'Be' verb. Try again.\"\n",
        "    print(\"Type a sentence that contains a be verb.\")\n",
        "\n",
        "etts(mytext)\n",
        "Audio(\"E-audio.mp3\",autoplay=True)"
      ],
      "metadata": {
        "cellView": "form",
        "id": "ZjPSWFub-55P"
      },
      "execution_count": null,
      "outputs": []
    },
    {
      "cell_type": "markdown",
      "source": [
        "## 💦**Demo 3: Story game**"
      ],
      "metadata": {
        "id": "UG0_f0gJQl1r"
      }
    },
    {
      "cell_type": "code",
      "source": [
        "#@markdown Adventure game with reading\n",
        "print(\"Welcome to the adventure game!\")\n",
        "print(\"=\"*50)\n",
        "print(\"You are a high school student who has been chosen to embark on a quest to save your town from a mysterious curse.\")\n",
        "print(\"You will face various challenges and choices along the way, and your decisions will determine the outcome of the story.\")\n",
        "print(\"=\"*50)\n",
        "name = input(\"What is your name? \")\n",
        "print(\"=\"*50)\n",
        "print(f\"Nice to meet you, {name}! Are you ready to begin?\")\n",
        "print(\"=\"*50)\n",
        "# Start of the story\n",
        "print(\"You wake up one morning to find that your town is covered in a thick fog.\")\n",
        "print(\"People are starting to get sick, and strange things are happening.\")\n",
        "print(\"You decide to investigate and find out that a curse has been cast upon the town.\")\n",
        "print(\"You meet a wise old sage who tells you that the only way to lift the curse is to find a magical artifact that is hidden in a dangerous dungeon.\")\n",
        "print(\"=\"*50)\n",
        "# First choice\n",
        "print(\"You have two options:\")\n",
        "print(\"Option 1: Search for clues in the town.\")\n",
        "print(\"Option 2: Go straight to the dungeon.\")\n",
        "print(\"=\"*50)\n",
        "choice = input(\"Which option do you choose? (1 or 2) \")\n",
        "print(\"=\"*50)\n",
        "if choice == \"1\":\n",
        "    print(\"You spend the day talking to townspeople and searching for clues.\")\n",
        "    print(\"You find a cryptic message that leads you to a hidden cave.\")\n",
        "elif choice == \"2\":\n",
        "    print(\"You journey to the dungeon and face many dangers along the way.\")\n",
        "    print(\"You eventually reach the entrance to the dungeon.\")\n",
        "print(\"=\"*50)\n",
        "# Second choice\n",
        "print(\"You have two options:\")\n",
        "print(\"Option 1: Enter the cave.\")\n",
        "print(\"Option 2: Enter the dungeon.\")\n",
        "print(\"=\"*50)\n",
        "choice = input(\"Which option do you choose? (1 or 2) \")\n",
        "print(\"=\"*50)\n",
        "if choice == \"1\":\n",
        "    print(\"=\"*50)\n",
        "    print(\"You enter the cave and find the magical artifact!\")\n",
        "    print(\"You bring it back to the town and the curse is lifted.\")\n",
        "    print(\"Congratulations! You have saved the town!\")\n",
        "    print(\"=\"*50)\n",
        "elif choice == \"2\":\n",
        "    print(\"=\"*50)\n",
        "    print(\"You enter the dungeon and face many challenges.\")\n",
        "    print(\"You eventually find the magical artifact, but it is guarded by a powerful monster.\")\n",
        "    print(\"You must defeat the monster to retrieve the artifact.\")\n",
        "    print(\"You engage in a fierce battle!\")\n",
        "    print(\"You lost the battle and the curse remains.\")\n",
        "    print(\"Brave You! Though the curse remains, people appreicate your effort.\")\n",
        "    print(\"=\"*50)\n"
      ],
      "metadata": {
        "cellView": "form",
        "id": "qBAUNW9qP75J"
      },
      "execution_count": null,
      "outputs": []
    },
    {
      "cell_type": "code",
      "source": [
        "#@markdown Story game with listening (audio)\n",
        "from gtts import gTTS\n",
        "import IPython.display as ipd\n",
        "\n",
        "def play_audio(text):\n",
        "    language = 'en'\n",
        "    audio = gTTS(text=text, lang=language, slow=False)\n",
        "    audio.save(\"audio.mp3\")\n",
        "    ipd.display(ipd.Audio(\"audio.mp3\", autoplay=True))\n",
        "\n",
        "# Introduction\n",
        "play_audio(\"Welcome to the story game. You are walking home from school when you hear footsteps behind you. You look back and see a shady figure in the distance. What do you do?\")\n",
        "ipd.clear_output(wait=True)\n",
        "input(\"Press Enter to continue...\")\n",
        "\n",
        "# Stage 1\n",
        "play_audio(\"You decide to run. Do you run towards the park or towards the busy street?\")\n",
        "ipd.clear_output(wait=True)\n",
        "choice = input(\"Enter 1 to run towards the park, or 2 to run towards the busy street: \")\n",
        "if choice == \"1\":\n",
        "    play_audio(\"You run towards the park and manage to lose the shady figure. You continue walking home and make it back safely.\")\n",
        "elif choice == \"2\":\n",
        "    play_audio(\"You run towards the busy street, hoping to find someone to help you. As you get closer, you realize that the figure is a police officer. You stop and explain what happened, and the officer escorts you home safely.\")\n",
        "ipd.clear_output(wait=True)\n",
        "input(\"Press Enter to continue...\")\n",
        "\n",
        "# Stage 2\n",
        "play_audio(\"You arrive home and find that your front door is slightly open. Do you go inside or call the police?\")\n",
        "ipd.clear_output(wait=True)\n",
        "choice = input(\"Enter 1 to go inside, or 2 to call the police: \")\n",
        "if choice == \"1\":\n",
        "    play_audio(\"You cautiously enter your home and find that everything is as you left it. You breathe a sigh of relief and go about your evening.\")\n",
        "elif choice == \"2\":\n",
        "    play_audio(\"You call the police and they arrive shortly after. They search your home and find no one inside. You spend the night at a friend's house and return home the next day.\")\n",
        "ipd.clear_output(wait=True)\n",
        "input(\"Press Enter to continue...\")\n",
        "\n",
        "# Conclusion\n",
        "play_audio(\"Good choice! you have successfully made it home safely. Thanks for playing!\")\n",
        "ipd.clear_output(wait=True)\n"
      ],
      "metadata": {
        "cellView": "form",
        "id": "mx_BDEl-TqLe"
      },
      "execution_count": null,
      "outputs": []
    },
    {
      "cell_type": "markdown",
      "source": [
        "---\n",
        "# 📙Concepts and elements to cover for our goal:\n",
        "\n",
        "0. Importing modules: Explain how to import a module (like random) and use its functions (like random.shuffle()).\n",
        "\n",
        "1. Python basics: Basic data types (strings, integers, lists, dictionaries), variables, and basic input/output functions (like print() and input()).\n",
        "\n",
        "2. String manipulation: Cover string methods like .strip() and .lower().\n",
        "3. Control structures: Introduce for loops, while loops, and conditional statements (if, elif, else).\n",
        "\n",
        "4. Functions: Explain how to define and use functions, including function parameters. \n",
        "\n",
        "5. F-strings: Introduce f-strings (formatted string literals) and how to embed expressions inside string literals using curly braces {}.\n",
        "---"
      ],
      "metadata": {
        "id": "2VMRdKbJwOsk"
      }
    },
    {
      "cell_type": "markdown",
      "source": [
        "# [0] Importing modules\n",
        "\n",
        "1. **function, (class), module, package, and library**\n",
        "\n",
        "> (class) > functions\n",
        "\n",
        "\n",
        "2. Let's use the analogy of a toolbox: \n",
        "\n",
        "+ **a module** is a single tool, (e.g., random) \n",
        "+ **a package** is a toolbox containing multiple tools (e.g., gTTS)\n",
        "+ **a library** is a set of toolboxes designed for a specific purpose. (e.g., nltk - Natural Language Tool Kit) _>> Next time_"
      ],
      "metadata": {
        "id": "wgZEzhkQwzc3"
      }
    },
    {
      "cell_type": "markdown",
      "source": [
        "##A. 'gTTS' package"
      ],
      "metadata": {
        "id": "298wKG9q7-rN"
      }
    },
    {
      "cell_type": "code",
      "source": [
        "!pip install gtts\n",
        "!pip install IPython\n",
        "from gtts import gTTS\n",
        "from IPython.display import Audio, display"
      ],
      "metadata": {
        "id": "YLCRqNbW8E9J",
        "outputId": "dcd9159f-f247-4bc2-9a44-058127579a4b",
        "colab": {
          "base_uri": "https://localhost:8080/"
        }
      },
      "execution_count": 1,
      "outputs": [
        {
          "output_type": "stream",
          "name": "stdout",
          "text": [
            "Looking in indexes: https://pypi.org/simple, https://us-python.pkg.dev/colab-wheels/public/simple/\n",
            "Collecting gtts\n",
            "  Downloading gTTS-2.3.1-py3-none-any.whl (28 kB)\n",
            "Requirement already satisfied: requests<3,>=2.27 in /usr/local/lib/python3.9/dist-packages (from gtts) (2.27.1)\n",
            "Requirement already satisfied: click<8.2,>=7.1 in /usr/local/lib/python3.9/dist-packages (from gtts) (8.1.3)\n",
            "Requirement already satisfied: urllib3<1.27,>=1.21.1 in /usr/local/lib/python3.9/dist-packages (from requests<3,>=2.27->gtts) (1.26.15)\n",
            "Requirement already satisfied: charset-normalizer~=2.0.0 in /usr/local/lib/python3.9/dist-packages (from requests<3,>=2.27->gtts) (2.0.12)\n",
            "Requirement already satisfied: certifi>=2017.4.17 in /usr/local/lib/python3.9/dist-packages (from requests<3,>=2.27->gtts) (2022.12.7)\n",
            "Requirement already satisfied: idna<4,>=2.5 in /usr/local/lib/python3.9/dist-packages (from requests<3,>=2.27->gtts) (3.4)\n",
            "Installing collected packages: gtts\n",
            "Successfully installed gtts-2.3.1\n",
            "Looking in indexes: https://pypi.org/simple, https://us-python.pkg.dev/colab-wheels/public/simple/\n",
            "Requirement already satisfied: IPython in /usr/local/lib/python3.9/dist-packages (7.34.0)\n",
            "Requirement already satisfied: decorator in /usr/local/lib/python3.9/dist-packages (from IPython) (4.4.2)\n",
            "Requirement already satisfied: backcall in /usr/local/lib/python3.9/dist-packages (from IPython) (0.2.0)\n",
            "Requirement already satisfied: pickleshare in /usr/local/lib/python3.9/dist-packages (from IPython) (0.7.5)\n",
            "Requirement already satisfied: traitlets>=4.2 in /usr/local/lib/python3.9/dist-packages (from IPython) (5.7.1)\n",
            "Requirement already satisfied: pygments in /usr/local/lib/python3.9/dist-packages (from IPython) (2.14.0)\n",
            "Requirement already satisfied: setuptools>=18.5 in /usr/local/lib/python3.9/dist-packages (from IPython) (67.6.1)\n",
            "Collecting jedi>=0.16\n",
            "  Downloading jedi-0.18.2-py2.py3-none-any.whl (1.6 MB)\n",
            "\u001b[2K     \u001b[90m━━━━━━━━━━━━━━━━━━━━━━━━━━━━━━━━━━━━━━━━\u001b[0m \u001b[32m1.6/1.6 MB\u001b[0m \u001b[31m11.4 MB/s\u001b[0m eta \u001b[36m0:00:00\u001b[0m\n",
            "\u001b[?25hRequirement already satisfied: matplotlib-inline in /usr/local/lib/python3.9/dist-packages (from IPython) (0.1.6)\n",
            "Requirement already satisfied: pexpect>4.3 in /usr/local/lib/python3.9/dist-packages (from IPython) (4.8.0)\n",
            "Requirement already satisfied: prompt-toolkit!=3.0.0,!=3.0.1,<3.1.0,>=2.0.0 in /usr/local/lib/python3.9/dist-packages (from IPython) (3.0.38)\n",
            "Requirement already satisfied: parso<0.9.0,>=0.8.0 in /usr/local/lib/python3.9/dist-packages (from jedi>=0.16->IPython) (0.8.3)\n",
            "Requirement already satisfied: ptyprocess>=0.5 in /usr/local/lib/python3.9/dist-packages (from pexpect>4.3->IPython) (0.7.0)\n",
            "Requirement already satisfied: wcwidth in /usr/local/lib/python3.9/dist-packages (from prompt-toolkit!=3.0.0,!=3.0.1,<3.1.0,>=2.0.0->IPython) (0.2.6)\n",
            "Installing collected packages: jedi\n",
            "Successfully installed jedi-0.18.2\n"
          ]
        }
      ]
    },
    {
      "cell_type": "code",
      "source": [
        "#@markdown etts(), ktts()\n",
        "def etts(text):\n",
        "  text_to_say = text\n",
        "\n",
        "  gtts_object = gTTS(text = text_to_say,\n",
        "                     lang = \"en\",\n",
        "                    slow = False)\n",
        "  \n",
        "  gtts_object.save(\"E-audio.mp3\")\n",
        "  return Audio(\"E-audio.mp3\")\n",
        "\n",
        "def ktts(text):\n",
        "  text_to_say = text\n",
        "\n",
        "  gtts_object = gTTS(text = text_to_say,\n",
        "                     lang = \"ko\",\n",
        "                    slow = False)\n",
        "  \n",
        "  gtts_object.save(\"K-audio.mp3\")\n",
        "  return Audio(\"K-audio.mp3\")"
      ],
      "metadata": {
        "cellView": "form",
        "id": "bYDfENzGRUFb"
      },
      "execution_count": 2,
      "outputs": []
    },
    {
      "cell_type": "markdown",
      "source": [
        "## B. 'random' module\n",
        "\n",
        "[Random Picker App using 'random'](https://github.com/MK316/Spring2023/blob/main/RandomPickerS23.ipynb)"
      ],
      "metadata": {
        "id": "vSFe_Umb68o9"
      }
    },
    {
      "cell_type": "code",
      "source": [
        "import random"
      ],
      "metadata": {
        "id": "t8tYICF_1Yx8"
      },
      "execution_count": 3,
      "outputs": []
    },
    {
      "cell_type": "markdown",
      "source": [
        "Return a number between 3 and 9 (both included):"
      ],
      "metadata": {
        "id": "RlWQ5dXark-r"
      }
    },
    {
      "cell_type": "code",
      "source": [
        "random.randint(1, 10) #random.randint(x,y)는 함수이므로 문법대로 사용해야 함."
      ],
      "metadata": {
        "colab": {
          "base_uri": "https://localhost:8080/"
        },
        "id": "sMf1Ow7W11EZ",
        "outputId": "8e566971-eaf4-41c7-83a8-f89f8f3acc4c"
      },
      "execution_count": 6,
      "outputs": [
        {
          "output_type": "execute_result",
          "data": {
            "text/plain": [
              "3"
            ]
          },
          "metadata": {},
          "execution_count": 6
        }
      ]
    },
    {
      "cell_type": "code",
      "source": [
        "a1 = random.randint(1, 10)\n",
        "a1*10  #변수를 이용하면 결과값을 이용한 다른 연산이나 작업이 가능하다."
      ],
      "metadata": {
        "colab": {
          "base_uri": "https://localhost:8080/"
        },
        "id": "WUVN9-Rs825s",
        "outputId": "302a2f35-c858-4e4b-9fd3-0cd30eef36e6"
      },
      "execution_count": 9,
      "outputs": [
        {
          "output_type": "execute_result",
          "data": {
            "text/plain": [
              "40"
            ]
          },
          "metadata": {},
          "execution_count": 9
        }
      ]
    },
    {
      "cell_type": "markdown",
      "source": [
        "# [1] Python basics: \n",
        "\n",
        "+ Basic data types (strings, integers, lists, dictionaries), \n",
        "+ variables, \n",
        "+ basic input/output functions (like print() and input()).\n",
        "\n"
      ],
      "metadata": {
        "id": "_vTm-kXl8qa_"
      }
    },
    {
      "cell_type": "markdown",
      "source": [
        "## [1-1] Basic data types"
      ],
      "metadata": {
        "id": "qaQ0_hkoENRX"
      }
    },
    {
      "cell_type": "markdown",
      "source": [
        "### A. strings"
      ],
      "metadata": {
        "id": "HB86s1k990Hh"
      }
    },
    {
      "cell_type": "code",
      "source": [
        "a2 = \"Welcome\"\n",
        "a3 = \"2023\""
      ],
      "metadata": {
        "id": "L_OImwSL94Kr"
      },
      "execution_count": 10,
      "outputs": []
    },
    {
      "cell_type": "markdown",
      "source": [
        "☺️ DIY: How to get \"Welcome, 2023!\""
      ],
      "metadata": {
        "id": "wkYUBwu1-IvG"
      }
    },
    {
      "cell_type": "code",
      "source": [],
      "metadata": {
        "id": "MLgZenvqfoXJ"
      },
      "execution_count": null,
      "outputs": []
    },
    {
      "cell_type": "code",
      "source": [
        "a2 +' '+ a3 + '!'"
      ],
      "metadata": {
        "id": "XZ2LHJcl9_u4",
        "outputId": "222f3b80-73b3-4de2-a5e4-fdfdbd27005f",
        "colab": {
          "base_uri": "https://localhost:8080/",
          "height": 35
        }
      },
      "execution_count": 14,
      "outputs": [
        {
          "output_type": "execute_result",
          "data": {
            "text/plain": [
              "'Welcome 2023!'"
            ],
            "application/vnd.google.colaboratory.intrinsic+json": {
              "type": "string"
            }
          },
          "metadata": {},
          "execution_count": 14
        }
      ]
    },
    {
      "cell_type": "markdown",
      "source": [
        "☺️ DIY: Let a4 = \"화이팅\", and get '화이팅화이팅화이팅화이팅화이팅화이팅화이팅화이팅화이팅화이팅'(10번)"
      ],
      "metadata": {
        "id": "WNaHBznU-yEd"
      }
    },
    {
      "cell_type": "code",
      "source": [
        "a4 = '화이팅'\n",
        "a4*10"
      ],
      "metadata": {
        "id": "0vfPcih3-xg4",
        "outputId": "c9e103f4-e0d1-442e-a96f-f6acca33ee39",
        "colab": {
          "base_uri": "https://localhost:8080/",
          "height": 35
        }
      },
      "execution_count": 18,
      "outputs": [
        {
          "output_type": "execute_result",
          "data": {
            "text/plain": [
              "'화이팅화이팅화이팅화이팅화이팅화이팅화이팅화이팅화이팅화이팅'"
            ],
            "application/vnd.google.colaboratory.intrinsic+json": {
              "type": "string"
            }
          },
          "metadata": {},
          "execution_count": 18
        }
      ]
    },
    {
      "cell_type": "code",
      "source": [
        "type(a2) # data type of the variable a2"
      ],
      "metadata": {
        "colab": {
          "base_uri": "https://localhost:8080/"
        },
        "id": "1XroWNyGADZU",
        "outputId": "63a1015f-9946-42ce-c0a4-20aea5f5ea57"
      },
      "execution_count": 20,
      "outputs": [
        {
          "output_type": "execute_result",
          "data": {
            "text/plain": [
              "str"
            ]
          },
          "metadata": {},
          "execution_count": 20
        }
      ]
    },
    {
      "cell_type": "markdown",
      "source": [
        "###B. Integers, float"
      ],
      "metadata": {
        "id": "kpNXrqZ2_9I2"
      }
    },
    {
      "cell_type": "code",
      "source": [
        "x1 = 45; y1 = 0.5\n",
        "x1 * y1"
      ],
      "metadata": {
        "colab": {
          "base_uri": "https://localhost:8080/"
        },
        "id": "CEs2BHNbAB1Q",
        "outputId": "8c3e5d15-083d-49a9-a3a5-6c3b9fd70a06"
      },
      "execution_count": 21,
      "outputs": [
        {
          "output_type": "execute_result",
          "data": {
            "text/plain": [
              "22.5"
            ]
          },
          "metadata": {},
          "execution_count": 21
        }
      ]
    },
    {
      "cell_type": "code",
      "source": [
        "type(x1*y1)"
      ],
      "metadata": {
        "id": "2WarI3IQsRJX",
        "outputId": "84be1c8d-cc23-4ced-e35d-3e610b439f2c",
        "colab": {
          "base_uri": "https://localhost:8080/"
        }
      },
      "execution_count": 22,
      "outputs": [
        {
          "output_type": "execute_result",
          "data": {
            "text/plain": [
              "float"
            ]
          },
          "metadata": {},
          "execution_count": 22
        }
      ]
    },
    {
      "cell_type": "markdown",
      "source": [
        "### C. List datatype"
      ],
      "metadata": {
        "id": "S7PJcJFkBO46"
      }
    },
    {
      "cell_type": "code",
      "source": [
        "x2 = [1,2,3]\n",
        "x2"
      ],
      "metadata": {
        "colab": {
          "base_uri": "https://localhost:8080/"
        },
        "id": "LjSEH6lABR98",
        "outputId": "a0a42011-b6ef-4993-ea33-b644ca1a608a"
      },
      "execution_count": 23,
      "outputs": [
        {
          "output_type": "execute_result",
          "data": {
            "text/plain": [
              "[1, 2, 3]"
            ]
          },
          "metadata": {},
          "execution_count": 23
        }
      ]
    },
    {
      "cell_type": "markdown",
      "source": [
        "x2[index]: Python index starts from 0"
      ],
      "metadata": {
        "id": "xcPyj0Fesdiu"
      }
    },
    {
      "cell_type": "code",
      "source": [
        "x2[2]"
      ],
      "metadata": {
        "id": "VGWl1av6BYGu",
        "outputId": "057394f1-29d8-4803-c72b-30878714d14b",
        "colab": {
          "base_uri": "https://localhost:8080/"
        }
      },
      "execution_count": 25,
      "outputs": [
        {
          "output_type": "execute_result",
          "data": {
            "text/plain": [
              "3"
            ]
          },
          "metadata": {},
          "execution_count": 25
        }
      ]
    },
    {
      "cell_type": "code",
      "source": [
        "# range(x,y)\n",
        "x3 = range(1,10)\n",
        "list(x3)  #list(), range(1,10)"
      ],
      "metadata": {
        "colab": {
          "base_uri": "https://localhost:8080/"
        },
        "id": "WNmjoCQ1ANr4",
        "outputId": "7af5e181-0b4e-40e2-985c-4c1847d18ddf"
      },
      "execution_count": 37,
      "outputs": [
        {
          "output_type": "execute_result",
          "data": {
            "text/plain": [
              "[1, 2, 3, 4, 5, 6, 7, 8, 9]"
            ]
          },
          "metadata": {},
          "execution_count": 37
        }
      ]
    },
    {
      "cell_type": "code",
      "source": [
        "x4 = \"John\"\n",
        "list(x4)"
      ],
      "metadata": {
        "colab": {
          "base_uri": "https://localhost:8080/"
        },
        "id": "amRP-ytuBlO6",
        "outputId": "c9822a30-4ecc-471e-d783-8cd1016d2fda"
      },
      "execution_count": 38,
      "outputs": [
        {
          "output_type": "execute_result",
          "data": {
            "text/plain": [
              "['J', 'o', 'h', 'n']"
            ]
          },
          "metadata": {},
          "execution_count": 38
        }
      ]
    },
    {
      "cell_type": "markdown",
      "source": [
        "###D. Dictionary datatype: {'key':'value'}\n",
        "\n",
        "In Python, a dictionary is a built-in data type that represents a collection of key-value pairs. Each key-value pair in a dictionary is separated by a colon (:), and each pair is separated by a comma. "
      ],
      "metadata": {
        "id": "ZoyOSN_QCCdO"
      }
    },
    {
      "cell_type": "code",
      "source": [
        "mydict = {\"API\":\"Application Programming Interface\", \"GPT\":\"Generative Pretrained Transformer\"}\n",
        "print(mydict['API'])\n",
        "print(mydict['GPT'])"
      ],
      "metadata": {
        "colab": {
          "base_uri": "https://localhost:8080/"
        },
        "id": "PdRkfL3JBMWK",
        "outputId": "e347e651-e191-4a9f-c0bb-6d608f40b2a4"
      },
      "execution_count": 41,
      "outputs": [
        {
          "output_type": "stream",
          "name": "stdout",
          "text": [
            "Application Programming Interface\n",
            "Generative Pretrained Transformer\n"
          ]
        }
      ]
    },
    {
      "cell_type": "code",
      "source": [
        "mydict['GPT']"
      ],
      "metadata": {
        "id": "muVfPouBs47b",
        "outputId": "921e46ee-fae3-4229-dd49-5bd1c7844765",
        "colab": {
          "base_uri": "https://localhost:8080/",
          "height": 35
        }
      },
      "execution_count": 42,
      "outputs": [
        {
          "output_type": "execute_result",
          "data": {
            "text/plain": [
              "'Generative Pretrained Transformer'"
            ],
            "application/vnd.google.colaboratory.intrinsic+json": {
              "type": "string"
            }
          },
          "metadata": {},
          "execution_count": 42
        }
      ]
    },
    {
      "cell_type": "code",
      "source": [
        "class_size = {\"Class A\": 25, \"Class B\": 30, \"Class C\": 32}\n",
        "class_size['Class C']"
      ],
      "metadata": {
        "colab": {
          "base_uri": "https://localhost:8080/"
        },
        "id": "WBs-NrEJDQRC",
        "outputId": "defcbbf7-f2cc-42d7-9071-b9c2a3b0ae46"
      },
      "execution_count": 43,
      "outputs": [
        {
          "output_type": "execute_result",
          "data": {
            "text/plain": [
              "32"
            ]
          },
          "metadata": {},
          "execution_count": 43
        }
      ]
    },
    {
      "cell_type": "markdown",
      "source": [
        "## [1-2] Variables"
      ],
      "metadata": {
        "id": "0m_ux_SoEUos"
      }
    },
    {
      "cell_type": "markdown",
      "source": [
        "## [1-3] input/output functions"
      ],
      "metadata": {
        "id": "YUasz63dEYAX"
      }
    },
    {
      "cell_type": "code",
      "source": [
        "mynumber = 2\n",
        "mynumber"
      ],
      "metadata": {
        "colab": {
          "base_uri": "https://localhost:8080/"
        },
        "id": "BSp7TWkeEfmz",
        "outputId": "29ef7434-6706-4603-97b1-304ded0f608f"
      },
      "execution_count": 44,
      "outputs": [
        {
          "output_type": "execute_result",
          "data": {
            "text/plain": [
              "2"
            ]
          },
          "metadata": {},
          "execution_count": 44
        }
      ]
    },
    {
      "cell_type": "code",
      "source": [
        "yournumber = input()  # In Python, input() is a built-in function that allows you to get user input from the keyboard. \n",
        "yournumber"
      ],
      "metadata": {
        "colab": {
          "base_uri": "https://localhost:8080/",
          "height": 54
        },
        "id": "6LZudH_0En_w",
        "outputId": "c08dfdf3-ed8a-4ab0-ccb6-393d4b83cdd0"
      },
      "execution_count": 49,
      "outputs": [
        {
          "name": "stdout",
          "output_type": "stream",
          "text": [
            "7\n"
          ]
        },
        {
          "output_type": "execute_result",
          "data": {
            "text/plain": [
              "'7'"
            ],
            "application/vnd.google.colaboratory.intrinsic+json": {
              "type": "string"
            }
          },
          "metadata": {},
          "execution_count": 49
        }
      ]
    },
    {
      "cell_type": "markdown",
      "source": [
        "☺️ After running the code below, can you tell what the resulting output means?"
      ],
      "metadata": {
        "id": "-Z1mQqzlH4k5"
      }
    },
    {
      "cell_type": "code",
      "source": [
        "yournumber*5"
      ],
      "metadata": {
        "colab": {
          "base_uri": "https://localhost:8080/",
          "height": 35
        },
        "id": "5cGgSs3qHxG_",
        "outputId": "1ddb4573-f7b8-45a3-e8d9-850906ee06fd"
      },
      "execution_count": 50,
      "outputs": [
        {
          "output_type": "execute_result",
          "data": {
            "text/plain": [
              "'77777'"
            ],
            "application/vnd.google.colaboratory.intrinsic+json": {
              "type": "string"
            }
          },
          "metadata": {},
          "execution_count": 50
        }
      ]
    },
    {
      "cell_type": "code",
      "source": [
        "type(yournumber)"
      ],
      "metadata": {
        "colab": {
          "base_uri": "https://localhost:8080/"
        },
        "id": "664rKEalISSY",
        "outputId": "b1d4cfe0-1e6c-4b30-874e-341bbfcb712a"
      },
      "execution_count": 51,
      "outputs": [
        {
          "output_type": "execute_result",
          "data": {
            "text/plain": [
              "str"
            ]
          },
          "metadata": {},
          "execution_count": 51
        }
      ]
    },
    {
      "cell_type": "code",
      "source": [
        "yournumber = int(yournumber) # changing the type of the value to integer\n",
        "type(yournumber)"
      ],
      "metadata": {
        "colab": {
          "base_uri": "https://localhost:8080/"
        },
        "id": "u_ocEyoAIVC4",
        "outputId": "98cc02b4-4e1d-40be-c470-33ca2a73a0ae"
      },
      "execution_count": 52,
      "outputs": [
        {
          "output_type": "execute_result",
          "data": {
            "text/plain": [
              "int"
            ]
          },
          "metadata": {},
          "execution_count": 52
        }
      ]
    },
    {
      "cell_type": "code",
      "source": [
        "yournumber*5"
      ],
      "metadata": {
        "id": "bezpffuvlD-L",
        "outputId": "a5c61b64-f1f0-496b-85af-95947bc64973",
        "colab": {
          "base_uri": "https://localhost:8080/"
        }
      },
      "execution_count": 53,
      "outputs": [
        {
          "output_type": "execute_result",
          "data": {
            "text/plain": [
              "35"
            ]
          },
          "metadata": {},
          "execution_count": 53
        }
      ]
    },
    {
      "cell_type": "markdown",
      "source": [
        "Getting output:"
      ],
      "metadata": {
        "id": "Z9Kzd8ZW7Bri"
      }
    },
    {
      "cell_type": "code",
      "source": [
        "# print() 함수 배우기\n",
        "print(\"대한민국\")\n",
        "\n",
        "a2 = \"화이팅!\"  # a1: variable(변수)\n",
        "print(a2)\n",
        "print(a2*10)\n",
        "print(\"화이팅 10번 합시다: \", a2*10)\n",
        "a2"
      ],
      "metadata": {
        "id": "aQXDo7u-4-18",
        "outputId": "40c69fc0-3743-4d06-91e0-767a853a3727",
        "colab": {
          "base_uri": "https://localhost:8080/",
          "height": 108
        }
      },
      "execution_count": 54,
      "outputs": [
        {
          "output_type": "stream",
          "name": "stdout",
          "text": [
            "대한민국\n",
            "화이팅!\n",
            "화이팅!화이팅!화이팅!화이팅!화이팅!화이팅!화이팅!화이팅!화이팅!화이팅!\n",
            "화이팅 10번 합시다:  화이팅!화이팅!화이팅!화이팅!화이팅!화이팅!화이팅!화이팅!화이팅!화이팅!\n"
          ]
        },
        {
          "output_type": "execute_result",
          "data": {
            "text/plain": [
              "'화이팅!'"
            ],
            "application/vnd.google.colaboratory.intrinsic+json": {
              "type": "string"
            }
          },
          "metadata": {},
          "execution_count": 54
        }
      ]
    },
    {
      "cell_type": "code",
      "source": [
        "text=input('Type any number: ')"
      ],
      "metadata": {
        "id": "e5U1pj4blidr",
        "outputId": "6549488b-ca87-4622-82a9-a5ffbc4a3e9b",
        "colab": {
          "base_uri": "https://localhost:8080/"
        }
      },
      "execution_count": 57,
      "outputs": [
        {
          "name": "stdout",
          "output_type": "stream",
          "text": [
            "Type any number: 4\n"
          ]
        }
      ]
    },
    {
      "cell_type": "code",
      "source": [
        "print(a2)\n",
        "print(\"*\"*60)\n",
        "a1=random.randint(1,10)\n",
        "print(\"Random integer between 1 and 10:\", a1)"
      ],
      "metadata": {
        "colab": {
          "base_uri": "https://localhost:8080/"
        },
        "id": "0jdQu65F2ZWw",
        "outputId": "d9215d57-9571-4675-b23e-bf80e350f4c3"
      },
      "execution_count": 59,
      "outputs": [
        {
          "output_type": "stream",
          "name": "stdout",
          "text": [
            "화이팅!\n",
            "************************************************************\n",
            "Random integer between 1 and 10: 5\n"
          ]
        }
      ]
    },
    {
      "cell_type": "markdown",
      "source": [
        "☺️DIY: \n",
        "**Q: John and Mary have been together for many days. Ask Mary how many days it has been since she met John. Then you tell Mary how many hours it has been since she met John.**\n",
        "\n",
        "1. Set the variable 'day' to 24\n",
        "2. Set the variable 'num_day' for the input from the user. Get a number (number of days) from the user using input() function\n",
        "2. Calculate days to hours: set the variable 'hours' to the final result."
      ],
      "metadata": {
        "id": "cvkWAvetFtSP"
      }
    },
    {
      "cell_type": "code",
      "source": [
        "day = input('How many days? : ')\n",
        "num_day = int(day)\n",
        "hours = 24\n",
        "minute = 60\n",
        "total=num_day * hours * minute\n",
        "print(\"The total hours passed since Mary met John are: \", total, \"hours.\")"
      ],
      "metadata": {
        "id": "Fdezo9WD1zju",
        "outputId": "518e9339-26da-44cd-92af-f14dd6fe2c7d",
        "colab": {
          "base_uri": "https://localhost:8080/"
        }
      },
      "execution_count": 65,
      "outputs": [
        {
          "output_type": "stream",
          "name": "stdout",
          "text": [
            "How many days? : 1\n",
            "The total hours passed since Mary met John are:  1440 hours.\n"
          ]
        }
      ]
    },
    {
      "cell_type": "markdown",
      "source": [
        "#[2] String manipulation: strip() and .lower().\n",
        "\n"
      ],
      "metadata": {
        "id": "zzkVAfU61HDk"
      }
    },
    {
      "cell_type": "markdown",
      "source": [
        "### **data.strip()**\n",
        "\n",
        "+ In Python, strip() is a built-in string method that returns a copy of the string with leading and trailing characters removed. \n",
        "+ By default, strip() removes whitespace characters such as spaces, tabs, and newlines from the beginning and end of the string."
      ],
      "metadata": {
        "id": "sSi_PvE5LTeC"
      }
    },
    {
      "cell_type": "code",
      "source": [
        "w1 = \" Mary is friendly. \"\n",
        "w1"
      ],
      "metadata": {
        "colab": {
          "base_uri": "https://localhost:8080/",
          "height": 35
        },
        "id": "IUtU-qG81XIt",
        "outputId": "25719df2-8d9f-44c5-a96e-11545323d56c"
      },
      "execution_count": 67,
      "outputs": [
        {
          "output_type": "execute_result",
          "data": {
            "text/plain": [
              "' Mary is friendly. '"
            ],
            "application/vnd.google.colaboratory.intrinsic+json": {
              "type": "string"
            }
          },
          "metadata": {},
          "execution_count": 67
        }
      ]
    },
    {
      "cell_type": "code",
      "source": [
        "w1.strip()"
      ],
      "metadata": {
        "colab": {
          "base_uri": "https://localhost:8080/",
          "height": 35
        },
        "id": "ZAhdPbqVKr6e",
        "outputId": "c7a53c7c-cc24-4e3d-ae41-f97bbe38830d"
      },
      "execution_count": 69,
      "outputs": [
        {
          "output_type": "execute_result",
          "data": {
            "text/plain": [
              "'Mary is friendly.'"
            ],
            "application/vnd.google.colaboratory.intrinsic+json": {
              "type": "string"
            }
          },
          "metadata": {},
          "execution_count": 69
        }
      ]
    },
    {
      "cell_type": "markdown",
      "source": [
        "### **data.split()**"
      ],
      "metadata": {
        "id": "JGPdtmu8MFgv"
      }
    },
    {
      "cell_type": "code",
      "source": [
        "w1 = \"Mary is friendly.\"\n",
        "w1.split()"
      ],
      "metadata": {
        "colab": {
          "base_uri": "https://localhost:8080/"
        },
        "id": "xbF1sJB9MIpw",
        "outputId": "684357ba-293e-49aa-8ca7-9288880e09f7"
      },
      "execution_count": 70,
      "outputs": [
        {
          "output_type": "execute_result",
          "data": {
            "text/plain": [
              "['Mary', 'is', 'friendly.']"
            ]
          },
          "metadata": {},
          "execution_count": 70
        }
      ]
    },
    {
      "cell_type": "code",
      "source": [
        "w2 = \"out-of-date\"\n",
        "w2.split('-')"
      ],
      "metadata": {
        "colab": {
          "base_uri": "https://localhost:8080/"
        },
        "id": "IudKgTjkMVQP",
        "outputId": "fffcbccf-0217-466c-bcc2-d35131bd60c7"
      },
      "execution_count": null,
      "outputs": [
        {
          "output_type": "execute_result",
          "data": {
            "text/plain": [
              "['out', 'of', 'date']"
            ]
          },
          "metadata": {},
          "execution_count": 49
        }
      ]
    },
    {
      "cell_type": "code",
      "source": [
        "w1 = \"Mary\"\n",
        "w2 = \"is\"\n",
        "w3 = \"friendly\""
      ],
      "metadata": {
        "id": "tGBOKKKtLvj7"
      },
      "execution_count": null,
      "outputs": []
    },
    {
      "cell_type": "code",
      "source": [
        "wordlist = [w1, w2, w3]\n",
        "wordlist"
      ],
      "metadata": {
        "colab": {
          "base_uri": "https://localhost:8080/"
        },
        "id": "c11AXGr0V_a4",
        "outputId": "f5a0b40c-c834-4888-c9fa-b243ac79243e"
      },
      "execution_count": null,
      "outputs": [
        {
          "output_type": "execute_result",
          "data": {
            "text/plain": [
              "['Mary', 'is', 'friendly']"
            ]
          },
          "metadata": {},
          "execution_count": 51
        }
      ]
    },
    {
      "cell_type": "markdown",
      "source": [
        "### **' '.join()**"
      ],
      "metadata": {
        "id": "Mb-LFWWPWn08"
      }
    },
    {
      "cell_type": "code",
      "source": [
        "' '.join(wordlist)"
      ],
      "metadata": {
        "colab": {
          "base_uri": "https://localhost:8080/",
          "height": 35
        },
        "id": "tZA7DsPPWGmA",
        "outputId": "90221f13-9bd2-40de-da6a-de32c074fb58"
      },
      "execution_count": null,
      "outputs": [
        {
          "output_type": "execute_result",
          "data": {
            "text/plain": [
              "'Mary is friendly'"
            ],
            "application/vnd.google.colaboratory.intrinsic+json": {
              "type": "string"
            }
          },
          "metadata": {},
          "execution_count": 52
        }
      ]
    },
    {
      "cell_type": "code",
      "source": [
        "'-'.join(wordlist)"
      ],
      "metadata": {
        "colab": {
          "base_uri": "https://localhost:8080/",
          "height": 35
        },
        "id": "EjLtWSL5WdYy",
        "outputId": "4ce99690-92b2-4ac7-b8c2-ee45569c21fe"
      },
      "execution_count": null,
      "outputs": [
        {
          "output_type": "execute_result",
          "data": {
            "text/plain": [
              "'Mary-is-friendly'"
            ],
            "application/vnd.google.colaboratory.intrinsic+json": {
              "type": "string"
            }
          },
          "metadata": {},
          "execution_count": 53
        }
      ]
    },
    {
      "cell_type": "markdown",
      "source": [
        "### **data.lower(), data.upper()**"
      ],
      "metadata": {
        "id": "PgCIMbbcL29X"
      }
    },
    {
      "cell_type": "code",
      "source": [
        "w1.lower()"
      ],
      "metadata": {
        "colab": {
          "base_uri": "https://localhost:8080/",
          "height": 35
        },
        "id": "JGqTVM22MuH0",
        "outputId": "118e59a5-ab1a-4271-98b6-5e38fd509488"
      },
      "execution_count": null,
      "outputs": [
        {
          "output_type": "execute_result",
          "data": {
            "text/plain": [
              "'mary'"
            ],
            "application/vnd.google.colaboratory.intrinsic+json": {
              "type": "string"
            }
          },
          "metadata": {},
          "execution_count": 54
        }
      ]
    },
    {
      "cell_type": "code",
      "source": [
        "w1.upper()"
      ],
      "metadata": {
        "colab": {
          "base_uri": "https://localhost:8080/",
          "height": 35
        },
        "id": "fP2lBss3Myhq",
        "outputId": "7b93479c-d868-4f9d-d120-456ed03398a4"
      },
      "execution_count": null,
      "outputs": [
        {
          "output_type": "execute_result",
          "data": {
            "text/plain": [
              "'MARY'"
            ],
            "application/vnd.google.colaboratory.intrinsic+json": {
              "type": "string"
            }
          },
          "metadata": {},
          "execution_count": 55
        }
      ]
    },
    {
      "cell_type": "markdown",
      "source": [
        "string index"
      ],
      "metadata": {
        "id": "yZJk2NtCM_oz"
      }
    },
    {
      "cell_type": "code",
      "source": [
        "len(w1) #number of string"
      ],
      "metadata": {
        "colab": {
          "base_uri": "https://localhost:8080/"
        },
        "id": "HmuiXLZSNGNa",
        "outputId": "a04863f4-d425-4cca-ae44-b0b8506c2910"
      },
      "execution_count": null,
      "outputs": [
        {
          "output_type": "execute_result",
          "data": {
            "text/plain": [
              "4"
            ]
          },
          "metadata": {},
          "execution_count": 56
        }
      ]
    },
    {
      "cell_type": "code",
      "source": [
        "w1[0] #1st string"
      ],
      "metadata": {
        "colab": {
          "base_uri": "https://localhost:8080/",
          "height": 35
        },
        "id": "xiyozLYxM6xk",
        "outputId": "b87c69f9-889e-4473-b142-33ef06d35790"
      },
      "execution_count": null,
      "outputs": [
        {
          "output_type": "execute_result",
          "data": {
            "text/plain": [
              "'M'"
            ],
            "application/vnd.google.colaboratory.intrinsic+json": {
              "type": "string"
            }
          },
          "metadata": {},
          "execution_count": 57
        }
      ]
    },
    {
      "cell_type": "code",
      "source": [
        "w1[-1]"
      ],
      "metadata": {
        "colab": {
          "base_uri": "https://localhost:8080/",
          "height": 35
        },
        "id": "AY_Ii7FhNeof",
        "outputId": "4cda0399-33ee-42f3-bf12-9f6aa11cd329"
      },
      "execution_count": null,
      "outputs": [
        {
          "output_type": "execute_result",
          "data": {
            "text/plain": [
              "'y'"
            ],
            "application/vnd.google.colaboratory.intrinsic+json": {
              "type": "string"
            }
          },
          "metadata": {},
          "execution_count": 58
        }
      ]
    },
    {
      "cell_type": "code",
      "source": [
        "w1[0:]"
      ],
      "metadata": {
        "id": "vhfF3iXwNijx"
      },
      "execution_count": null,
      "outputs": []
    },
    {
      "cell_type": "code",
      "source": [
        "w1[:]"
      ],
      "metadata": {
        "id": "pW4m0FoyNlf4"
      },
      "execution_count": null,
      "outputs": []
    },
    {
      "cell_type": "code",
      "source": [
        "w1[1:3]"
      ],
      "metadata": {
        "id": "tgp9ozDdNpwd"
      },
      "execution_count": null,
      "outputs": []
    },
    {
      "cell_type": "code",
      "source": [
        "w = \"mary\"\n",
        "w[0:-1]"
      ],
      "metadata": {
        "id": "0Su3TuHfPxwh"
      },
      "execution_count": null,
      "outputs": []
    },
    {
      "cell_type": "markdown",
      "source": [
        "☺️ DIY: Convert a statement to a yes-no question (e.g., Mary is smart. Tom is smiling. Jane is late.)"
      ],
      "metadata": {
        "id": "lGVkVdCLNMz0"
      }
    },
    {
      "cell_type": "code",
      "source": [
        "w1 = \"Mary\"; w2 = \"is\"; w3 = \"friendly.\""
      ],
      "metadata": {
        "id": "nz1VNUviNXaJ"
      },
      "execution_count": null,
      "outputs": []
    }
  ]
}
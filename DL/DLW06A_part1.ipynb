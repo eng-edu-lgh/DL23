{
  "nbformat": 4,
  "nbformat_minor": 0,
  "metadata": {
    "colab": {
      "provenance": [],
      "include_colab_link": true
    },
    "kernelspec": {
      "name": "python3",
      "display_name": "Python 3"
    },
    "language_info": {
      "name": "python"
    }
  },
  "cells": [
    {
      "cell_type": "markdown",
      "metadata": {
        "id": "view-in-github",
        "colab_type": "text"
      },
      "source": [
        "<a href=\"https://colab.research.google.com/github/eng-edu-lgh/DL23/blob/main/DL/DLW06A_part1.ipynb\" target=\"_parent\"><img src=\"https://colab.research.google.com/assets/colab-badge.svg\" alt=\"Open In Colab\"/></a>"
      ]
    },
    {
      "cell_type": "markdown",
      "source": [
        "# 🌀**DLW06A Part I (4/12)** Coding and Language games"
      ],
      "metadata": {
        "id": "_mbT_YJKGkm-"
      }
    },
    {
      "cell_type": "markdown",
      "source": [
        "# 💕 Goal: Creating an app similar to **_Word Guessing Game from Hints_**\n",
        "\n",
        "We will be spending 2 weeks to get this go."
      ],
      "metadata": {
        "id": "ppmHMRdisMiv"
      }
    },
    {
      "cell_type": "markdown",
      "source": [
        "##💦 **Demo 1: Making a word quiz.**"
      ],
      "metadata": {
        "id": "MWpQZGE5wZgt"
      }
    },
    {
      "cell_type": "code",
      "source": [
        "#@markdown Run this code to see guesiong game\n",
        "import random\n",
        "\n",
        "# Define a dictionary of words and their hints\n",
        "word_hints = {\n",
        "    \"suprasegmental\": [\n",
        "        \"This term is related to the features of speech that go beyond individual sounds.\",\n",
        "        \"It is often associated with intonation, stress, and timing.\",\n",
        "        \"Examples include pitch, tone, and stress patterns.\",\n",
        "        \"The answer begins with 's'.\"\n",
        "    ],\n",
        "    \"geminate\": [\n",
        "        \"This term is related to a specific type of consonant.\",\n",
        "        \"It refers to a consonant that is pronounced for a longer duration than its regular counterpart.\",\n",
        "        \"In some languages, it can be represented by doubling the consonant in writing.\",\n",
        "        \"The answer begins with 'g'.\"\n",
        "    ],\n",
        "    \"syllable\": [\n",
        "        \"This term is related to a unit of speech.\",\n",
        "        \"It is a sequence of speech sounds, typically consisting of a vowel and any surrounding consonants.\",\n",
        "        \"A word can have one or multiple of these units.\",\n",
        "        \"The answer begins with 's'.\"\n",
        "    ]\n",
        "}\n",
        "\n",
        "# Define guessing game\n",
        "\n",
        "def guessing_game(word_hints):\n",
        "    words = list(word_hints.keys())\n",
        "    random.shuffle(words)\n",
        "\n",
        "    for word in words:\n",
        "        print(\"\\nGuess the word based on the following hints:\")\n",
        "        hints = word_hints[word]\n",
        "        attempts = 0\n",
        "\n",
        "        while attempts < len(hints):\n",
        "            print(f\"Hint {attempts + 1}: {hints[attempts]}\")\n",
        "            guess = input(\"Your guess: \").strip().lower()\n",
        "\n",
        "            if guess == word.lower():\n",
        "                print(\"Congratulations! You guessed the correct word!\\n\")\n",
        "                break\n",
        "            else:\n",
        "                print(\"Incorrect. Try again with another hint.\\n\")\n",
        "                attempts += 1\n",
        "\n",
        "        if attempts == len(hints):\n",
        "            print(f\"Sorry, you've run out of hints. The correct word was: {word}\\n\")\n",
        "\n",
        "# Using this conditional structure is a common practice in Python to allow a script to be both executed as a standalone program and imported as a module in other scripts without immediately running the code within the script.\n",
        "if __name__ == \"__main__\":\n",
        "  guessing_game(word_hints)"
      ],
      "metadata": {
        "cellView": "form",
        "id": "68fDLUnZs8KF"
      },
      "execution_count": null,
      "outputs": []
    },
    {
      "cell_type": "markdown",
      "source": [
        "##💦**Demo 2: Convert a statement to a yes-no question**"
      ],
      "metadata": {
        "id": "DKwjeU8pW-iu"
      }
    },
    {
      "cell_type": "code",
      "source": [
        "#@markdown Install and import libraries\n",
        "%%capture\n",
        "!pip install gtts\n",
        "!pip install IPython\n",
        "from gtts import gTTS\n",
        "from IPython.display import Audio, display\n",
        "\n",
        "#@markdown etts(), ktts()\n",
        "def etts(text):\n",
        "  text_to_say = text\n",
        "\n",
        "  gtts_object = gTTS(text = text_to_say,\n",
        "                     lang = \"en\",\n",
        "                    slow = False)\n",
        "  \n",
        "  gtts_object.save(\"E-audio.mp3\")\n",
        "  return Audio(\"E-audio.mp3\")\n",
        "\n",
        "def ktts(text):\n",
        "  text_to_say = text\n",
        "\n",
        "  gtts_object = gTTS(text = text_to_say,\n",
        "                     lang = \"ko\",\n",
        "                    slow = False)\n",
        "  \n",
        "  gtts_object.save(\"K-audio.mp3\")\n",
        "  return Audio(\"K-audio.mp3\")"
      ],
      "metadata": {
        "cellView": "form",
        "id": "TajMEehr8_7D"
      },
      "execution_count": 2,
      "outputs": []
    },
    {
      "cell_type": "markdown",
      "source": [
        "---\n",
        "### Complete version with some restriction \n",
        "\n",
        "1. The statement you're entering must contain a be-verb.\n",
        "2. If you use a proper noun as a subject, restrict it to one of the followings: \n",
        "\n",
        "> **Male: Tom, Thomas, Bill**\n",
        "\n",
        "> **Female: Mary, Jane, Jessica**\n",
        "\n",
        "2. Must contain a punctuation(.)\n",
        "---"
      ],
      "metadata": {
        "id": "5XYJaX2IDrOu"
      }
    },
    {
      "cell_type": "code",
      "source": [
        "#@markdown Statment to a Yes-No question (Audio autoplay)\n",
        "sentence = input(\"Type a sentence containing a be verb: e.g., I am a students.\\n\")\n",
        "beverbs = [\"is\", \"was\", \"are\", \"were\"]\n",
        "pronouns = [\"I\",\"You\",\"He\",\"She\",\"They\",\"It\"]\n",
        "names = [\"Mary\", \"Jane\", \"Tom\",\"Thomas\",\"Jessica\", \"Bill\"]\n",
        "\n",
        "def check_word(list_A, list_B):\n",
        "    for a in list_A:\n",
        "        for b in list_B:\n",
        "            if b in a:\n",
        "                mword = a\n",
        "                return True, mword\n",
        "    return False, None\n",
        "\n",
        "\n",
        "cat1 = sentence.split()\n",
        "\n",
        "result = check_word(cat1,beverbs)\n",
        "\n",
        "if result[0] == True:\n",
        "  if cat1[0] in pronouns:\n",
        "      b = result[1]\n",
        "      be = \" \"+b+\" \"\n",
        "      ss = sentence.split(be)\n",
        "      subj = ss[0]\n",
        "      nsubj = subj[0].lower()+subj[1:]\n",
        "      pred = ss[1]\n",
        "      w1 = b[0].upper() + b[1:] # Capitalized be verb\n",
        "      newsent = w1 + \" \" + nsubj + \" \" + pred[:-1] + \"?\"\n",
        "      mytext = \"I'll make it to a yes-no question: \" + newsent\n",
        "      print(\"Yes-no question: \", newsent)\n",
        "  elif cat1[0] not in pronouns and cat1[0] in names:\n",
        "        b = result[1]\n",
        "        be = \" \"+b+\" \"\n",
        "        ss = sentence.split(be)\n",
        "        subj = ss[0]\n",
        "        pred = ss[1]\n",
        "        w1 = b[0].upper() + b[1:] # Capitalized be verb\n",
        "        newsent = w1 + \" \" + subj + \" \" + pred[:-1] + \"?\"\n",
        "        mytext = \"I'll make it to a yes-no question: \" + newsent\n",
        "        print(\"Yes-no question: \", newsent)\n",
        "  elif cat1[0] not in pronouns and cat1[0] not in names:\n",
        "        b = result[1]\n",
        "        be = \" \"+b+\" \"\n",
        "        ss = sentence.split(be)\n",
        "        subj = ss[0]\n",
        "        nsubj = subj[0].lower()+subj[1:]\n",
        "        pred = ss[1]\n",
        "        w1 = b[0].upper() + b[1:] # Capitalized be verb\n",
        "        newsent = w1 + \" \" + nsubj + \" \" + pred[:-1] + \"?\"\n",
        "        mytext = \"I'll make it to a yes-no question: \" + newsent\n",
        "        print(\"Yes-no question: \", newsent)\n",
        "\n",
        "else:\n",
        "    mytext = \"The sentence you\\' provided does not contain a 'Be' verb. Try again.\"\n",
        "    print(\"Type a sentence that contains a be verb.\")\n",
        "\n",
        "etts(mytext)\n",
        "Audio(\"E-audio.mp3\",autoplay=True)"
      ],
      "metadata": {
        "cellView": "form",
        "id": "ZjPSWFub-55P",
        "outputId": "fc4f7292-3f5a-486d-eb56-d58d6bd2cfcf",
        "colab": {
          "base_uri": "https://localhost:8080/",
          "height": 129
        }
      },
      "execution_count": 3,
      "outputs": [
        {
          "output_type": "stream",
          "name": "stdout",
          "text": [
            "Type a sentence containing a be verb: e.g., I am a students.\n",
            "He is going to take a lesson.\n",
            "Yes-no question:  Is he going to take a lesson?\n"
          ]
        },
        {
          "output_type": "execute_result",
          "data": {
            "text/plain": [
              "<IPython.lib.display.Audio object>"
            ],
            "text/html": [
              "\n",
              "                <audio  controls=\"controls\" autoplay=\"autoplay\">\n",
              "                    <source src=\"data:audio/mpeg;base64,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\" type=\"audio/mpeg\" />\n",
              "                    Your browser does not support the audio element.\n",
              "                </audio>\n",
              "              "
            ]
          },
          "metadata": {},
          "execution_count": 3
        }
      ]
    },
    {
      "cell_type": "markdown",
      "source": [
        "## 💦**Demo 3: Story game**"
      ],
      "metadata": {
        "id": "UG0_f0gJQl1r"
      }
    },
    {
      "cell_type": "code",
      "source": [
        "#@markdown Adventure game with reading\n",
        "print(\"Welcome to the adventure game!\")\n",
        "print(\"=\"*50)\n",
        "print(\"You are a high school student who has been chosen to embark on a quest to save your town from a mysterious curse.\")\n",
        "print(\"You will face various challenges and choices along the way, and your decisions will determine the outcome of the story.\")\n",
        "print(\"=\"*50)\n",
        "name = input(\"What is your name? \")\n",
        "print(\"=\"*50)\n",
        "print(f\"Nice to meet you, {name}! Are you ready to begin?\")\n",
        "print(\"=\"*50)\n",
        "# Start of the story\n",
        "print(\"You wake up one morning to find that your town is covered in a thick fog.\")\n",
        "print(\"People are starting to get sick, and strange things are happening.\")\n",
        "print(\"You decide to investigate and find out that a curse has been cast upon the town.\")\n",
        "print(\"You meet a wise old sage who tells you that the only way to lift the curse is to find a magical artifact that is hidden in a dangerous dungeon.\")\n",
        "print(\"=\"*50)\n",
        "# First choice\n",
        "print(\"You have two options:\")\n",
        "print(\"Option 1: Search for clues in the town.\")\n",
        "print(\"Option 2: Go straight to the dungeon.\")\n",
        "print(\"=\"*50)\n",
        "choice = input(\"Which option do you choose? (1 or 2) \")\n",
        "print(\"=\"*50)\n",
        "if choice == \"1\":\n",
        "    print(\"You spend the day talking to townspeople and searching for clues.\")\n",
        "    print(\"You find a cryptic message that leads you to a hidden cave.\")\n",
        "elif choice == \"2\":\n",
        "    print(\"You journey to the dungeon and face many dangers along the way.\")\n",
        "    print(\"You eventually reach the entrance to the dungeon.\")\n",
        "print(\"=\"*50)\n",
        "# Second choice\n",
        "print(\"You have two options:\")\n",
        "print(\"Option 1: Enter the cave.\")\n",
        "print(\"Option 2: Enter the dungeon.\")\n",
        "print(\"=\"*50)\n",
        "choice = input(\"Which option do you choose? (1 or 2) \")\n",
        "print(\"=\"*50)\n",
        "if choice == \"1\":\n",
        "    print(\"=\"*50)\n",
        "    print(\"You enter the cave and find the magical artifact!\")\n",
        "    print(\"You bring it back to the town and the curse is lifted.\")\n",
        "    print(\"Congratulations! You have saved the town!\")\n",
        "    print(\"=\"*50)\n",
        "elif choice == \"2\":\n",
        "    print(\"=\"*50)\n",
        "    print(\"You enter the dungeon and face many challenges.\")\n",
        "    print(\"You eventually find the magical artifact, but it is guarded by a powerful monster.\")\n",
        "    print(\"You must defeat the monster to retrieve the artifact.\")\n",
        "    print(\"You engage in a fierce battle!\")\n",
        "    print(\"You lost the battle and the curse remains.\")\n",
        "    print(\"Brave You! Though the curse remains, people appreicate your effort.\")\n",
        "    print(\"=\"*50)\n"
      ],
      "metadata": {
        "cellView": "form",
        "id": "qBAUNW9qP75J",
        "outputId": "0833775a-3b46-425a-b008-4f7c1e6318c5",
        "colab": {
          "base_uri": "https://localhost:8080/"
        }
      },
      "execution_count": 4,
      "outputs": [
        {
          "output_type": "stream",
          "name": "stdout",
          "text": [
            "Welcome to the adventure game!\n",
            "==================================================\n",
            "You are a high school student who has been chosen to embark on a quest to save your town from a mysterious curse.\n",
            "You will face various challenges and choices along the way, and your decisions will determine the outcome of the story.\n",
            "==================================================\n",
            "What is your name? Leegang\n",
            "==================================================\n",
            "Nice to meet you, Leegang! Are you ready to begin?\n",
            "==================================================\n",
            "You wake up one morning to find that your town is covered in a thick fog.\n",
            "People are starting to get sick, and strange things are happening.\n",
            "You decide to investigate and find out that a curse has been cast upon the town.\n",
            "You meet a wise old sage who tells you that the only way to lift the curse is to find a magical artifact that is hidden in a dangerous dungeon.\n",
            "==================================================\n",
            "You have two options:\n",
            "Option 1: Search for clues in the town.\n",
            "Option 2: Go straight to the dungeon.\n",
            "==================================================\n",
            "Which option do you choose? (1 or 2) 2\n",
            "==================================================\n",
            "You journey to the dungeon and face many dangers along the way.\n",
            "You eventually reach the entrance to the dungeon.\n",
            "==================================================\n",
            "You have two options:\n",
            "Option 1: Enter the cave.\n",
            "Option 2: Enter the dungeon.\n",
            "==================================================\n",
            "Which option do you choose? (1 or 2) 2\n",
            "==================================================\n",
            "==================================================\n",
            "You enter the dungeon and face many challenges.\n",
            "You eventually find the magical artifact, but it is guarded by a powerful monster.\n",
            "You must defeat the monster to retrieve the artifact.\n",
            "You engage in a fierce battle!\n",
            "You lost the battle and the curse remains.\n",
            "Brave You! Though the curse remains, people appreicate your effort.\n",
            "==================================================\n"
          ]
        }
      ]
    },
    {
      "cell_type": "code",
      "source": [
        "#@markdown Story game with listening (audio)\n",
        "from gtts import gTTS\n",
        "import IPython.display as ipd\n",
        "\n",
        "def play_audio(text):\n",
        "    language = 'en'\n",
        "    audio = gTTS(text=text, lang=language, slow=False)\n",
        "    audio.save(\"audio.mp3\")\n",
        "    ipd.display(ipd.Audio(\"audio.mp3\", autoplay=True))\n",
        "\n",
        "# Introduction\n",
        "play_audio(\"Welcome to the story game. You are walking home from school when you hear footsteps behind you. You look back and see a shady figure in the distance. What do you do?\")\n",
        "ipd.clear_output(wait=True)\n",
        "input(\"Press Enter to continue...\")\n",
        "\n",
        "# Stage 1\n",
        "play_audio(\"You decide to run. Do you run towards the park or towards the busy street?\")\n",
        "ipd.clear_output(wait=True)\n",
        "choice = input(\"Enter 1 to run towards the park, or 2 to run towards the busy street: \")\n",
        "if choice == \"1\":\n",
        "    play_audio(\"You run towards the park and manage to lose the shady figure. You continue walking home and make it back safely.\")\n",
        "elif choice == \"2\":\n",
        "    play_audio(\"You run towards the busy street, hoping to find someone to help you. As you get closer, you realize that the figure is a police officer. You stop and explain what happened, and the officer escorts you home safely.\")\n",
        "ipd.clear_output(wait=True)\n",
        "input(\"Press Enter to continue...\")\n",
        "\n",
        "# Stage 2\n",
        "play_audio(\"You arrive home and find that your front door is slightly open. Do you go inside or call the police?\")\n",
        "ipd.clear_output(wait=True)\n",
        "choice = input(\"Enter 1 to go inside, or 2 to call the police: \")\n",
        "if choice == \"1\":\n",
        "    play_audio(\"You cautiously enter your home and find that everything is as you left it. You breathe a sigh of relief and go about your evening.\")\n",
        "elif choice == \"2\":\n",
        "    play_audio(\"You call the police and they arrive shortly after. They search your home and find no one inside. You spend the night at a friend's house and return home the next day.\")\n",
        "ipd.clear_output(wait=True)\n",
        "input(\"Press Enter to continue...\")\n",
        "\n",
        "# Conclusion\n",
        "play_audio(\"Good choice! you have successfully made it home safely. Thanks for playing!\")\n",
        "ipd.clear_output(wait=True)\n"
      ],
      "metadata": {
        "cellView": "form",
        "id": "mx_BDEl-TqLe"
      },
      "execution_count": null,
      "outputs": []
    },
    {
      "cell_type": "markdown",
      "source": [
        "---\n",
        "# 📙Concepts and elements to cover for our goal:\n",
        "\n",
        "0. Importing modules: Explain how to import a module (like random) and use its functions (like random.shuffle()).\n",
        "\n",
        "1. Python basics: Basic data types (strings, integers, lists, dictionaries), variables, and basic input/output functions (like print() and input()).\n",
        "\n",
        "2. String manipulation: Cover string methods like .strip() and .lower().\n",
        "3. Control structures: Introduce for loops, while loops, and conditional statements (if, elif, else).\n",
        "\n",
        "4. Functions: Explain how to define and use functions, including function parameters. \n",
        "\n",
        "5. F-strings: Introduce f-strings (formatted string literals) and how to embed expressions inside string literals using curly braces {}.\n",
        "---"
      ],
      "metadata": {
        "id": "2VMRdKbJwOsk"
      }
    },
    {
      "cell_type": "markdown",
      "source": [
        "# [0] Importing modules\n",
        "\n",
        "1. **function, (class), module, package, and library**\n",
        "\n",
        "> (class) > functions\n",
        "\n",
        "\n",
        "2. Let's use the analogy of a toolbox: \n",
        "\n",
        "+ **a module** is a single tool, (e.g., random) \n",
        "+ **a package** is a toolbox containing multiple tools (e.g., gTTS)\n",
        "+ **a library** is a set of toolboxes designed for a specific purpose. (e.g., nltk - Natural Language Tool Kit) _>> Next time_"
      ],
      "metadata": {
        "id": "wgZEzhkQwzc3"
      }
    },
    {
      "cell_type": "markdown",
      "source": [
        "##A. 'gTTS' package"
      ],
      "metadata": {
        "id": "298wKG9q7-rN"
      }
    },
    {
      "cell_type": "code",
      "source": [
        "!pip install gtts\n",
        "!pip install IPython\n",
        "from gtts import gTTS\n",
        "from IPython.display import Audio, display"
      ],
      "metadata": {
        "id": "YLCRqNbW8E9J"
      },
      "execution_count": null,
      "outputs": []
    },
    {
      "cell_type": "code",
      "source": [
        "#@markdown etts(), ktts()\n",
        "def etts(text):\n",
        "  text_to_say = text\n",
        "\n",
        "  gtts_object = gTTS(text = text_to_say,\n",
        "                     lang = \"en\",\n",
        "                    slow = False)\n",
        "  \n",
        "  gtts_object.save(\"E-audio.mp3\")\n",
        "  return Audio(\"E-audio.mp3\")\n",
        "\n",
        "def ktts(text):\n",
        "  text_to_say = text\n",
        "\n",
        "  gtts_object = gTTS(text = text_to_say,\n",
        "                     lang = \"ko\",\n",
        "                    slow = False)\n",
        "  \n",
        "  gtts_object.save(\"K-audio.mp3\")\n",
        "  return Audio(\"K-audio.mp3\")"
      ],
      "metadata": {
        "cellView": "form",
        "id": "bYDfENzGRUFb"
      },
      "execution_count": null,
      "outputs": []
    },
    {
      "cell_type": "markdown",
      "source": [
        "## B. 'random' module\n",
        "\n",
        "[Random Picker App using 'random'](https://github.com/MK316/Spring2023/blob/main/RandomPickerS23.ipynb)"
      ],
      "metadata": {
        "id": "vSFe_Umb68o9"
      }
    },
    {
      "cell_type": "code",
      "source": [
        "import random"
      ],
      "metadata": {
        "id": "t8tYICF_1Yx8"
      },
      "execution_count": 5,
      "outputs": []
    },
    {
      "cell_type": "markdown",
      "source": [
        "Return a number between 3 and 9 (both included):"
      ],
      "metadata": {
        "id": "RlWQ5dXark-r"
      }
    },
    {
      "cell_type": "code",
      "source": [
        "random.randint(1, 10) #random.randint(x,y)는 함수이므로 문법대로 사용해야 함."
      ],
      "metadata": {
        "colab": {
          "base_uri": "https://localhost:8080/"
        },
        "id": "sMf1Ow7W11EZ",
        "outputId": "2ad52114-b916-46f2-f9d5-6a511ba9ea5c"
      },
      "execution_count": 17,
      "outputs": [
        {
          "output_type": "execute_result",
          "data": {
            "text/plain": [
              "5"
            ]
          },
          "metadata": {},
          "execution_count": 17
        }
      ]
    },
    {
      "cell_type": "code",
      "source": [
        "a1 = random.randint(1, 10)\n",
        "a1*10  #변수를 이용하면 결과값을 이용한 다른 연산이나 작업이 가능하다."
      ],
      "metadata": {
        "colab": {
          "base_uri": "https://localhost:8080/"
        },
        "id": "WUVN9-Rs825s",
        "outputId": "b1279e7f-4c1a-4b5e-db31-7ace45786b8c"
      },
      "execution_count": 21,
      "outputs": [
        {
          "output_type": "execute_result",
          "data": {
            "text/plain": [
              "80"
            ]
          },
          "metadata": {},
          "execution_count": 21
        }
      ]
    },
    {
      "cell_type": "markdown",
      "source": [
        "# [1] Python basics: \n",
        "\n",
        "+ Basic data types (strings, integers, lists, dictionaries), \n",
        "+ variables, \n",
        "+ basic input/output functions (like print() and input()).\n",
        "\n"
      ],
      "metadata": {
        "id": "_vTm-kXl8qa_"
      }
    },
    {
      "cell_type": "markdown",
      "source": [
        "## [1-1] Basic data types"
      ],
      "metadata": {
        "id": "qaQ0_hkoENRX"
      }
    },
    {
      "cell_type": "markdown",
      "source": [
        "### A. strings"
      ],
      "metadata": {
        "id": "HB86s1k990Hh"
      }
    },
    {
      "cell_type": "code",
      "source": [
        "a2 = \"Welcome\"\n",
        "a3 = \"2023\""
      ],
      "metadata": {
        "id": "L_OImwSL94Kr"
      },
      "execution_count": null,
      "outputs": []
    },
    {
      "cell_type": "markdown",
      "source": [
        "☺️ DIY: How to get \"Welcome, 2023!\""
      ],
      "metadata": {
        "id": "wkYUBwu1-IvG"
      }
    },
    {
      "cell_type": "code",
      "source": [],
      "metadata": {
        "id": "XZ2LHJcl9_u4",
        "outputId": "f6b592bd-8a7f-4b62-e14f-f97e80cdece8",
        "colab": {
          "base_uri": "https://localhost:8080/",
          "height": 35
        }
      },
      "execution_count": null,
      "outputs": [
        {
          "output_type": "execute_result",
          "data": {
            "text/plain": [
              "'Welcome, 2023!'"
            ],
            "application/vnd.google.colaboratory.intrinsic+json": {
              "type": "string"
            }
          },
          "metadata": {},
          "execution_count": 20
        }
      ]
    },
    {
      "cell_type": "markdown",
      "source": [
        "☺️ DIY: Let a4 = \"화이팅\", and get '화이팅화이팅화이팅화이팅화이팅화이팅화이팅화이팅화이팅화이팅'(10번)"
      ],
      "metadata": {
        "id": "WNaHBznU-yEd"
      }
    },
    {
      "cell_type": "code",
      "source": [],
      "metadata": {
        "id": "0vfPcih3-xg4",
        "outputId": "be3891a2-8eba-4f0b-a31b-9e0ed445871a",
        "colab": {
          "base_uri": "https://localhost:8080/",
          "height": 35
        }
      },
      "execution_count": null,
      "outputs": [
        {
          "output_type": "execute_result",
          "data": {
            "text/plain": [
              "'화이팅화이팅화이팅화이팅화이팅화이팅화이팅화이팅화이팅화이팅'"
            ],
            "application/vnd.google.colaboratory.intrinsic+json": {
              "type": "string"
            }
          },
          "metadata": {},
          "execution_count": 21
        }
      ]
    },
    {
      "cell_type": "code",
      "source": [
        "type(a2). # data type of the variable a2"
      ],
      "metadata": {
        "colab": {
          "base_uri": "https://localhost:8080/"
        },
        "id": "1XroWNyGADZU",
        "outputId": "05a0322b-a18c-401f-8aa2-ec8a7975d907"
      },
      "execution_count": null,
      "outputs": [
        {
          "output_type": "execute_result",
          "data": {
            "text/plain": [
              "str"
            ]
          },
          "metadata": {},
          "execution_count": 22
        }
      ]
    },
    {
      "cell_type": "markdown",
      "source": [
        "###B. Integers, float"
      ],
      "metadata": {
        "id": "kpNXrqZ2_9I2"
      }
    },
    {
      "cell_type": "code",
      "source": [
        "x1 = 45; y1 = 0.5\n",
        "x1 * y1"
      ],
      "metadata": {
        "colab": {
          "base_uri": "https://localhost:8080/"
        },
        "id": "CEs2BHNbAB1Q",
        "outputId": "e63af813-d7ca-422b-91d2-75a50ef4564e"
      },
      "execution_count": null,
      "outputs": [
        {
          "output_type": "execute_result",
          "data": {
            "text/plain": [
              "22.5"
            ]
          },
          "metadata": {},
          "execution_count": 23
        }
      ]
    },
    {
      "cell_type": "code",
      "source": [],
      "metadata": {
        "id": "2WarI3IQsRJX",
        "outputId": "8304e3e2-9753-45f0-adb6-b2da469a304a",
        "colab": {
          "base_uri": "https://localhost:8080/"
        }
      },
      "execution_count": null,
      "outputs": [
        {
          "output_type": "execute_result",
          "data": {
            "text/plain": [
              "float"
            ]
          },
          "metadata": {},
          "execution_count": 24
        }
      ]
    },
    {
      "cell_type": "markdown",
      "source": [
        "### C. List datatype"
      ],
      "metadata": {
        "id": "S7PJcJFkBO46"
      }
    },
    {
      "cell_type": "code",
      "source": [
        "x2 = [1,2,3]\n",
        "x2"
      ],
      "metadata": {
        "colab": {
          "base_uri": "https://localhost:8080/"
        },
        "id": "LjSEH6lABR98",
        "outputId": "eb284b7f-40ef-48c5-ea6f-926543a1ee7b"
      },
      "execution_count": null,
      "outputs": [
        {
          "output_type": "execute_result",
          "data": {
            "text/plain": [
              "[1, 2, 3]"
            ]
          },
          "metadata": {},
          "execution_count": 26
        }
      ]
    },
    {
      "cell_type": "markdown",
      "source": [
        "x2[index]: Python index starts from 0"
      ],
      "metadata": {
        "id": "xcPyj0Fesdiu"
      }
    },
    {
      "cell_type": "code",
      "source": [
        "x2[0]"
      ],
      "metadata": {
        "id": "VGWl1av6BYGu"
      },
      "execution_count": null,
      "outputs": []
    },
    {
      "cell_type": "code",
      "source": [
        "# range(x,y)\n",
        "x3 = range(1,10)\n",
        "list(x3)  #list(), range(1,10)"
      ],
      "metadata": {
        "colab": {
          "base_uri": "https://localhost:8080/"
        },
        "id": "WNmjoCQ1ANr4",
        "outputId": "9e1cf838-bd7f-47f5-def6-731599ef24a5"
      },
      "execution_count": null,
      "outputs": [
        {
          "output_type": "execute_result",
          "data": {
            "text/plain": [
              "[1, 2, 3, 4, 5, 6, 7, 8, 9]"
            ]
          },
          "metadata": {},
          "execution_count": 28
        }
      ]
    },
    {
      "cell_type": "code",
      "source": [
        "x4 = \"John\"\n",
        "list(x4)"
      ],
      "metadata": {
        "colab": {
          "base_uri": "https://localhost:8080/"
        },
        "id": "amRP-ytuBlO6",
        "outputId": "a8eeef49-a6aa-4452-f9e2-d933278c0bdc"
      },
      "execution_count": null,
      "outputs": [
        {
          "output_type": "execute_result",
          "data": {
            "text/plain": [
              "['J', 'o', 'h', 'n']"
            ]
          },
          "metadata": {},
          "execution_count": 29
        }
      ]
    },
    {
      "cell_type": "markdown",
      "source": [
        "###D. Dictionary datatype: {'key':'value'}\n",
        "\n",
        "In Python, a dictionary is a built-in data type that represents a collection of key-value pairs. Each key-value pair in a dictionary is separated by a colon (:), and each pair is separated by a comma. "
      ],
      "metadata": {
        "id": "ZoyOSN_QCCdO"
      }
    },
    {
      "cell_type": "code",
      "source": [
        "mydict = {\"API\":\"Application Programming Interface\", \"GPT\":\"Generative Pretrained Transformer\"}\n",
        "mydict['API']"
      ],
      "metadata": {
        "colab": {
          "base_uri": "https://localhost:8080/",
          "height": 35
        },
        "id": "PdRkfL3JBMWK",
        "outputId": "0e165aee-8079-4359-c38e-64e33c14c9ac"
      },
      "execution_count": null,
      "outputs": [
        {
          "output_type": "execute_result",
          "data": {
            "text/plain": [
              "'Application Programming Interface'"
            ],
            "application/vnd.google.colaboratory.intrinsic+json": {
              "type": "string"
            }
          },
          "metadata": {},
          "execution_count": 30
        }
      ]
    },
    {
      "cell_type": "code",
      "source": [
        "mydict['GPT']"
      ],
      "metadata": {
        "id": "muVfPouBs47b",
        "outputId": "1d08be3c-9e45-4a57-c0e4-1d7ff7368986",
        "colab": {
          "base_uri": "https://localhost:8080/",
          "height": 35
        }
      },
      "execution_count": null,
      "outputs": [
        {
          "output_type": "execute_result",
          "data": {
            "text/plain": [
              "'Generative Pretrained Transformer'"
            ],
            "application/vnd.google.colaboratory.intrinsic+json": {
              "type": "string"
            }
          },
          "metadata": {},
          "execution_count": 31
        }
      ]
    },
    {
      "cell_type": "code",
      "source": [
        "class_size = {\"Class A\": 25, \"Class B\": 30, \"Class C\": 32}\n",
        "class_size['Class C']"
      ],
      "metadata": {
        "colab": {
          "base_uri": "https://localhost:8080/"
        },
        "id": "WBs-NrEJDQRC",
        "outputId": "6c9a6b9f-6471-4424-a133-d47bb0d08f8c"
      },
      "execution_count": null,
      "outputs": [
        {
          "output_type": "execute_result",
          "data": {
            "text/plain": [
              "32"
            ]
          },
          "metadata": {},
          "execution_count": 32
        }
      ]
    },
    {
      "cell_type": "markdown",
      "source": [
        "## [1-2] Variables"
      ],
      "metadata": {
        "id": "0m_ux_SoEUos"
      }
    },
    {
      "cell_type": "markdown",
      "source": [
        "## [1-3] input/output functions"
      ],
      "metadata": {
        "id": "YUasz63dEYAX"
      }
    },
    {
      "cell_type": "code",
      "source": [
        "mynumber = 2\n",
        "mynumber"
      ],
      "metadata": {
        "colab": {
          "base_uri": "https://localhost:8080/"
        },
        "id": "BSp7TWkeEfmz",
        "outputId": "3bcd84d2-c721-4bc7-da68-a245706b8b5c"
      },
      "execution_count": null,
      "outputs": [
        {
          "output_type": "execute_result",
          "data": {
            "text/plain": [
              "2"
            ]
          },
          "metadata": {},
          "execution_count": 87
        }
      ]
    },
    {
      "cell_type": "code",
      "source": [
        "yournumber = input()  # In Python, input() is a built-in function that allows you to get user input from the keyboard. \n",
        "yournumber"
      ],
      "metadata": {
        "colab": {
          "base_uri": "https://localhost:8080/",
          "height": 53
        },
        "id": "6LZudH_0En_w",
        "outputId": "783d5cc3-75a8-465a-963e-b294e0816f0a"
      },
      "execution_count": null,
      "outputs": [
        {
          "name": "stdout",
          "output_type": "stream",
          "text": [
            "4\n"
          ]
        },
        {
          "output_type": "execute_result",
          "data": {
            "text/plain": [
              "'4'"
            ],
            "application/vnd.google.colaboratory.intrinsic+json": {
              "type": "string"
            }
          },
          "metadata": {},
          "execution_count": 33
        }
      ]
    },
    {
      "cell_type": "markdown",
      "source": [
        "☺️ After running the code below, can you tell what the resulting output means?"
      ],
      "metadata": {
        "id": "-Z1mQqzlH4k5"
      }
    },
    {
      "cell_type": "code",
      "source": [
        "yournumber*5"
      ],
      "metadata": {
        "colab": {
          "base_uri": "https://localhost:8080/",
          "height": 35
        },
        "id": "5cGgSs3qHxG_",
        "outputId": "61f4269a-ed03-4cae-f717-7f70b0c34f76"
      },
      "execution_count": null,
      "outputs": [
        {
          "output_type": "execute_result",
          "data": {
            "text/plain": [
              "'44444'"
            ],
            "application/vnd.google.colaboratory.intrinsic+json": {
              "type": "string"
            }
          },
          "metadata": {},
          "execution_count": 34
        }
      ]
    },
    {
      "cell_type": "code",
      "source": [
        "type(yournumber)"
      ],
      "metadata": {
        "colab": {
          "base_uri": "https://localhost:8080/"
        },
        "id": "664rKEalISSY",
        "outputId": "5314bd92-1d93-4d40-d399-b18d7d3b8930"
      },
      "execution_count": null,
      "outputs": [
        {
          "output_type": "execute_result",
          "data": {
            "text/plain": [
              "str"
            ]
          },
          "metadata": {},
          "execution_count": 35
        }
      ]
    },
    {
      "cell_type": "code",
      "source": [
        "yournumber = int(yournumber) # changing the type of the value to integer\n",
        "type(yournumber)"
      ],
      "metadata": {
        "colab": {
          "base_uri": "https://localhost:8080/"
        },
        "id": "u_ocEyoAIVC4",
        "outputId": "cae55304-aabb-4b25-bf49-c0c051815f76"
      },
      "execution_count": null,
      "outputs": [
        {
          "output_type": "execute_result",
          "data": {
            "text/plain": [
              "int"
            ]
          },
          "metadata": {},
          "execution_count": 36
        }
      ]
    },
    {
      "cell_type": "markdown",
      "source": [
        "Getting output:"
      ],
      "metadata": {
        "id": "Z9Kzd8ZW7Bri"
      }
    },
    {
      "cell_type": "code",
      "source": [
        "# print() 함수 배우기\n",
        "print(\"대한민국\")\n",
        "\n",
        "a2 = \"화이팅!\"  # a1: variable(변수)\n",
        "print(a2)\n",
        "print(a2*10)\n",
        "print(\"화이팅 10번 합시다: \", a2*10)\n",
        "a2"
      ],
      "metadata": {
        "id": "aQXDo7u-4-18",
        "outputId": "d02c1b36-7980-4293-8168-c3d350b08205",
        "colab": {
          "base_uri": "https://localhost:8080/",
          "height": 105
        }
      },
      "execution_count": null,
      "outputs": [
        {
          "output_type": "stream",
          "name": "stdout",
          "text": [
            "대한민국\n",
            "화이팅!\n",
            "화이팅!화이팅!화이팅!화이팅!화이팅!화이팅!화이팅!화이팅!화이팅!화이팅!\n",
            "화이팅 10번 합시다:  화이팅!화이팅!화이팅!화이팅!화이팅!화이팅!화이팅!화이팅!화이팅!화이팅!\n"
          ]
        },
        {
          "output_type": "execute_result",
          "data": {
            "text/plain": [
              "'화이팅!'"
            ],
            "application/vnd.google.colaboratory.intrinsic+json": {
              "type": "string"
            }
          },
          "metadata": {},
          "execution_count": 37
        }
      ]
    },
    {
      "cell_type": "code",
      "source": [
        "print(a2)\n",
        "print(\"=\"*30)\n",
        "a1=random.randint(1,10)\n",
        "print(\"Random integer between 1 and 10:\", a1)"
      ],
      "metadata": {
        "colab": {
          "base_uri": "https://localhost:8080/"
        },
        "id": "0jdQu65F2ZWw",
        "outputId": "3a5d1c38-1e5a-4df4-8b8a-e7d3b08ce48b"
      },
      "execution_count": null,
      "outputs": [
        {
          "output_type": "stream",
          "name": "stdout",
          "text": [
            "화이팅!\n",
            "==============================\n",
            "Random integer between 1 and 10: 7\n"
          ]
        }
      ]
    },
    {
      "cell_type": "markdown",
      "source": [
        "☺️DIY: \n",
        "**Q: John and Mary have been together for many days. Ask Mary how many days it has been since she met John. Then you tell Mary how many hours it has been since she met John.**\n",
        "\n",
        "1. Set the variable 'day' to 24\n",
        "2. Set the variable 'num_day' for the input from the user. Get a number (number of days) from the user using input() function\n",
        "2. Calculate days to hours: set the variable 'hours' to the final result."
      ],
      "metadata": {
        "id": "cvkWAvetFtSP"
      }
    },
    {
      "cell_type": "code",
      "source": [
        "day = \n",
        "num_day = \n",
        "hours = \n",
        "print(\"The total hours passed since Mary met John are: \", hours, \"hours.\")"
      ],
      "metadata": {
        "id": "Fdezo9WD1zju",
        "outputId": "174b66de-637f-420b-f218-3dbcf86e8f5b",
        "colab": {
          "base_uri": "https://localhost:8080/"
        }
      },
      "execution_count": null,
      "outputs": [
        {
          "output_type": "stream",
          "name": "stdout",
          "text": [
            "How many days? 23\n",
            "The total hours passed since Mary met John are:  552 hours.\n"
          ]
        }
      ]
    },
    {
      "cell_type": "markdown",
      "source": [
        "#[2] String manipulation: strip() and .lower().\n",
        "\n"
      ],
      "metadata": {
        "id": "zzkVAfU61HDk"
      }
    },
    {
      "cell_type": "markdown",
      "source": [
        "### **data.strip()**\n",
        "\n",
        "+ In Python, strip() is a built-in string method that returns a copy of the string with leading and trailing characters removed. \n",
        "+ By default, strip() removes whitespace characters such as spaces, tabs, and newlines from the beginning and end of the string."
      ],
      "metadata": {
        "id": "sSi_PvE5LTeC"
      }
    },
    {
      "cell_type": "code",
      "source": [
        "w1 = \" Mary is friendly. \"\n",
        "w1"
      ],
      "metadata": {
        "colab": {
          "base_uri": "https://localhost:8080/",
          "height": 35
        },
        "id": "IUtU-qG81XIt",
        "outputId": "e220311b-615a-4482-fcf3-989e2bcf0a26"
      },
      "execution_count": null,
      "outputs": [
        {
          "output_type": "execute_result",
          "data": {
            "text/plain": [
              "' Mary is friendly. '"
            ],
            "application/vnd.google.colaboratory.intrinsic+json": {
              "type": "string"
            }
          },
          "metadata": {},
          "execution_count": 46
        }
      ]
    },
    {
      "cell_type": "code",
      "source": [
        "w1.strip()"
      ],
      "metadata": {
        "colab": {
          "base_uri": "https://localhost:8080/",
          "height": 35
        },
        "id": "ZAhdPbqVKr6e",
        "outputId": "cd233fa9-fd66-4f89-da29-02e5f8e8ddf7"
      },
      "execution_count": null,
      "outputs": [
        {
          "output_type": "execute_result",
          "data": {
            "text/plain": [
              "'Mary is friendly.'"
            ],
            "application/vnd.google.colaboratory.intrinsic+json": {
              "type": "string"
            }
          },
          "metadata": {},
          "execution_count": 47
        }
      ]
    },
    {
      "cell_type": "markdown",
      "source": [
        "### **data.split()**"
      ],
      "metadata": {
        "id": "JGPdtmu8MFgv"
      }
    },
    {
      "cell_type": "code",
      "source": [
        "w1 = \"Mary is friendly.\"\n",
        "w1.split()"
      ],
      "metadata": {
        "colab": {
          "base_uri": "https://localhost:8080/"
        },
        "id": "xbF1sJB9MIpw",
        "outputId": "b9175d5c-0146-44ee-a8dc-9e11d71cdbd9"
      },
      "execution_count": null,
      "outputs": [
        {
          "output_type": "execute_result",
          "data": {
            "text/plain": [
              "['Mary', 'is', 'friendly.']"
            ]
          },
          "metadata": {},
          "execution_count": 48
        }
      ]
    },
    {
      "cell_type": "code",
      "source": [
        "w2 = \"out-of-date\"\n",
        "w2.split('-')"
      ],
      "metadata": {
        "colab": {
          "base_uri": "https://localhost:8080/"
        },
        "id": "IudKgTjkMVQP",
        "outputId": "fffcbccf-0217-466c-bcc2-d35131bd60c7"
      },
      "execution_count": null,
      "outputs": [
        {
          "output_type": "execute_result",
          "data": {
            "text/plain": [
              "['out', 'of', 'date']"
            ]
          },
          "metadata": {},
          "execution_count": 49
        }
      ]
    },
    {
      "cell_type": "code",
      "source": [
        "w1 = \"Mary\"\n",
        "w2 = \"is\"\n",
        "w3 = \"friendly\""
      ],
      "metadata": {
        "id": "tGBOKKKtLvj7"
      },
      "execution_count": null,
      "outputs": []
    },
    {
      "cell_type": "code",
      "source": [
        "wordlist = [w1, w2, w3]\n",
        "wordlist"
      ],
      "metadata": {
        "colab": {
          "base_uri": "https://localhost:8080/"
        },
        "id": "c11AXGr0V_a4",
        "outputId": "f5a0b40c-c834-4888-c9fa-b243ac79243e"
      },
      "execution_count": null,
      "outputs": [
        {
          "output_type": "execute_result",
          "data": {
            "text/plain": [
              "['Mary', 'is', 'friendly']"
            ]
          },
          "metadata": {},
          "execution_count": 51
        }
      ]
    },
    {
      "cell_type": "markdown",
      "source": [
        "### **' '.join()**"
      ],
      "metadata": {
        "id": "Mb-LFWWPWn08"
      }
    },
    {
      "cell_type": "code",
      "source": [
        "' '.join(wordlist)"
      ],
      "metadata": {
        "colab": {
          "base_uri": "https://localhost:8080/",
          "height": 35
        },
        "id": "tZA7DsPPWGmA",
        "outputId": "90221f13-9bd2-40de-da6a-de32c074fb58"
      },
      "execution_count": null,
      "outputs": [
        {
          "output_type": "execute_result",
          "data": {
            "text/plain": [
              "'Mary is friendly'"
            ],
            "application/vnd.google.colaboratory.intrinsic+json": {
              "type": "string"
            }
          },
          "metadata": {},
          "execution_count": 52
        }
      ]
    },
    {
      "cell_type": "code",
      "source": [
        "'-'.join(wordlist)"
      ],
      "metadata": {
        "colab": {
          "base_uri": "https://localhost:8080/",
          "height": 35
        },
        "id": "EjLtWSL5WdYy",
        "outputId": "4ce99690-92b2-4ac7-b8c2-ee45569c21fe"
      },
      "execution_count": null,
      "outputs": [
        {
          "output_type": "execute_result",
          "data": {
            "text/plain": [
              "'Mary-is-friendly'"
            ],
            "application/vnd.google.colaboratory.intrinsic+json": {
              "type": "string"
            }
          },
          "metadata": {},
          "execution_count": 53
        }
      ]
    },
    {
      "cell_type": "markdown",
      "source": [
        "### **data.lower(), data.upper()**"
      ],
      "metadata": {
        "id": "PgCIMbbcL29X"
      }
    },
    {
      "cell_type": "code",
      "source": [
        "w1.lower()"
      ],
      "metadata": {
        "colab": {
          "base_uri": "https://localhost:8080/",
          "height": 35
        },
        "id": "JGqTVM22MuH0",
        "outputId": "118e59a5-ab1a-4271-98b6-5e38fd509488"
      },
      "execution_count": null,
      "outputs": [
        {
          "output_type": "execute_result",
          "data": {
            "text/plain": [
              "'mary'"
            ],
            "application/vnd.google.colaboratory.intrinsic+json": {
              "type": "string"
            }
          },
          "metadata": {},
          "execution_count": 54
        }
      ]
    },
    {
      "cell_type": "code",
      "source": [
        "w1.upper()"
      ],
      "metadata": {
        "colab": {
          "base_uri": "https://localhost:8080/",
          "height": 35
        },
        "id": "fP2lBss3Myhq",
        "outputId": "7b93479c-d868-4f9d-d120-456ed03398a4"
      },
      "execution_count": null,
      "outputs": [
        {
          "output_type": "execute_result",
          "data": {
            "text/plain": [
              "'MARY'"
            ],
            "application/vnd.google.colaboratory.intrinsic+json": {
              "type": "string"
            }
          },
          "metadata": {},
          "execution_count": 55
        }
      ]
    },
    {
      "cell_type": "markdown",
      "source": [
        "string index"
      ],
      "metadata": {
        "id": "yZJk2NtCM_oz"
      }
    },
    {
      "cell_type": "code",
      "source": [
        "len(w1) #number of string"
      ],
      "metadata": {
        "colab": {
          "base_uri": "https://localhost:8080/"
        },
        "id": "HmuiXLZSNGNa",
        "outputId": "a04863f4-d425-4cca-ae44-b0b8506c2910"
      },
      "execution_count": null,
      "outputs": [
        {
          "output_type": "execute_result",
          "data": {
            "text/plain": [
              "4"
            ]
          },
          "metadata": {},
          "execution_count": 56
        }
      ]
    },
    {
      "cell_type": "code",
      "source": [
        "w1[0] #1st string"
      ],
      "metadata": {
        "colab": {
          "base_uri": "https://localhost:8080/",
          "height": 35
        },
        "id": "xiyozLYxM6xk",
        "outputId": "b87c69f9-889e-4473-b142-33ef06d35790"
      },
      "execution_count": null,
      "outputs": [
        {
          "output_type": "execute_result",
          "data": {
            "text/plain": [
              "'M'"
            ],
            "application/vnd.google.colaboratory.intrinsic+json": {
              "type": "string"
            }
          },
          "metadata": {},
          "execution_count": 57
        }
      ]
    },
    {
      "cell_type": "code",
      "source": [
        "w1[-1]"
      ],
      "metadata": {
        "colab": {
          "base_uri": "https://localhost:8080/",
          "height": 35
        },
        "id": "AY_Ii7FhNeof",
        "outputId": "4cda0399-33ee-42f3-bf12-9f6aa11cd329"
      },
      "execution_count": null,
      "outputs": [
        {
          "output_type": "execute_result",
          "data": {
            "text/plain": [
              "'y'"
            ],
            "application/vnd.google.colaboratory.intrinsic+json": {
              "type": "string"
            }
          },
          "metadata": {},
          "execution_count": 58
        }
      ]
    },
    {
      "cell_type": "code",
      "source": [
        "w1[0:]"
      ],
      "metadata": {
        "id": "vhfF3iXwNijx"
      },
      "execution_count": null,
      "outputs": []
    },
    {
      "cell_type": "code",
      "source": [
        "w1[:]"
      ],
      "metadata": {
        "id": "pW4m0FoyNlf4"
      },
      "execution_count": null,
      "outputs": []
    },
    {
      "cell_type": "code",
      "source": [
        "w1[1:3]"
      ],
      "metadata": {
        "id": "tgp9ozDdNpwd"
      },
      "execution_count": null,
      "outputs": []
    },
    {
      "cell_type": "code",
      "source": [
        "w = \"mary\"\n",
        "w[0:-1]"
      ],
      "metadata": {
        "id": "0Su3TuHfPxwh"
      },
      "execution_count": null,
      "outputs": []
    },
    {
      "cell_type": "markdown",
      "source": [
        "☺️ DIY: Convert a statement to a yes-no question (e.g., Mary is smart. Tom is smiling. Jane is late.)"
      ],
      "metadata": {
        "id": "lGVkVdCLNMz0"
      }
    },
    {
      "cell_type": "code",
      "source": [
        "w1 = \"Mary\"; w2 = \"is\"; w3 = \"friendly.\""
      ],
      "metadata": {
        "id": "nz1VNUviNXaJ"
      },
      "execution_count": null,
      "outputs": []
    }
  ]
}
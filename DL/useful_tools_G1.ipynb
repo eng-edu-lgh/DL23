{
  "nbformat": 4,
  "nbformat_minor": 0,
  "metadata": {
    "colab": {
      "provenance": [],
      "include_colab_link": true
    },
    "kernelspec": {
      "name": "python3",
      "display_name": "Python 3"
    },
    "language_info": {
      "name": "python"
    }
  },
  "cells": [
    {
      "cell_type": "markdown",
      "metadata": {
        "id": "view-in-github",
        "colab_type": "text"
      },
      "source": [
        "<a href=\"https://colab.research.google.com/github/eng-edu-lgh/DL23/blob/main/DL/useful_tools_G1.ipynb\" target=\"_parent\"><img src=\"https://colab.research.google.com/assets/colab-badge.svg\" alt=\"Open In Colab\"/></a>"
      ]
    },
    {
      "cell_type": "markdown",
      "source": [
        "# Useful digital tools (2 videos) to share (by April 5, and 11)\n",
        "\n",
        "- Each group creates 2 introductory videos to introduce useful tools for English learners and future English teachers\n",
        "- Use Emoji from 💫[here](https://gist.github.com/rxaviers/7360908) if you need.\n",
        "- Save a copy in Github (file name: e.g., useful_tools_G1.ipynb)"
      ],
      "metadata": {
        "id": "-WudhQkbdW4p"
      }
    },
    {
      "cell_type": "markdown",
      "source": [
        "## Setting-ups"
      ],
      "metadata": {
        "id": "ZhvM1ULqdqte"
      }
    },
    {
      "cell_type": "code",
      "source": [
        "#@markdown 💠 Import libraries {Image, Audio, YouTubeVideo}\n",
        "from IPython.display import Image, Audio, YouTubeVideo"
      ],
      "metadata": {
        "cellView": "form",
        "id": "TPblYRDIWasG"
      },
      "execution_count": 2,
      "outputs": []
    },
    {
      "cell_type": "markdown",
      "source": [
        "# Group 1"
      ],
      "metadata": {
        "id": "8MKCXpN7dyPi"
      }
    },
    {
      "cell_type": "markdown",
      "source": [
        "## 🎬 Video [1]\n",
        "\n",
        "Once you created the first video, upload it on youtube, get the link, and replace the video ID below with yours\n",
        "\n",
        "e.g., \"bRlicxf8iJQ\" => \"your video id\"\n",
        "\n",
        "* Video ID is the string after \"v=\" in the example below:\n",
        "\n",
        "https://www.youtube.com/watch?v=cPBchPGf168"
      ],
      "metadata": {
        "id": "c7jVG8fWhtAS"
      }
    },
    {
      "cell_type": "code",
      "source": [
        "video = YouTubeVideo(\"bRlicxf8iJQ\", width=500)\n",
        "display(video)"
      ],
      "metadata": {
        "id": "_AIwcjfbfeR7",
        "outputId": "5b11fc01-4aaf-4502-ea16-9afe0df8382f",
        "colab": {
          "base_uri": "https://localhost:8080/",
          "height": 321
        }
      },
      "execution_count": null,
      "outputs": [
        {
          "output_type": "display_data",
          "data": {
            "text/plain": [
              "<IPython.lib.display.YouTubeVideo at 0x7f1201883a00>"
            ],
            "text/html": [
              "\n",
              "        <iframe\n",
              "            width=\"500\"\n",
              "            height=\"300\"\n",
              "            src=\"https://www.youtube.com/embed/bRlicxf8iJQ\"\n",
              "            frameborder=\"0\"\n",
              "            allowfullscreen\n",
              "        ></iframe>\n",
              "        "
            ],
            "image/jpeg": "[encoded data removed]"
          },
          "metadata": {}
        }
      ]
    },
    {
      "cell_type": "markdown",
      "source": [
        "(Optional) And use the following for multiple images (from your Github account) if you want.\n",
        "\n",
        "You need to change the url links in the code below: Show code > change the url\n",
        "\n",
        "1. If the number of images are 2, change [1,2,3] > [1,2]\n",
        "2. Replace the image links (2 links keeping the same format)\n"
      ],
      "metadata": {
        "id": "-_rW89-ogPwG"
      }
    },
    {
      "cell_type": "code",
      "source": [
        "image_list = \"1\" #@param = [1,2,3]\n",
        "url_list = [\"https://raw.githubusercontent.com/user/repo/main/image.png\",\n",
        "            \"https://raw.githubusercontent.com/user/repo/main/image.png\",\n",
        "            \"https://raw.githubusercontent.com/user/repo/main/image.png\"]\n",
        "\n",
        "n = int(image_list)\n",
        "image_url = url_list[n]-1\n",
        "image = Image(url=image_url, width = 800, height = 600)\n",
        "display(image)"
      ],
      "metadata": {
        "cellView": "form",
        "id": "0v31AV2fekCU"
      },
      "execution_count": null,
      "outputs": []
    },
    {
      "cell_type": "markdown",
      "source": [
        "Show video (from Youtube)"
      ],
      "metadata": {
        "id": "pXxj78zagWGe"
      }
    },
    {
      "cell_type": "code",
      "execution_count": null,
      "metadata": {
        "id": "cszfbA2GcB44",
        "outputId": "f7ca14b8-b8c0-445d-8042-8df1afe67ebe",
        "colab": {
          "base_uri": "https://localhost:8080/",
          "height": 322
        }
      },
      "outputs": [
        {
          "output_type": "display_data",
          "data": {
            "text/plain": [
              "<IPython.lib.display.YouTubeVideo at 0x7fe0385d12e0>"
            ],
            "text/html": [
              "\n",
              "        <iframe\n",
              "            width=\"800\"\n",
              "            height=\"300\"\n",
              "            src=\"https://www.youtube.com/embed/n0rIuCLD_MA\"\n",
              "            frameborder=\"0\"\n",
              "            allowfullscreen\n",
              "            \n",
              "        ></iframe>\n",
              "        "
            ],
            "image/jpeg": "[encoded data removed]"
          },
          "metadata": {}
        }
      ],
      "source": [
        "video = YouTubeVideo(\"n0rIuCLD_MA\", width=800)\n",
        "display(video)"
      ]
    },
    {
      "cell_type": "markdown",
      "source": [
        "## 🎬 Video [2]\n",
        "\n",
        "Copy and paste necessary cells to do the same step from Video [1]"
      ],
      "metadata": {
        "id": "2AQCdbfHhvkY"
      }
    },
    {
      "cell_type": "code",
      "source": [
        "video = YouTubeVideo(\"y1_JjD1xj0w\", width=800)\n",
        "display(video)"
      ],
      "metadata": {
        "id": "HrGPK53mmzuL",
        "outputId": "8ce66bdd-9168-466b-ba30-c3bbde50601a",
        "colab": {
          "base_uri": "https://localhost:8080/",
          "height": 322
        }
      },
      "execution_count": 3,
      "outputs": [
        {
          "output_type": "display_data",
          "data": {
            "text/plain": [
              "<IPython.lib.display.YouTubeVideo at 0x7f6411a5f160>"
            ],
            "text/html": [
              "\n",
              "        <iframe\n",
              "            width=\"800\"\n",
              "            height=\"300\"\n",
              "            src=\"https://www.youtube.com/embed/y1_JjD1xj0w\"\n",
              "            frameborder=\"0\"\n",
              "            allowfullscreen\n",
              "            \n",
              "        ></iframe>\n",
              "        "
            ],
            "image/jpeg": "[encoded data removed]"
          },
          "metadata": {}
        }
      ]
    }
  ]
}
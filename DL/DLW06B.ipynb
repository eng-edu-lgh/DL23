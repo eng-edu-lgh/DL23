{
  "nbformat": 4,
  "nbformat_minor": 0,
  "metadata": {
    "colab": {
      "provenance": [],
      "include_colab_link": true
    },
    "kernelspec": {
      "name": "python3",
      "display_name": "Python 3"
    },
    "language_info": {
      "name": "python"
    }
  },
  "cells": [
    {
      "cell_type": "markdown",
      "metadata": {
        "id": "view-in-github",
        "colab_type": "text"
      },
      "source": [
        "<a href=\"https://colab.research.google.com/github/eng-edu-lgh/DL23/blob/main/DL/DLW06B.ipynb\" target=\"_parent\"><img src=\"https://colab.research.google.com/assets/colab-badge.svg\" alt=\"Open In Colab\"/></a>"
      ]
    },
    {
      "cell_type": "markdown",
      "source": [
        "# 🌱 **Digital Literacy Week06B (4/12): Useful tools to share 2**\n",
        "## **Project-Based Learning 2**\n",
        "\n",
        "---\n",
        "**To do list:**\n",
        "\n",
        "_Please read the following instructions together with your group members and make it sure that all of you understand what you're supposed to do today._\n",
        "\n",
        "1. Activity [1]: Attendance checking (2 minutes)\n",
        "2. Activity [2]: Watch videos together as a group and evaluate them. (8 minutes)\n",
        "\n",
        ">+ **Videos:** Vedios created by other groups. (2 Videos to watch and evaluate)\n",
        ">+ G1: Watch G6, G2 videos\n",
        ">+ G2: Watch G1, G3 videos\n",
        ">+ G3: Watch G2, G4 videos\n",
        ">+ G4: Watch G3, G5 videos\n",
        ">+ G5: Watch G4, G6 videos\n",
        "\n",
        "3. Activity [3]: Learn basic coding for string data (25 mins)\n",
        "\n",
        "> => Instructions are given below step by step\n",
        "\n",
        "4. Activity [4]: Group Quiz based on Activity [3] (12 minutes)\n",
        "\n",
        "####🚩 (Important) Save the copy of this notebook to the leader's repository after completing the Activity 4. When saving this page, name the file as \"DLW06B_G5.ipynb\" under the DL directory.\n",
        "---\n",
        "5. If you finish your class in group activities, don't forget to to the self-log [link here](https://forms.gle/NUzys1RoPHmYmSDWA)\n",
        "---"
      ],
      "metadata": {
        "id": "Em-8-hgn_czL"
      }
    },
    {
      "cell_type": "markdown",
      "source": [
        "# **Activity [1] Group activity attendance checking (Only for groups who begins class here)**\n",
        "\n",
        "Follow the QR code below (by running the code), and complete the attendance form."
      ],
      "metadata": {
        "id": "gmW9604XAAkw"
      }
    },
    {
      "cell_type": "code",
      "execution_count": null,
      "metadata": {
        "cellView": "form",
        "id": "xDphqjzfz0E5",
        "colab": {
          "base_uri": "https://localhost:8080/",
          "height": 471
        },
        "outputId": "d4c2ca0a-45c6-4b49-af65-971108c03881"
      },
      "outputs": [
        {
          "output_type": "execute_result",
          "data": {
            "text/plain": [
              "<IPython.core.display.SVG object>"
            ],
            "image/svg+xml": "<svg xmlns=\"http://www.w3.org/2000/svg\" height=\"450\" width=\"450\" class=\"pyqrcode\"><path transform=\"scale(10)\" stroke=\"#000\" class=\"pyqrline\" d=\"M4 4.5h7m1 0h1m2 0h1m1 0h3m2 0h1m1 0h3m3 0h1m3 0h7m-37 1h1m5 0h1m1 0h1m1 0h1m1 0h1m1 0h2m2 0h1m1 0h1m1 0h1m2 0h3m2 0h1m5 0h1m-37 1h1m1 0h3m1 0h1m2 0h1m1 0h1m2 0h1m2 0h1m3 0h1m4 0h2m2 0h1m1 0h3m1 0h1m-37 1h1m1 0h3m1 0h1m1 0h6m1 0h1m1 0h2m5 0h1m5 0h1m1 0h3m1 0h1m-37 1h1m1 0h3m1 0h1m1 0h1m1 0h1m7 0h1m1 0h2m2 0h2m1 0h1m2 0h1m1 0h3m1 0h1m-37 1h1m5 0h1m1 0h3m3 0h9m1 0h5m1 0h1m5 0h1m-37 1h7m1 0h1m1 0h1m1 0h1m1 0h1m1 0h1m1 0h1m1 0h1m1 0h1m1 0h1m1 0h1m1 0h1m1 0h7m-27 1h5m8 0h2m1 0h1m-24 1h1m2 0h1m3 0h1m1 0h4m1 0h2m2 0h1m2 0h1m2 0h2m2 0h3m1 0h2m-37 1h1m1 0h3m3 0h2m1 0h1m3 0h2m2 0h1m2 0h1m3 0h3m2 0h1m1 0h1m2 0h1m-36 1h3m2 0h1m2 0h1m1 0h2m1 0h1m1 0h1m1 0h1m1 0h2m1 0h1m3 0h1m2 0h1m1 0h1m1 0h3m-36 1h2m2 0h1m1 0h3m1 0h2m1 0h1m1 0h3m1 0h1m1 0h1m2 0h1m2 0h1m2 0h3m-33 1h2m1 0h1m1 0h6m2 0h2m2 0h1m2 0h1m2 0h2m1 0h1m1 0h3m1 0h1m1 0h2m-35 1h1m1 0h1m5 0h3m3 0h1m1 0h1m1 0h1m1 0h1m2 0h1m2 0h1m1 0h2m1 0h1m1 0h2m-35 1h1m2 0h3m1 0h2m1 0h3m1 0h1m1 0h2m2 0h1m1 0h1m1 0h1m3 0h1m1 0h1m1 0h1m1 0h1m-37 1h1m1 0h2m1 0h1m1 0h1m3 0h5m2 0h1m1 0h2m1 0h1m1 0h3m2 0h2m3 0h2m-35 1h3m1 0h2m1 0h3m4 0h2m3 0h1m2 0h2m3 0h3m1 0h2m1 0h1m-36 1h1m2 0h1m2 0h8m3 0h1m2 0h2m3 0h1m3 0h1m1 0h1m1 0h1m1 0h1m-36 1h1m4 0h1m1 0h1m1 0h1m1 0h1m1 0h3m1 0h1m1 0h2m1 0h2m1 0h1m2 0h2m2 0h4m-37 1h4m4 0h2m1 0h1m1 0h5m2 0h1m1 0h3m2 0h1m1 0h1m1 0h2m1 0h1m1 0h1m-35 1h1m1 0h4m1 0h1m2 0h1m4 0h2m2 0h6m1 0h1m1 0h4m1 0h2m-36 1h1m1 0h1m1 0h1m1 0h1m1 0h1m1 0h3m1 0h5m3 0h1m2 0h1m2 0h1m3 0h1m-34 1h2m1 0h1m2 0h1m1 0h2m6 0h2m2 0h5m4 0h1m1 0h6m-37 1h2m1 0h2m6 0h3m1 0h2m1 0h1m1 0h3m3 0h1m3 0h1m1 0h1m3 0h1m-37 1h3m3 0h1m3 0h1m1 0h1m1 0h1m1 0h1m1 0h2m1 0h1m1 0h2m2 0h1m1 0h1m2 0h3m1 0h1m-36 1h1m2 0h1m4 0h1m3 0h1m1 0h2m1 0h2m1 0h1m1 0h2m2 0h3m1 0h2m1 0h3m-37 1h1m1 0h5m2 0h4m6 0h1m1 0h2m1 0h3m2 0h2m1 0h1m3 0h1m-36 1h1m1 0h3m4 0h1m1 0h1m1 0h1m1 0h5m3 0h2m1 0h1m2 0h1m1 0h2m1 0h1m-36 1h2m2 0h6m1 0h1m2 0h2m1 0h3m1 0h4m3 0h5m2 0h2m-29 1h1m4 0h4m3 0h5m1 0h3m3 0h1m2 0h2m-37 1h7m4 0h2m1 0h1m2 0h1m2 0h1m1 0h1m2 0h2m1 0h1m1 0h1m1 0h1m1 0h3m-37 1h1m5 0h1m2 0h3m2 0h1m2 0h1m2 0h1m1 0h2m2 0h1m1 0h1m3 0h1m1 0h1m1 0h1m-37 1h1m1 0h3m1 0h1m3 0h4m3 0h1m1 0h4m3 0h1m1 0h6m-34 1h1m1 0h3m1 0h1m1 0h2m1 0h2m2 0h2m2 0h3m1 0h1m1 0h1m2 0h2m2 0h2m1 0h2m-37 1h1m1 0h3m1 0h1m2 0h1m3 0h2m2 0h1m3 0h1m3 0h1m1 0h1m1 0h1m1 0h4m1 0h1m-37 1h1m5 0h1m2 0h4m2 0h1m2 0h5m2 0h6m1 0h2m-34 1h7m2 0h2m1 0h1m1 0h3m1 0h3m1 0h1m1 0h2m1 0h2m1 0h1m1 0h1m2 0h2\"/></svg>"
          },
          "metadata": {},
          "execution_count": 2
        }
      ],
      "source": [
        "#@markdown Run this code to see QR code for attendance checking:\n",
        "# !pip install IPython\n",
        "from IPython.display import SVG\n",
        "import IPython\n",
        "import requests\n",
        "\n",
        "url = 'https://raw.githubusercontent.com/MK316/Spring2023/main/DL/files/DL_attcheck.svg'\n",
        "response = requests.get(url)\n",
        "svg_data = response.content\n",
        "\n",
        "IPython.display.SVG(svg_data)\n"
      ]
    },
    {
      "cell_type": "markdown",
      "source": [
        "# **Activity [2]** Watch 2 videos created by other groups and evaluate them [8 minutes to spare]\n",
        "\n",
        "G1: videos created by G6, G2  \n",
        "G2: videos created by G1, G3  \n",
        "G3: videos created by G2, G4  \n",
        "G4: videos created by G3, G5  \n",
        "G5: videos created by G4, G6  \n",
        "G6: videos created by G5, G1  "
      ],
      "metadata": {
        "id": "pDGaVyQw_1cy"
      }
    },
    {
      "cell_type": "markdown",
      "source": [
        "### Choose below the Group number and then run the code to watch the video."
      ],
      "metadata": {
        "id": "cB9-5LCmdV9y"
      }
    },
    {
      "cell_type": "markdown",
      "source": [
        "[G1](https://youtu.be/y1_JjD1xj0w)   \n",
        "[G2](https://youtu.be/o3BSfqPY3XE)   \n",
        "[G3](https://youtu.be/PxaJICCFCL0)   \n",
        "[G4](https://youtu.be/CBk__1lhdqA)  \n",
        "[G5](https://youtu.be/DzfgY_0OvqU)    \n",
        "[G6](https://youtu.be/cjnU9oEg6DM)    \n",
        "\n",
        "[Evaluation form link](https://forms.gle/2pqRUoaPUj91r9zJ6): one submission per each group (so two submissions are required for your group activity.)"
      ],
      "metadata": {
        "id": "8wj5jpt4lNTd"
      }
    },
    {
      "cell_type": "code",
      "source": [
        "from IPython.display import YouTubeVideo, Audio, Image\n",
        "\n",
        "Groups = \"Group 4\" #@param = [\"Group 1\", \"Group 2\", \"Group 3\", \"Group 4\", \"Group 5\", \"Group 6\"]\n",
        "gns = Groups.split(\" \")\n",
        "gn = int(gns[1])-1\n",
        "\n",
        "links = [\"y1_JjD1xj0w\",\n",
        "         \"o3BSfqPY3XE\",\n",
        "         \"PxaJICCFCL0\",\n",
        "         \"CBk__1lhdqA\",\n",
        "         \"DzfgY_0OvqU\",\n",
        "         \"cjnU9oEg6DM\"]\n",
        "\n",
        "link = links[gn]\n",
        "video = YouTubeVideo(link, width = 800, height=600)\n",
        "print(\"This video is created by %s: \"%Groups)\n",
        "print(\"Evaluation form link 2: https://forms.gle/2pqRUoaPUj91r9zJ6\")\n",
        "print(\"=\"*50)\n",
        "display(video)"
      ],
      "metadata": {
        "colab": {
          "base_uri": "https://localhost:8080/",
          "height": 673
        },
        "id": "dFPefGeCC-nw",
        "outputId": "88fa1e1f-a321-4fd9-8e25-de565ec42e7c"
      },
      "execution_count": null,
      "outputs": [
        {
          "output_type": "stream",
          "name": "stdout",
          "text": [
            "This video is created by Group 4: \n",
            "Evaluation form link 2: https://forms.gle/2pqRUoaPUj91r9zJ6\n",
            "==================================================\n"
          ]
        },
        {
          "output_type": "display_data",
          "data": {
            "text/plain": [
              "<IPython.lib.display.YouTubeVideo at 0x7ffba062d6d0>"
            ],
            "text/html": [
              "\n",
              "        <iframe\n",
              "            width=\"800\"\n",
              "            height=\"600\"\n",
              "            src=\"https://www.youtube.com/embed/CBk__1lhdqA\"\n",
              "            frameborder=\"0\"\n",
              "            allowfullscreen\n",
              "            \n",
              "        ></iframe>\n",
              "        "
            ],
            "image/jpeg": "[encoded data removed]"
          },
          "metadata": {}
        }
      ]
    },
    {
      "cell_type": "markdown",
      "source": [
        "# **Activity [3] Learn coding to handle string data**\n",
        "\n",
        "**Step1** Visit the website [Jump to Python](https://wikidocs.net/13): This is a Python tutorial.\n",
        "  \n",
        "**Step2** Follow the tutorial by adding code cells below (one by one) from 1. 문자열이란? ~ 5.1 문자열 포매팅 따라하기  \n",
        "\n",
        "**Group leader's role:** _Make it sure that each code cell runs with no error, and that all the members understand each line_"
      ],
      "metadata": {
        "id": "nkl7vGH8AONc"
      }
    },
    {
      "cell_type": "code",
      "source": [
        "# 1. 문자열이란? (Write the title in the first line. You can add more code cells as needed.)"
      ],
      "metadata": {
        "id": "bYx42wNv7PN4"
      },
      "execution_count": null,
      "outputs": []
    },
    {
      "cell_type": "code",
      "source": [
        "# 2.1 문자열 안에 작은따옴표나 큰따옴표를 포함시키고 싶을 때"
      ],
      "metadata": {
        "id": "_rMw7Zif7U1_"
      },
      "execution_count": null,
      "outputs": []
    },
    {
      "cell_type": "code",
      "source": [
        "food = \"Python's favorite food is perl\""
      ],
      "metadata": {
        "id": "6YcGujQOepC2"
      },
      "execution_count": 1,
      "outputs": []
    },
    {
      "cell_type": "code",
      "source": [
        "food"
      ],
      "metadata": {
        "colab": {
          "base_uri": "https://localhost:8080/",
          "height": 35
        },
        "id": "yAHbDAcLe_1T",
        "outputId": "a0902747-4b1c-4ddb-d5bf-baef09a62fde"
      },
      "execution_count": 2,
      "outputs": [
        {
          "output_type": "execute_result",
          "data": {
            "text/plain": [
              "\"Python's favorite food is perl\""
            ],
            "application/vnd.google.colaboratory.intrinsic+json": {
              "type": "string"
            }
          },
          "metadata": {},
          "execution_count": 2
        }
      ]
    },
    {
      "cell_type": "code",
      "source": [
        "say = '\"Python is very easy.\" he says.'"
      ],
      "metadata": {
        "id": "3mCRPHabfh7v"
      },
      "execution_count": 3,
      "outputs": []
    },
    {
      "cell_type": "code",
      "source": [
        "say"
      ],
      "metadata": {
        "colab": {
          "base_uri": "https://localhost:8080/",
          "height": 35
        },
        "id": "cIMJUKSCfoSq",
        "outputId": "ba97a6d8-ee90-4a7e-c87d-d61b6872154d"
      },
      "execution_count": 4,
      "outputs": [
        {
          "output_type": "execute_result",
          "data": {
            "text/plain": [
              "'\"Python is very easy.\" he says.'"
            ],
            "application/vnd.google.colaboratory.intrinsic+json": {
              "type": "string"
            }
          },
          "metadata": {},
          "execution_count": 4
        }
      ]
    },
    {
      "cell_type": "code",
      "source": [
        "food = 'Python\\'s favorite food is perl'\n",
        "say = \"\\\"Python is very easy.\\\" he says.\""
      ],
      "metadata": {
        "id": "JkYMpJsMf9-5"
      },
      "execution_count": 5,
      "outputs": []
    },
    {
      "cell_type": "code",
      "source": [
        "food"
      ],
      "metadata": {
        "colab": {
          "base_uri": "https://localhost:8080/",
          "height": 35
        },
        "id": "HoV9R12vgQaP",
        "outputId": "37dd78b1-2f15-4a43-dbf0-a1ca7c96583c"
      },
      "execution_count": 6,
      "outputs": [
        {
          "output_type": "execute_result",
          "data": {
            "text/plain": [
              "\"Python's favorite food is perl\""
            ],
            "application/vnd.google.colaboratory.intrinsic+json": {
              "type": "string"
            }
          },
          "metadata": {},
          "execution_count": 6
        }
      ]
    },
    {
      "cell_type": "code",
      "source": [
        "food = 'Python/'s favorite food is perl'\n",
        "say = \"/\"Python is very easy./\" he says.\""
      ],
      "metadata": {
        "id": "tnApB5C1gXZm"
      },
      "execution_count": null,
      "outputs": []
    },
    {
      "cell_type": "code",
      "source": [
        "# 2.2 여러 줄인 문자열을 변수에 대입하고 싶을 때"
      ],
      "metadata": {
        "id": "1t9_LXFH7V0J"
      },
      "execution_count": null,
      "outputs": []
    },
    {
      "cell_type": "code",
      "source": [
        "multiline='''\n",
        "Life is too short\n",
        "You need python\n",
        "'''"
      ],
      "metadata": {
        "id": "B3132S96gpG-"
      },
      "execution_count": 10,
      "outputs": []
    },
    {
      "cell_type": "code",
      "source": [
        "print(multiline)"
      ],
      "metadata": {
        "colab": {
          "base_uri": "https://localhost:8080/"
        },
        "id": "XNQ3q-vsgsUp",
        "outputId": "424947c7-2e3d-4f28-914d-b89dc64dac1a"
      },
      "execution_count": 12,
      "outputs": [
        {
          "output_type": "stream",
          "name": "stdout",
          "text": [
            "\n",
            "Life is too short\n",
            "You need python\n",
            "\n"
          ]
        }
      ]
    },
    {
      "cell_type": "code",
      "source": [
        "# 2.3 이스케이프 코드란?"
      ],
      "metadata": {
        "id": "v7GFUmJS7jSH"
      },
      "execution_count": null,
      "outputs": []
    },
    {
      "cell_type": "code",
      "source": [
        "# 3.1 문자열 더해서 연결하기(Concatenation)"
      ],
      "metadata": {
        "id": "0j9p_J6S7kYD"
      },
      "execution_count": null,
      "outputs": []
    },
    {
      "cell_type": "code",
      "source": [
        "head = \"Python\"\n",
        "tail = \" is fun!\"\n",
        "head + tail"
      ],
      "metadata": {
        "id": "XvCTHFiBj1NU",
        "outputId": "7a44ce54-7cfa-4f07-a5b8-e7b9d2ba45e1",
        "colab": {
          "base_uri": "https://localhost:8080/",
          "height": 35
        }
      },
      "execution_count": 30,
      "outputs": [
        {
          "output_type": "execute_result",
          "data": {
            "text/plain": [
              "'Python is fun!'"
            ],
            "application/vnd.google.colaboratory.intrinsic+json": {
              "type": "string"
            }
          },
          "metadata": {},
          "execution_count": 30
        }
      ]
    },
    {
      "cell_type": "code",
      "source": [
        "# 3.2 문자열 곱하기"
      ],
      "metadata": {
        "id": "TJ_oWfBN7mRE"
      },
      "execution_count": null,
      "outputs": []
    },
    {
      "cell_type": "code",
      "source": [
        "a = \"python\"\n",
        "a * 2"
      ],
      "metadata": {
        "id": "pzXr3loRj7t9",
        "outputId": "bd6561f2-d6b6-4fb5-b81f-339f61ac4cbb",
        "colab": {
          "base_uri": "https://localhost:8080/",
          "height": 35
        }
      },
      "execution_count": 31,
      "outputs": [
        {
          "output_type": "execute_result",
          "data": {
            "text/plain": [
              "'pythonpython'"
            ],
            "application/vnd.google.colaboratory.intrinsic+json": {
              "type": "string"
            }
          },
          "metadata": {},
          "execution_count": 31
        }
      ]
    },
    {
      "cell_type": "code",
      "source": [
        "# 3.3 문자열 곱하기 응용"
      ],
      "metadata": {
        "id": "Aax-cec77nYr"
      },
      "execution_count": null,
      "outputs": []
    },
    {
      "cell_type": "code",
      "source": [
        "print(\"=\" * 50)\n",
        "print(\"My Program\")\n",
        "print(\"=\" * 50)"
      ],
      "metadata": {
        "id": "ZPTqEzt3kBvR",
        "outputId": "654752b7-cef1-43f5-ce5b-18a0e4b72106",
        "colab": {
          "base_uri": "https://localhost:8080/"
        }
      },
      "execution_count": 32,
      "outputs": [
        {
          "output_type": "stream",
          "name": "stdout",
          "text": [
            "==================================================\n",
            "My Program\n",
            "==================================================\n"
          ]
        }
      ]
    },
    {
      "cell_type": "code",
      "source": [
        "# 3.4 문자열 길이 구하기"
      ],
      "metadata": {
        "id": "NSAGCd1I7oLm"
      },
      "execution_count": null,
      "outputs": []
    },
    {
      "cell_type": "code",
      "source": [
        "a = \"Life is too short\"\n",
        "len(a)"
      ],
      "metadata": {
        "id": "UixQvuwRkOfX",
        "outputId": "557a9819-504c-4870-f60e-6f6cc21bf1f2",
        "colab": {
          "base_uri": "https://localhost:8080/"
        }
      },
      "execution_count": 33,
      "outputs": [
        {
          "output_type": "execute_result",
          "data": {
            "text/plain": [
              "17"
            ]
          },
          "metadata": {},
          "execution_count": 33
        }
      ]
    },
    {
      "cell_type": "code",
      "source": [
        "# 4.1 문자열 인덱싱이란?"
      ],
      "metadata": {
        "id": "v__xQecR7pPo"
      },
      "execution_count": null,
      "outputs": []
    },
    {
      "cell_type": "code",
      "source": [
        "a = \"Life is too short, You need Python\"\n",
        "a[3]"
      ],
      "metadata": {
        "id": "pMOVEv_Vjsh5",
        "outputId": "e4c9156e-4d98-44a4-e107-5eeb6905dee5",
        "colab": {
          "base_uri": "https://localhost:8080/",
          "height": 35
        }
      },
      "execution_count": 29,
      "outputs": [
        {
          "output_type": "execute_result",
          "data": {
            "text/plain": [
              "'e'"
            ],
            "application/vnd.google.colaboratory.intrinsic+json": {
              "type": "string"
            }
          },
          "metadata": {},
          "execution_count": 29
        }
      ]
    },
    {
      "cell_type": "code",
      "source": [
        "# 4.2 문자열 인덱싱 활용하기"
      ],
      "metadata": {
        "id": "nwt-qTGZ7qNy"
      },
      "execution_count": null,
      "outputs": []
    },
    {
      "cell_type": "code",
      "source": [
        "a = \"Life is too short, You need Python\"\n",
        "a[-1]"
      ],
      "metadata": {
        "id": "9I6dSrF_kUO8",
        "outputId": "2de60ca4-c9c8-4a47-a479-ccdf996d4c89",
        "colab": {
          "base_uri": "https://localhost:8080/",
          "height": 35
        }
      },
      "execution_count": 35,
      "outputs": [
        {
          "output_type": "execute_result",
          "data": {
            "text/plain": [
              "'n'"
            ],
            "application/vnd.google.colaboratory.intrinsic+json": {
              "type": "string"
            }
          },
          "metadata": {},
          "execution_count": 35
        }
      ]
    },
    {
      "cell_type": "code",
      "source": [
        "# 4.3 문자열 슬라이싱이란?"
      ],
      "metadata": {
        "id": "n0NTfJoE7q_I"
      },
      "execution_count": null,
      "outputs": []
    },
    {
      "cell_type": "code",
      "source": [
        "a = \"Life is too short, You need Python\"\n",
        "b = a[0] + a[1] + a[2] + a[3]\n",
        "b"
      ],
      "metadata": {
        "id": "83qF7h7jkeAm",
        "outputId": "05b62214-7778-4289-c526-26f6d784706c",
        "colab": {
          "base_uri": "https://localhost:8080/",
          "height": 35
        }
      },
      "execution_count": 36,
      "outputs": [
        {
          "output_type": "execute_result",
          "data": {
            "text/plain": [
              "'Life'"
            ],
            "application/vnd.google.colaboratory.intrinsic+json": {
              "type": "string"
            }
          },
          "metadata": {},
          "execution_count": 36
        }
      ]
    },
    {
      "cell_type": "code",
      "source": [
        "a = \"Life is too short, You need Python\"\n",
        "a[0:4]"
      ],
      "metadata": {
        "id": "RSmxOmmJkmEh",
        "outputId": "0ac867ab-f335-4170-88f6-12ec374b7c2c",
        "colab": {
          "base_uri": "https://localhost:8080/",
          "height": 35
        }
      },
      "execution_count": 37,
      "outputs": [
        {
          "output_type": "execute_result",
          "data": {
            "text/plain": [
              "'Life'"
            ],
            "application/vnd.google.colaboratory.intrinsic+json": {
              "type": "string"
            }
          },
          "metadata": {},
          "execution_count": 37
        }
      ]
    },
    {
      "cell_type": "code",
      "source": [
        "a[19:]"
      ],
      "metadata": {
        "id": "6Tma13eek9xK",
        "outputId": "f944d374-b653-4186-ed23-9f3a1a4c4276",
        "colab": {
          "base_uri": "https://localhost:8080/",
          "height": 35
        }
      },
      "execution_count": 38,
      "outputs": [
        {
          "output_type": "execute_result",
          "data": {
            "text/plain": [
              "'You need Python'"
            ],
            "application/vnd.google.colaboratory.intrinsic+json": {
              "type": "string"
            }
          },
          "metadata": {},
          "execution_count": 38
        }
      ]
    },
    {
      "cell_type": "code",
      "source": [
        "# 4.4 문자열을 슬라이싱하는 방법"
      ],
      "metadata": {
        "id": "y4XFohc_7sAZ"
      },
      "execution_count": null,
      "outputs": []
    },
    {
      "cell_type": "code",
      "source": [
        "# 4.5 슬라이싱으로 문자열 나누기"
      ],
      "metadata": {
        "id": "FxgFonNk7tG5"
      },
      "execution_count": null,
      "outputs": []
    },
    {
      "cell_type": "code",
      "source": [
        "a = \"20010331Rainy\"\n",
        "date = a[:8]\n",
        "weather = a[8:]"
      ],
      "metadata": {
        "id": "dh5y0pvnlRSb"
      },
      "execution_count": 39,
      "outputs": []
    },
    {
      "cell_type": "code",
      "source": [
        "date"
      ],
      "metadata": {
        "id": "1fo1MiRVlVJY",
        "outputId": "965c1552-c0da-4beb-b9e8-355d782a6866",
        "colab": {
          "base_uri": "https://localhost:8080/",
          "height": 35
        }
      },
      "execution_count": 40,
      "outputs": [
        {
          "output_type": "execute_result",
          "data": {
            "text/plain": [
              "'20010331'"
            ],
            "application/vnd.google.colaboratory.intrinsic+json": {
              "type": "string"
            }
          },
          "metadata": {},
          "execution_count": 40
        }
      ]
    },
    {
      "cell_type": "code",
      "source": [
        "# 5.1 문자열 포매팅 따라 하기"
      ],
      "metadata": {
        "id": "CUV6drLA7uXc"
      },
      "execution_count": null,
      "outputs": []
    },
    {
      "cell_type": "code",
      "source": [
        "\"I eat %d apples.\" % 3"
      ],
      "metadata": {
        "id": "rU8fg-tTlZ5s",
        "outputId": "a2474959-13cb-4ebd-86ed-eb4163e70dfa",
        "colab": {
          "base_uri": "https://localhost:8080/",
          "height": 35
        }
      },
      "execution_count": 41,
      "outputs": [
        {
          "output_type": "execute_result",
          "data": {
            "text/plain": [
              "'I eat 3 apples.'"
            ],
            "application/vnd.google.colaboratory.intrinsic+json": {
              "type": "string"
            }
          },
          "metadata": {},
          "execution_count": 41
        }
      ]
    },
    {
      "cell_type": "markdown",
      "source": [
        "# **Activity [4]: Group quiz**\n",
        "\n",
        "After completing the above activity [3], create a code cell below each text cell with instruction. Run each code cell to check the result or whether the code runs okay."
      ],
      "metadata": {
        "id": "RiHD0RjUAVBc"
      }
    },
    {
      "cell_type": "markdown",
      "source": [
        "Q1. In the code cell below, create variables and assign string (characters) as follows.\n",
        "\n",
        "**Table 1**\n",
        "\n",
        "|variable name| value|\n",
        "|---|---|\n",
        "|mytext1| We are the group number 5.|\n",
        "|mytext2| We're the group number 5.|\n",
        "|mytext3| We are the group number \"5\".|"
      ],
      "metadata": {
        "id": "r93VHKazCqkv"
      }
    },
    {
      "cell_type": "code",
      "source": [
        "mytext1 = \"We are the group number 5.\"\n",
        "mytext2 = \"We're the group number 5.\"\n",
        "mytext3 = 'We are the group number \"5\".'"
      ],
      "metadata": {
        "id": "i8Zy5F--C7a2"
      },
      "execution_count": 13,
      "outputs": []
    },
    {
      "cell_type": "markdown",
      "source": [
        "Q2. Run the code below and see whether the output displays as instructed in Table 1 in the above."
      ],
      "metadata": {
        "id": "8gMzCpVDC7yi"
      }
    },
    {
      "cell_type": "code",
      "source": [
        "print(mytext1)\n",
        "print(mytext2)\n",
        "print(mytext3)"
      ],
      "metadata": {
        "colab": {
          "base_uri": "https://localhost:8080/"
        },
        "id": "xHuRDs99Dvxh",
        "outputId": "ef6dff5b-897c-4375-f48f-3b8f1acfed14"
      },
      "execution_count": 14,
      "outputs": [
        {
          "output_type": "stream",
          "name": "stdout",
          "text": [
            "We are the group number 5.\n",
            "We're the group number 5.\n",
            "We are the group number \"5\".\n"
          ]
        }
      ]
    },
    {
      "cell_type": "markdown",
      "source": [
        "Q3.Print the 8th string in 'mytext2'?"
      ],
      "metadata": {
        "id": "uKqEDUGYDwRz"
      }
    },
    {
      "cell_type": "code",
      "source": [
        "mytext2[7]"
      ],
      "metadata": {
        "colab": {
          "base_uri": "https://localhost:8080/",
          "height": 35
        },
        "id": "6oJ-LjuLD2v2",
        "outputId": "493b7cce-e149-4ec6-81f3-3a4e29b9c79c"
      },
      "execution_count": 15,
      "outputs": [
        {
          "output_type": "execute_result",
          "data": {
            "text/plain": [
              "'h'"
            ],
            "application/vnd.google.colaboratory.intrinsic+json": {
              "type": "string"
            }
          },
          "metadata": {},
          "execution_count": 15
        }
      ]
    },
    {
      "cell_type": "markdown",
      "source": [
        "Q4. In mytext2, print strings from the 7th to the 15th."
      ],
      "metadata": {
        "id": "qB8ODOpcEQAE"
      }
    },
    {
      "cell_type": "code",
      "source": [
        "mytext2[7:16]"
      ],
      "metadata": {
        "colab": {
          "base_uri": "https://localhost:8080/",
          "height": 35
        },
        "id": "DexPUz_kERMc",
        "outputId": "bd172fa4-b094-4bda-bb9d-0809a5cf9cc9"
      },
      "execution_count": 16,
      "outputs": [
        {
          "output_type": "execute_result",
          "data": {
            "text/plain": [
              "'he group '"
            ],
            "application/vnd.google.colaboratory.intrinsic+json": {
              "type": "string"
            }
          },
          "metadata": {},
          "execution_count": 16
        }
      ]
    },
    {
      "cell_type": "markdown",
      "source": [
        "Q5. If you run the code below, the three variables (mytext1, mytext2, mytext3) will appear in one line. **Using an escape code make the following code prints each result in a different line.**"
      ],
      "metadata": {
        "id": "Fu0n35JFE1FI"
      }
    },
    {
      "cell_type": "code",
      "source": [
        "print(mytext1+mytext2+mytext3)"
      ],
      "metadata": {
        "colab": {
          "base_uri": "https://localhost:8080/"
        },
        "id": "MGOB1EaTHC20",
        "outputId": "ec90a8bf-ecb8-4c28-d7f5-f3d24243309e"
      },
      "execution_count": 17,
      "outputs": [
        {
          "output_type": "stream",
          "name": "stdout",
          "text": [
            "We are the group number 5.We're the group number 5.We are the group number \"5\".\n"
          ]
        }
      ]
    },
    {
      "cell_type": "markdown",
      "source": [
        "Q6. In the code below, a is assigned the value \"Bravo!\" **Add code line(s) in order to print 30 times of the same string.**\n",
        "\n",
        "e.g., Bravo!Bravo!....Bravo! (30 times without any space)"
      ],
      "metadata": {
        "id": "tx2E4ZgnD5rg"
      }
    },
    {
      "cell_type": "code",
      "source": [
        "a = \"Bravo!\""
      ],
      "metadata": {
        "id": "u5r4dbLqH7FI"
      },
      "execution_count": 18,
      "outputs": []
    },
    {
      "cell_type": "markdown",
      "source": [
        "Q7. Below, the variabe b is assigned to your group number (e.g., Group 5 - change the number with your group number). Add code line(s) to print **Bravo! Group 5!**"
      ],
      "metadata": {
        "id": "Pq8eYK-KJZ-b"
      }
    },
    {
      "cell_type": "code",
      "source": [
        "b = \"Group 5\""
      ],
      "metadata": {
        "id": "yLf6ALlPJzSk"
      },
      "execution_count": 19,
      "outputs": []
    },
    {
      "cell_type": "markdown",
      "source": [
        "Q8. Get the length of mytext1"
      ],
      "metadata": {
        "id": "p3ejYs7kJ8qu"
      }
    },
    {
      "cell_type": "code",
      "source": [
        "len(mytext1)"
      ],
      "metadata": {
        "colab": {
          "base_uri": "https://localhost:8080/"
        },
        "id": "vWldeIUzKIgb",
        "outputId": "e4206206-b0c9-4275-bcd7-d6b6283b8937"
      },
      "execution_count": 20,
      "outputs": [
        {
          "output_type": "execute_result",
          "data": {
            "text/plain": [
              "26"
            ]
          },
          "metadata": {},
          "execution_count": 20
        }
      ]
    },
    {
      "cell_type": "markdown",
      "source": [
        "Q9. Read the following code lines, and complete appropriate index number in each index [bracket] in order to print 'Life'.Do not use negative index (e.g., [-2] for this code."
      ],
      "metadata": {
        "id": "7I9Mtvn7KKyZ"
      }
    },
    {
      "cell_type": "code",
      "source": [
        "sample = \"I love fireworks\"\n",
        "print(sample[2]+sample[8]+sample[7]+sample[5])"
      ],
      "metadata": {
        "colab": {
          "base_uri": "https://localhost:8080/"
        },
        "id": "6ICIhyh4KKHm",
        "outputId": "d904e1ae-3502-4910-98dd-0a1ecbf3ca65"
      },
      "execution_count": 21,
      "outputs": [
        {
          "output_type": "stream",
          "name": "stdout",
          "text": [
            "life\n"
          ]
        }
      ]
    },
    {
      "cell_type": "markdown",
      "source": [
        "Q10. Do the same thing using negative indices only."
      ],
      "metadata": {
        "id": "eW45vIJsNaoV"
      }
    },
    {
      "cell_type": "code",
      "source": [
        "sample = \"I love fireworks\"\n",
        "print(sample[-16]+sample[-8]+sample[-9]+sample[-11])"
      ],
      "metadata": {
        "colab": {
          "base_uri": "https://localhost:8080/"
        },
        "id": "Y6T6Zx33Onas",
        "outputId": "18a4384a-0a1d-46b7-8d65-ac175a82b8b8"
      },
      "execution_count": 22,
      "outputs": [
        {
          "output_type": "stream",
          "name": "stdout",
          "text": [
            "Iife\n"
          ]
        }
      ]
    },
    {
      "cell_type": "markdown",
      "source": [
        "Q11. With the sample variable in the above, print the string from the 8th to the end."
      ],
      "metadata": {
        "id": "KaJUsnPmO11m"
      }
    },
    {
      "cell_type": "code",
      "source": [
        "sample[8:]"
      ],
      "metadata": {
        "colab": {
          "base_uri": "https://localhost:8080/",
          "height": 35
        },
        "id": "L6BBHX2WPIjL",
        "outputId": "4dd86ff1-9b8b-4c76-b2b2-5cc74903f45f"
      },
      "execution_count": 23,
      "outputs": [
        {
          "output_type": "execute_result",
          "data": {
            "text/plain": [
              "'ireworks'"
            ],
            "application/vnd.google.colaboratory.intrinsic+json": {
              "type": "string"
            }
          },
          "metadata": {},
          "execution_count": 23
        }
      ]
    },
    {
      "cell_type": "markdown",
      "source": [
        "Q12. Slicing practice: using indexing, assign w1, w2, w3 to \"I, love, firewords\". You are expected to write down the index, either a single number or two numbers before and after the colon in [ :  ]. "
      ],
      "metadata": {
        "id": "eQHgW8ahPRBt"
      }
    },
    {
      "cell_type": "code",
      "source": [
        "sample = \"I love fireworks\"\n",
        "\n",
        "w1 = sample[0]\n",
        "w2 = sample[2:6]\n",
        "w3 = sample[7:]\n",
        "print(w1, w2, w3)"
      ],
      "metadata": {
        "colab": {
          "base_uri": "https://localhost:8080/"
        },
        "id": "x4_0F6DWPkty",
        "outputId": "27ebe134-1f75-4bda-d8fd-fe972c33fd9e"
      },
      "execution_count": 24,
      "outputs": [
        {
          "output_type": "stream",
          "name": "stdout",
          "text": [
            "I love fireworks\n"
          ]
        }
      ]
    },
    {
      "cell_type": "markdown",
      "source": [
        "Q13. In the code below, the variable a is assigned to \"my gruop\". Using the variable a and indexing, correct a as \"my group\" so that the final code print(a) prints it correctly.\n",
        "\n",
        "**Note:** String elements are immutable, which means you cannot replace elements directly. (e.g., a[5] = \"o\" doesn't work)"
      ],
      "metadata": {
        "id": "1R7l_jf4Qki7"
      }
    },
    {
      "cell_type": "code",
      "source": [
        "a = \"my gruop\"\n",
        "\n",
        "# Add code lines here\n",
        "\n",
        "print(a)"
      ],
      "metadata": {
        "colab": {
          "base_uri": "https://localhost:8080/"
        },
        "id": "E7X8-63ARQ8K",
        "outputId": "33bba871-0a20-4baa-fe38-2ef1a3708def"
      },
      "execution_count": 25,
      "outputs": [
        {
          "output_type": "stream",
          "name": "stdout",
          "text": [
            "my gruop\n"
          ]
        }
      ]
    },
    {
      "cell_type": "markdown",
      "source": [
        "Q14. Study the following code, and add something to the final code so that the output prints \"You typed you're ______ years old.\"\n",
        "\n",
        "e.g., if you type 18, the output should print \"You typed you're 18 years old.\""
      ],
      "metadata": {
        "id": "fSKxKs6DQQeL"
      }
    },
    {
      "cell_type": "code",
      "source": [
        "age = input(\"Q: How old are you? \")\n",
        "print(\"A: You typed you're \" + age + \" years old.\")"
      ],
      "metadata": {
        "colab": {
          "base_uri": "https://localhost:8080/"
        },
        "id": "_J1ukqORSnrJ",
        "outputId": "b5507311-1135-4e00-9d36-55d468bc9ea3"
      },
      "execution_count": 28,
      "outputs": [
        {
          "output_type": "stream",
          "name": "stdout",
          "text": [
            "Q: How old are you? 24\n",
            "A: You typed you're 24 years old.\n"
          ]
        }
      ]
    },
    {
      "cell_type": "markdown",
      "source": [
        "---\n",
        "# Activity [5] Self-log (Only for groups who finish the schedule here.)\n",
        "\n",
        "[link](https://forms.gle/1Si6eRwRKi8WNNrd9)"
      ],
      "metadata": {
        "id": "p3BZ97B6AXgC"
      }
    },
    {
      "cell_type": "code",
      "execution_count": null,
      "metadata": {
        "cellView": "form",
        "colab": {
          "base_uri": "https://localhost:8080/",
          "height": 680
        },
        "outputId": "631adb9d-434f-40e4-a5e9-97de550c7984",
        "id": "FGcDZB2vohc2"
      },
      "outputs": [
        {
          "output_type": "stream",
          "name": "stdout",
          "text": [
            "Looking in indexes: https://pypi.org/simple, https://us-python.pkg.dev/colab-wheels/public/simple/\n",
            "Collecting pyqrcode\n",
            "  Downloading PyQRCode-1.2.1.zip (41 kB)\n",
            "\u001b[2K     \u001b[90m━━━━━━━━━━━━━━━━━━━━━━━━━━━━━━━━━━━━━━━━\u001b[0m \u001b[32m41.9/41.9 KB\u001b[0m \u001b[31m1.4 MB/s\u001b[0m eta \u001b[36m0:00:00\u001b[0m\n",
            "\u001b[?25h  Preparing metadata (setup.py) ... \u001b[?25l\u001b[?25hdone\n",
            "Building wheels for collected packages: pyqrcode\n",
            "  Building wheel for pyqrcode (setup.py) ... \u001b[?25l\u001b[?25hdone\n",
            "  Created wheel for pyqrcode: filename=PyQRCode-1.2.1-py3-none-any.whl size=36241 sha256=5874dd15d135cd165663ae4cc8c494a5cb66fa483e71564e1a08ecb40ff756a0\n",
            "  Stored in directory: /root/.cache/pip/wheels/da/75/c0/38c7f82750de2725429b6b8571dca254249d73f6c882c5d9b1\n",
            "Successfully built pyqrcode\n",
            "Installing collected packages: pyqrcode\n",
            "Successfully installed pyqrcode-1.2.1\n"
          ]
        },
        {
          "output_type": "display_data",
          "data": {
            "text/plain": [
              "<IPython.core.display.SVG object>"
            ],
            "image/svg+xml": "<svg xmlns=\"http://www.w3.org/2000/svg\" height=\"450\" width=\"450\" class=\"pyqrcode\"><path transform=\"scale(10)\" stroke=\"#000\" class=\"pyqrline\" d=\"M4 4.5h7m1 0h1m1 0h3m1 0h2m2 0h4m3 0h2m3 0h7m-37 1h1m5 0h1m5 0h2m1 0h1m2 0h1m2 0h1m1 0h6m1 0h1m5 0h1m-37 1h1m1 0h3m1 0h1m2 0h1m3 0h1m5 0h1m1 0h1m5 0h1m2 0h1m1 0h3m1 0h1m-37 1h1m1 0h3m1 0h1m1 0h3m2 0h2m2 0h3m2 0h5m3 0h1m1 0h3m1 0h1m-37 1h1m1 0h3m1 0h1m2 0h1m1 0h1m2 0h1m1 0h1m1 0h4m2 0h1m2 0h2m1 0h1m1 0h3m1 0h1m-37 1h1m5 0h1m2 0h2m1 0h1m1 0h4m1 0h1m1 0h1m1 0h3m1 0h2m1 0h1m5 0h1m-37 1h7m1 0h1m1 0h1m1 0h1m1 0h1m1 0h1m1 0h1m1 0h1m1 0h1m1 0h1m1 0h1m1 0h1m1 0h7m-28 1h1m3 0h1m2 0h1m6 0h4m1 0h1m-27 1h1m1 0h3m1 0h1m5 0h2m1 0h1m1 0h6m1 0h4m3 0h1m2 0h1m-37 1h2m1 0h1m1 0h1m1 0h3m1 0h1m2 0h1m3 0h2m2 0h3m1 0h3m2 0h1m4 0h1m-31 1h4m1 0h4m1 0h2m1 0h7m1 0h2m1 0h4m1 0h2m-36 1h1m1 0h3m2 0h2m1 0h1m3 0h3m4 0h1m2 0h2m1 0h2m1 0h1m-31 1h6m1 0h1m5 0h1m2 0h1m3 0h1m1 0h3m1 0h4m3 0h1m-35 1h3m4 0h1m2 0h4m1 0h1m3 0h3m6 0h1m1 0h1m2 0h4m-36 1h1m2 0h5m1 0h3m1 0h7m1 0h1m1 0h2m2 0h3m3 0h3m-32 1h1m1 0h1m1 0h1m1 0h7m2 0h2m3 0h1m1 0h1m2 0h2m3 0h2m-36 1h1m3 0h2m3 0h2m4 0h2m1 0h1m1 0h1m1 0h2m2 0h4m2 0h1m2 0h1m-37 1h2m2 0h1m2 0h3m1 0h3m1 0h1m1 0h2m1 0h1m2 0h1m2 0h1m2 0h2m3 0h3m-36 1h3m2 0h1m3 0h5m1 0h1m1 0h2m1 0h3m2 0h1m2 0h1m3 0h4m-37 1h2m2 0h1m3 0h4m2 0h4m4 0h2m1 0h4m1 0h1m1 0h1m3 0h1m-35 1h1m1 0h1m1 0h2m1 0h1m2 0h3m3 0h4m2 0h2m2 0h4m1 0h1m2 0h1m-37 1h1m2 0h3m1 0h1m1 0h1m1 0h1m1 0h1m1 0h2m1 0h1m4 0h1m9 0h1m-34 1h1m2 0h1m1 0h2m1 0h1m1 0h4m5 0h2m2 0h3m2 0h2m2 0h2m1 0h2m-37 1h4m3 0h3m1 0h3m1 0h4m3 0h2m5 0h2m2 0h1m1 0h1m-35 1h3m1 0h4m4 0h2m3 0h4m1 0h2m2 0h1m1 0h1m2 0h2m1 0h2m-36 1h5m2 0h1m1 0h1m6 0h2m1 0h6m1 0h1m1 0h1m2 0h2m2 0h1m-37 1h1m1 0h1m1 0h1m1 0h1m7 0h4m2 0h6m4 0h1m2 0h4m-36 1h3m1 0h1m1 0h1m1 0h2m1 0h1m1 0h4m1 0h2m3 0h2m1 0h1m2 0h1m1 0h2m1 0h2m-37 1h1m5 0h1m1 0h1m2 0h1m1 0h4m1 0h2m1 0h1m1 0h3m2 0h5m1 0h1m-27 1h2m1 0h1m1 0h1m1 0h1m1 0h1m4 0h4m1 0h2m3 0h1m3 0h1m-37 1h7m4 0h3m1 0h2m1 0h1m1 0h2m6 0h1m1 0h1m1 0h1m1 0h3m-37 1h1m5 0h1m1 0h4m3 0h8m2 0h2m1 0h1m3 0h1m3 0h1m-37 1h1m1 0h3m1 0h1m1 0h1m6 0h3m1 0h1m1 0h1m3 0h1m2 0h6m1 0h1m-36 1h1m1 0h3m1 0h1m2 0h5m1 0h1m2 0h1m4 0h1m2 0h2m1 0h1m3 0h1m1 0h2m-37 1h1m1 0h3m1 0h1m1 0h4m5 0h1m4 0h1m5 0h2m1 0h3m2 0h1m-37 1h1m5 0h1m2 0h2m1 0h1m2 0h1m1 0h2m4 0h1m1 0h4m1 0h1m2 0h1m1 0h1m-36 1h7m2 0h4m3 0h1m1 0h4m5 0h2m1 0h1m1 0h1m2 0h2\"/></svg>"
          },
          "metadata": {}
        }
      ],
      "source": [
        "#@markdown Install {pyqrcode} and enter link address\n",
        "!pip install pyqrcode\n",
        "\n",
        "import pyqrcode\n",
        "from pyqrcode import QRCode\n",
        "\n",
        "\n",
        "#@markdown Enter the link, save it as a file, and display\n",
        "s = \"https://forms.gle/NUzys1RoPHmYmSDWA\"\n",
        "\n",
        "# Generate QR code\n",
        "url = pyqrcode.create(s)\n",
        "\n",
        "# Create and save the png file naming \"myqr.png\"\n",
        "url.svg(\"myqrcode.svg\", scale=10)\n",
        "\n",
        "from IPython.display import SVG, display\n",
        "def show_svg(file):\n",
        "    display(SVG(file))\n",
        "\n",
        "show_svg(\"myqrcode.svg\")"
      ]
    }
  ]
}
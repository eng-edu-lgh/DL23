{
  "nbformat": 4,
  "nbformat_minor": 0,
  "metadata": {
    "colab": {
      "provenance": [],
      "include_colab_link": true
    },
    "kernelspec": {
      "name": "python3",
      "display_name": "Python 3"
    },
    "language_info": {
      "name": "python"
    }
  },
  "cells": [
    {
      "cell_type": "markdown",
      "metadata": {
        "id": "view-in-github",
        "colab_type": "text"
      },
      "source": [
        "<a href=\"https://colab.research.google.com/github/eng-edu-lgh/DL23/blob/main/DL/DLW02d.ipynb\" target=\"_parent\"><img src=\"https://colab.research.google.com/assets/colab-badge.svg\" alt=\"Open In Colab\"/></a>"
      ]
    },
    {
      "cell_type": "markdown",
      "source": [
        "---\n",
        "# 📗 Topic [2]: Coding basic #2\n",
        "---\n",
        "Keywords:\n",
        "\n",
        "+ variables\n",
        "+ **operators**\n",
        "+ **data types: list and dictionary**"
      ],
      "metadata": {
        "id": "k4A5_MYHpcNQ"
      }
    },
    {
      "cell_type": "markdown",
      "source": [
        "Your github IDs [here](https://docs.google.com/spreadsheets/d/17SX51lCqOdtvC7cAGoX5tP9fKwVdGY5sRzMg2pXh9uk/edit#gid=0) - revised 0327"
      ],
      "metadata": {
        "id": "mUVgzk50XMkt"
      }
    },
    {
      "cell_type": "markdown",
      "source": [
        "## [1] Variables"
      ],
      "metadata": {
        "id": "93gQaEo1RX63"
      }
    },
    {
      "cell_type": "markdown",
      "source": [
        "+ **A variable** is a named storage location that holds a value.\n",
        "+ Variables can be used **to store values** such as numbers, strings, lists, or other data types. \n",
        "+ The value of a variable can change throughout the execution of a program. \n",
        "+ To declare a variable in Python, you need to assign a value to it using the **equal (=) sign.**"
      ],
      "metadata": {
        "id": "jJT4hD1teuJr"
      }
    },
    {
      "cell_type": "code",
      "source": [
        "x = 10\n",
        "y = \"Hello, class!\"\n",
        "z = [1, 2, 3]"
      ],
      "metadata": {
        "id": "Xes87bY2X45M"
      },
      "execution_count": 6,
      "outputs": []
    },
    {
      "cell_type": "markdown",
      "source": [
        "↗️ In the above example, 'x' is assigned the value of 10, 'y' is assigned the value of \"Hello, World!\", and 'z' is assigned the value of [1, 2, 3]."
      ],
      "metadata": {
        "id": "ulw6QsP5ZiKp"
      }
    },
    {
      "cell_type": "code",
      "source": [
        "# We can assign a link or a function\n",
        "import pandas as pd\n",
        "url = \"https://github.com/MK316/Spring2023/raw/main/data/att_sample.csv\"\n",
        "data = pd.read_csv(url)\n",
        "data"
      ],
      "metadata": {
        "id": "_7bvpJt2aQmg"
      },
      "execution_count": null,
      "outputs": []
    },
    {
      "cell_type": "markdown",
      "source": [
        "## Commenting '#'\n",
        "\n",
        "- In Python, the # symbol is used to indicate comment lines. A comment is a line of text in a code that is ignored by the Python interpreter and is used to provide explanations or notes for the reader of the code.\n",
        "\n",
        "## Uncommenting shortcut: \n",
        "* \"Ctrl + /\" (Place the cursor on the code line and press the Control + / key.)"
      ],
      "metadata": {
        "id": "xZv9R8I8ZWvt"
      }
    },
    {
      "cell_type": "code",
      "source": [
        "# This is a comment in Python\n",
        "x = 10 # this is also a comment"
      ],
      "metadata": {
        "id": "7UJmbmmTaFx9"
      },
      "execution_count": 5,
      "outputs": []
    },
    {
      "cell_type": "code",
      "source": [
        "x1 = x * 10\n",
        "x2 = x + 5\n",
        "\n",
        "print(X1) # Print the value of x1\n",
        "print(x1, x2) # Print the values of x1 and x2"
      ],
      "metadata": {
        "id": "Ivc72tB0X_TS"
      },
      "execution_count": null,
      "outputs": []
    },
    {
      "cell_type": "code",
      "source": [
        "print(y)\n",
        "y1 = y + \"Welcome to the class.\"\n",
        "z1 = z + [3,2,1]\n",
        " \n",
        "print(y1, z1)"
      ],
      "metadata": {
        "id": "cxePqv-52RU0",
        "outputId": "d4af3784-2327-43a4-f58f-21cb74eee71b",
        "colab": {
          "base_uri": "https://localhost:8080/"
        }
      },
      "execution_count": 8,
      "outputs": [
        {
          "output_type": "stream",
          "name": "stdout",
          "text": [
            "Hello, class!\n",
            "Hello, class!Welcome to the class. [1, 2, 3, 3, 2, 1]\n"
          ]
        }
      ]
    },
    {
      "cell_type": "markdown",
      "source": [
        "Input types:\n",
        "\n",
        "* integer: e.g., -3, 1, 0, 234, etc.\n",
        "* float: e.g., -3.0, 1.2, 0, 3.141592653589793238, etc.\n",
        "* string: (characters) \"1\", '0', \"3.29\", \"Mary\", \"euphoria\", 'My name is Jane.'\n",
        "\n",
        "_Note:_ double or single quotation marks denote **string** data. (Open and close should match.)"
      ],
      "metadata": {
        "id": "4zDbyBHbeQsq"
      }
    },
    {
      "cell_type": "code",
      "source": [
        "# DIY\n",
        "x = 1\n",
        "y = 3\n",
        "z = x + y\n",
        "print(z)\n",
        "\n",
        "x1 = \"1\"\n",
        "y1 = \"3\"\n",
        "z1 = x1 + y1\n",
        "print(z1)"
      ],
      "metadata": {
        "colab": {
          "base_uri": "https://localhost:8080/"
        },
        "id": "yzZuC29QfP3T",
        "outputId": "995a3574-830d-414d-ac68-9c802e7b7787"
      },
      "execution_count": 9,
      "outputs": [
        {
          "output_type": "stream",
          "name": "stdout",
          "text": [
            "4\n",
            "13\n"
          ]
        }
      ]
    },
    {
      "cell_type": "code",
      "source": [
        "type(z)"
      ],
      "metadata": {
        "colab": {
          "base_uri": "https://localhost:8080/"
        },
        "id": "qwDb8cf5fkKi",
        "outputId": "3819ae84-ff19-4b70-b4b6-34bf4788ed95"
      },
      "execution_count": 10,
      "outputs": [
        {
          "output_type": "execute_result",
          "data": {
            "text/plain": [
              "int"
            ]
          },
          "metadata": {},
          "execution_count": 10
        }
      ]
    },
    {
      "cell_type": "code",
      "source": [
        "type(z1)"
      ],
      "metadata": {
        "colab": {
          "base_uri": "https://localhost:8080/"
        },
        "id": "L7sxvSaOfsOt",
        "outputId": "cd4c422f-3b6e-4905-e1cf-02f772142aa6"
      },
      "execution_count": 11,
      "outputs": [
        {
          "output_type": "execute_result",
          "data": {
            "text/plain": [
              "str"
            ]
          },
          "metadata": {},
          "execution_count": 11
        }
      ]
    },
    {
      "cell_type": "code",
      "source": [
        "print(type(z), type(z1))"
      ],
      "metadata": {
        "colab": {
          "base_uri": "https://localhost:8080/"
        },
        "id": "bbFaL_GWfwMH",
        "outputId": "5776583c-10f2-44ef-e42d-a0ddf4c43313"
      },
      "execution_count": 12,
      "outputs": [
        {
          "output_type": "stream",
          "name": "stdout",
          "text": [
            "<class 'int'> <class 'str'>\n"
          ]
        }
      ]
    },
    {
      "cell_type": "markdown",
      "source": [
        "## [2] Operators\n",
        "\n",
        "* Symbols that perform operations on values and variables. \n",
        "* They are used to perform arithmetic and logical operations, and they can also be used to manipulate and compare values. "
      ],
      "metadata": {
        "id": "5JgA2T2dRft5"
      }
    },
    {
      "cell_type": "markdown",
      "source": [
        "1. Arithmetic Operators: +, -, *, /, %, ** (for exponentiation)\n",
        "2. semicolon ';' - separate multiple statements (code lines) on a single line."
      ],
      "metadata": {
        "id": "NJBgu_O4bczL"
      }
    },
    {
      "cell_type": "code",
      "source": [
        "x = 2; y = 5\n",
        "\n",
        "a1 = x + y\n",
        "a2 = x - y\n",
        "a3 = x * y\n",
        "a4 = x / y\n",
        "a5 = x ** y"
      ],
      "metadata": {
        "id": "dXT3pIzobUHU"
      },
      "execution_count": 13,
      "outputs": []
    },
    {
      "cell_type": "code",
      "source": [
        "print(a1, a2, a3, a4, a5)"
      ],
      "metadata": {
        "colab": {
          "base_uri": "https://localhost:8080/"
        },
        "id": "_m3JBsOKd6Uv",
        "outputId": "89d5e10f-0256-4735-ebad-6e0763668f2c"
      },
      "execution_count": 26,
      "outputs": [
        {
          "output_type": "stream",
          "name": "stdout",
          "text": [
            "7 -3 10 0.4 32\n"
          ]
        }
      ]
    },
    {
      "cell_type": "code",
      "source": [
        "print(\"The value of a1:\", a1)"
      ],
      "metadata": {
        "colab": {
          "base_uri": "https://localhost:8080/"
        },
        "id": "5kq7I3nMd0Xi",
        "outputId": "013b2b76-3bf3-46bc-f81e-ea6833abce88"
      },
      "execution_count": 19,
      "outputs": [
        {
          "output_type": "stream",
          "name": "stdout",
          "text": [
            "The value of a1: 7\n"
          ]
        }
      ]
    },
    {
      "cell_type": "markdown",
      "source": [
        "# 🌱 Define a function\n",
        "\n",
        "Demo 🔢 Calculator"
      ],
      "metadata": {
        "id": "Cx1NyWUAybc8"
      }
    },
    {
      "cell_type": "code",
      "source": [
        "# This function adds two numbers\n",
        "def add(x, y):\n",
        "    return x + y\n",
        "\n",
        "# This function subtracts two numbers\n",
        "def subtract(x, y):\n",
        "    return x - y\n",
        "\n",
        "# This function multiplies two numbers\n",
        "def multiply(x, y):\n",
        "    return x * y\n",
        "\n",
        "# This function divides two numbers\n",
        "def divide(x, y):\n",
        "    return x / y\n"
      ],
      "metadata": {
        "id": "Dod3_zgYdsWe"
      },
      "execution_count": 28,
      "outputs": []
    },
    {
      "cell_type": "code",
      "source": [
        "# DIY: define a function names switch(x, y), where the input x, y changes its position in the output."
      ],
      "metadata": {
        "id": "W9CuAaqXgwb5"
      },
      "execution_count": null,
      "outputs": []
    },
    {
      "cell_type": "code",
      "source": [
        "add(1200,34)"
      ],
      "metadata": {
        "id": "UTkQIlmIMgmB",
        "outputId": "fa3c0dbe-6715-4389-f9ea-1a4aaa08a42e",
        "colab": {
          "base_uri": "https://localhost:8080/"
        }
      },
      "execution_count": 29,
      "outputs": [
        {
          "output_type": "execute_result",
          "data": {
            "text/plain": [
              "1234"
            ]
          },
          "metadata": {},
          "execution_count": 29
        }
      ]
    },
    {
      "cell_type": "code",
      "source": [],
      "metadata": {
        "id": "AvQwVvSTMrci"
      },
      "execution_count": null,
      "outputs": []
    },
    {
      "cell_type": "code",
      "source": [
        "# Test\n",
        "\n",
        "add(2,3)\n",
        "subtract(3,2)\n",
        "print(multiply(2,3))\n",
        "print(divide(3,2))"
      ],
      "metadata": {
        "id": "IoHh-U2GBsqH",
        "outputId": "f848167a-db7a-4d89-bc2f-e3fcf34a87a2",
        "colab": {
          "base_uri": "https://localhost:8080/"
        }
      },
      "execution_count": 32,
      "outputs": [
        {
          "output_type": "stream",
          "name": "stdout",
          "text": [
            "6\n",
            "1.5\n"
          ]
        }
      ]
    },
    {
      "cell_type": "markdown",
      "source": [
        "## Using dropbox format"
      ],
      "metadata": {
        "id": "eOluPoNqCCE1"
      }
    },
    {
      "cell_type": "code",
      "source": [
        "!pip install gTTS\n",
        "from gtts import gTTS\n",
        "from IPython.display import Audio\n",
        "def tts(text):\n",
        "  gtts_object = gTTS(text,lang = \"en\", slow = True) \n",
        "  gtts_object.save(\"myaudio.mp3\")\n",
        "  return Audio(\"myaudio.mp3\")"
      ],
      "metadata": {
        "id": "4yKzNEUXNdki",
        "outputId": "fcac0b60-d030-433c-fdec-706e61c7702d",
        "colab": {
          "base_uri": "https://localhost:8080/"
        }
      },
      "execution_count": 38,
      "outputs": [
        {
          "output_type": "stream",
          "name": "stdout",
          "text": [
            "Looking in indexes: https://pypi.org/simple, https://us-python.pkg.dev/colab-wheels/public/simple/\n",
            "Requirement already satisfied: gTTS in /usr/local/lib/python3.9/dist-packages (2.3.1)\n",
            "Requirement already satisfied: click<8.2,>=7.1 in /usr/local/lib/python3.9/dist-packages (from gTTS) (8.1.3)\n",
            "Requirement already satisfied: requests<3,>=2.27 in /usr/local/lib/python3.9/dist-packages (from gTTS) (2.27.1)\n",
            "Requirement already satisfied: urllib3<1.27,>=1.21.1 in /usr/local/lib/python3.9/dist-packages (from requests<3,>=2.27->gTTS) (1.26.15)\n",
            "Requirement already satisfied: idna<4,>=2.5 in /usr/local/lib/python3.9/dist-packages (from requests<3,>=2.27->gTTS) (3.4)\n",
            "Requirement already satisfied: charset-normalizer~=2.0.0 in /usr/local/lib/python3.9/dist-packages (from requests<3,>=2.27->gTTS) (2.0.12)\n",
            "Requirement already satisfied: certifi>=2017.4.17 in /usr/local/lib/python3.9/dist-packages (from requests<3,>=2.27->gTTS) (2022.12.7)\n"
          ]
        }
      ]
    },
    {
      "cell_type": "code",
      "source": [
        "func = \"multiply\" #@param = [\"add\",\"subtract\",\"multiply\",\"divide\"]\n",
        "digits = input(\"Type two numbers: (e.g., 3,4)\")\n",
        "digitsplit = digits.split(',')\n",
        "d1 = int(digitsplit[0])\n",
        "d2 = int(digitsplit[1])\n",
        "\n",
        "if func == \"add\":\n",
        "  result = add(d1,d2)\n",
        "  text = \"The addition of %d and %d equals %d.\"%(d1,d2,result)\n",
        "elif func == \"subtract\":\n",
        "  result = subtract(d1,d2)\n",
        "  text = \"If you subtract %d from %d, you get %d.\"%(d2,d1,result)\n",
        "elif func == \"divide\":\n",
        "  result = divide(d1,d2)\n",
        "  text = \"When you divide %d by %d, you get %d.\"%(d1,d2,result)\n",
        "elif func == \"multiply\":\n",
        "  result = multiply(d1,d2)\n",
        "  text = \"%d multiplied by %d is %d.\"%(d1,d2,result)\n",
        "\n",
        "print(text)\n",
        "tts(text)\n",
        "Audio(\"myaudio.mp3\")"
      ],
      "metadata": {
        "cellView": "form",
        "id": "FT47bY6qBo3k",
        "outputId": "a6d36621-06da-4374-ee54-aed3c9658a74",
        "colab": {
          "base_uri": "https://localhost:8080/",
          "height": 111
        }
      },
      "execution_count": 40,
      "outputs": [
        {
          "output_type": "stream",
          "name": "stdout",
          "text": [
            "Type two numbers: (e.g., 3,4)5,9\n",
            "5 multiplied by 9 is 45.\n"
          ]
        },
        {
          "output_type": "execute_result",
          "data": {
            "text/plain": [
              "<IPython.lib.display.Audio object>"
            ],
            "text/html": [
              "\n",
              "                <audio  controls=\"controls\" >\n",
              "                    <source src=\"data:audio/mpeg;base64,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\" type=\"audio/mpeg\" />\n",
              "                    Your browser does not support the audio element.\n",
              "                </audio>\n",
              "              "
            ]
          },
          "metadata": {},
          "execution_count": 40
        }
      ]
    },
    {
      "cell_type": "markdown",
      "source": [
        "More operators: <br>\n",
        "* Comparison Operators: ==, !=, <, >, <=, >= <br>\n",
        "* Assignment Operators: =, +=, -=, *=, /=, %= <br>\n",
        "* Logical Operators: and, or, not <br>\n",
        "* Identity Operators: is, is not <br>\n",
        "* Membership Operators: in, not in "
      ],
      "metadata": {
        "id": "sfubu24UbqjH"
      }
    },
    {
      "cell_type": "markdown",
      "source": [
        "# 📗Topic [3] Data types: number, string, list and dictionary\n"
      ],
      "metadata": {
        "id": "3eSrUoglRh6-"
      }
    },
    {
      "cell_type": "markdown",
      "source": [
        "\n",
        "|Data type| |\n",
        "|:--:|:--:|\n",
        "|number|int, float|\n",
        "|string|charcter|\n",
        "|list|[1, 2,4], ['Mary','Tom','Jane'|\n",
        "|dictionary|(key: value), [('English': 80), ('Korean':90)]|\n",
        "|tuple|('zero', 0)|\n"
      ],
      "metadata": {
        "id": "ZVFb5JmJrPXu"
      }
    },
    {
      "cell_type": "code",
      "source": [
        "a1 = 3   # a1 is integer\n",
        "a2 = 3.0 # a2 is float\n",
        "a3 = \"3\" # a3 is string\n",
        "\n",
        "type(a1); type(a2); type(a3)\n",
        "# print(type(a1), type(a2), type(a3))"
      ],
      "metadata": {
        "colab": {
          "base_uri": "https://localhost:8080/"
        },
        "id": "g-kvldqENA1e",
        "outputId": "e17e4ce9-f65b-4436-9d92-2dcbf6b12c01"
      },
      "execution_count": 52,
      "outputs": [
        {
          "output_type": "execute_result",
          "data": {
            "text/plain": [
              "str"
            ]
          },
          "metadata": {},
          "execution_count": 52
        }
      ]
    },
    {
      "cell_type": "markdown",
      "source": [
        "list and index (0, 1, 2,...)"
      ],
      "metadata": {
        "id": "HC_wMsPnNbzs"
      }
    },
    {
      "cell_type": "code",
      "source": [
        "a = [1, \"Mary\", 4, \"John\"]  # This is a list.\n",
        "print(type(a))\n",
        "\n",
        "# a+a"
      ],
      "metadata": {
        "colab": {
          "base_uri": "https://localhost:8080/"
        },
        "id": "LyTw7phONZHE",
        "outputId": "eb6cf343-924a-47f3-b737-ca31ef736dc7"
      },
      "execution_count": 55,
      "outputs": [
        {
          "output_type": "stream",
          "name": "stdout",
          "text": [
            "<class 'list'>\n"
          ]
        }
      ]
    },
    {
      "cell_type": "markdown",
      "source": [
        "* index: Python index starts from '0'\n",
        "\n",
        "e.g., a = [1, 2, 3, 4]"
      ],
      "metadata": {
        "id": "-fL-pJvj7NW8"
      }
    },
    {
      "cell_type": "code",
      "source": [
        "a[0]\n",
        "type(a[0])\n",
        "type(a[1])\n",
        "a[0] + a[2]\n",
        "a[0] + a[1]"
      ],
      "metadata": {
        "id": "9Z5zLDGc7X13",
        "outputId": "5cdcb719-dbf1-4e2a-8b00-480cca6fc3fe",
        "colab": {
          "base_uri": "https://localhost:8080/",
          "height": 211
        }
      },
      "execution_count": 57,
      "outputs": [
        {
          "output_type": "error",
          "ename": "TypeError",
          "evalue": "ignored",
          "traceback": [
            "\u001b[0;31m---------------------------------------------------------------------------\u001b[0m",
            "\u001b[0;31mTypeError\u001b[0m                                 Traceback (most recent call last)",
            "\u001b[0;32m<ipython-input-57-7c2a495ff754>\u001b[0m in \u001b[0;36m<module>\u001b[0;34m\u001b[0m\n\u001b[1;32m      3\u001b[0m \u001b[0mtype\u001b[0m\u001b[0;34m(\u001b[0m\u001b[0ma\u001b[0m\u001b[0;34m[\u001b[0m\u001b[0;36m1\u001b[0m\u001b[0;34m]\u001b[0m\u001b[0;34m)\u001b[0m\u001b[0;34m\u001b[0m\u001b[0;34m\u001b[0m\u001b[0m\n\u001b[1;32m      4\u001b[0m \u001b[0ma\u001b[0m\u001b[0;34m[\u001b[0m\u001b[0;36m0\u001b[0m\u001b[0;34m]\u001b[0m \u001b[0;34m+\u001b[0m \u001b[0ma\u001b[0m\u001b[0;34m[\u001b[0m\u001b[0;36m2\u001b[0m\u001b[0;34m]\u001b[0m\u001b[0;34m\u001b[0m\u001b[0;34m\u001b[0m\u001b[0m\n\u001b[0;32m----> 5\u001b[0;31m \u001b[0ma\u001b[0m\u001b[0;34m[\u001b[0m\u001b[0;36m0\u001b[0m\u001b[0;34m]\u001b[0m \u001b[0;34m+\u001b[0m \u001b[0ma\u001b[0m\u001b[0;34m[\u001b[0m\u001b[0;36m1\u001b[0m\u001b[0;34m]\u001b[0m\u001b[0;34m\u001b[0m\u001b[0;34m\u001b[0m\u001b[0m\n\u001b[0m",
            "\u001b[0;31mTypeError\u001b[0m: unsupported operand type(s) for +: 'int' and 'str'"
          ]
        }
      ]
    },
    {
      "cell_type": "markdown",
      "source": [
        "[Github accounts](https://raw.githubusercontent.com/MK316/Spring2023/main/DL/files/DL_github.csv)"
      ],
      "metadata": {
        "id": "S-KG49Zaim0S"
      }
    },
    {
      "cell_type": "markdown",
      "source": [
        "\n",
        "\n",
        "---\n",
        "# The End\n"
      ],
      "metadata": {
        "id": "3cZjH9xIiN4_"
      }
    }
  ]
}
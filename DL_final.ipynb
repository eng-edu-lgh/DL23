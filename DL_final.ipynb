{
  "nbformat": 4,
  "nbformat_minor": 0,
  "metadata": {
    "colab": {
      "private_outputs": true,
      "provenance": [],
      "collapsed_sections": [
        "5PVBVvW2E_3l",
        "6VtViJHpFDs-"
      ],
      "include_colab_link": true
    },
    "kernelspec": {
      "name": "python3",
      "display_name": "Python 3"
    },
    "language_info": {
      "name": "python"
    }
  },
  "cells": [
    {
      "cell_type": "markdown",
      "metadata": {
        "id": "view-in-github",
        "colab_type": "text"
      },
      "source": [
        "<a href=\"https://colab.research.google.com/github/eng-edu-lgh/DL23/blob/main/DL_final.ipynb\" target=\"_parent\"><img src=\"https://colab.research.google.com/assets/colab-badge.svg\" alt=\"Open In Colab\"/></a>"
      ]
    },
    {
      "cell_type": "markdown",
      "source": [
        "# 💖 Digital Literacy Spring 2023 Final exam: 3 Questions\n",
        "\n",
        "Read the following before you begin:\n",
        "\n",
        "+ You are allowed to use open sources including course lessons, Google, ChatGPT, and anything but other classmates' answers :-)\n",
        "+ You are allowed to add more code cells when needed.\n",
        "+ At the end, you are asked to uplade the coding page in pdf (**DL_yourname.pdf**). (Plus an image file you generated in Question 3)\n",
        "+ When coding is done, save this page on your Github DL repository. (as **DL_final.ipynb**)\n",
        "---"
      ],
      "metadata": {
        "id": "YHcgden6Eoc7"
      }
    },
    {
      "cell_type": "markdown",
      "source": [
        "# 💧 Question 1: \"Mad libs game\" (말이 되지 않는 문장 만들기)\n",
        "\n",
        "+ Step 1)\n",
        "\n",
        "1. 사용자가 명사 하나, 동사 하나, 형용사 하나를 각각 별도로 입력하게 합니다. (질문에 'Write one noun word:' 와 같이 가이드를 해 줄 것. 힌트: input 함수를 세 번 사용함)\n",
        "\n",
        "2. 입력된 세 개의 단어는 문장 틀 \"The 형용사 명사 동사 in the forest.\" 속으로 자동으로 배치되어 출력을 하면 말이 되지 않을 수 있지만 문법적인 문장이 나오게 되는 게임입니다.\n",
        "\n",
        "Example 1) If I input adjective as 'pretty', noun as 'book', verb as 'smiled', your output should be \"The pretty book smiled in the forest.\n",
        "\n",
        "Example 2) If I input adjective as 'cold', noun as 'candy', verb as 'flies', then your output should be \"The cold candy flies in the forest.\n"
      ],
      "metadata": {
        "id": "5PVBVvW2E_3l"
      }
    },
    {
      "cell_type": "code",
      "source": [
        "gadj = input(\"Enter an adjective: \")\n",
        "verb = input(\"Enter a verb: \")\n",
        "noun = input(\"Enter a noun: \")\n",
        "\n",
        "sentence = f\"The {adj} {noun} {verb} in the forest.\"\n",
        "print(sentence)"
      ],
      "metadata": {
        "id": "OaeLBHYbCloB"
      },
      "execution_count": null,
      "outputs": []
    },
    {
      "cell_type": "markdown",
      "source": [
        "+ Step 2) 위에서 만들어진 문장이 오디오로 출력되도록 하시요. gTTS 사용\n",
        "\n",
        "gtts는 아래코드를 활용해도 됩니다.\n",
        "```\n",
        "# Necessary libraries installed\n",
        "!pip install gtts\n",
        "from gtts import gTTS\n",
        "from IPython.display import Audio\n",
        "```\n",
        "```\n",
        "# tts(text) is defined\n",
        "def tts(mytext):\n",
        "  tts = gTTS(mytext)\n",
        "  tts.save('sample.mp3')\n",
        "  return Audio('sample.mp3', autoplay=True)\n",
        "```"
      ],
      "metadata": {
        "id": "RrXJD2PN2yQl"
      }
    },
    {
      "cell_type": "code",
      "source": [
        "# Necessary libraries installed\n",
        "!pip install gtts\n",
        "from gtts import gTTS\n",
        "from IPython.display import Audio\n",
        "# tts(text) is defined\n",
        "def tts(sentence):\n",
        "  tts = gTTS(sentence)\n",
        "  tts.save('sample.mp3')\n",
        "  return Audio('sample.mp3', autoplay=True)"
      ],
      "metadata": {
        "id": "ZzMizqVvKZl_"
      },
      "execution_count": null,
      "outputs": []
    },
    {
      "cell_type": "markdown",
      "source": [
        "# 💧 Question 2: 동사의 과거형 발음해 주는 문장 만들기\n",
        "\n",
        "+ Step 1) 아래 단어 리스트에서 random 함수를 이용해서 임의로 단어를 하나 선택하게 하고, 단어가 선택되면\n",
        "\n",
        "> The past form of **_kick_** is **kicked**.\n",
        "\n",
        "라고 문장이 출력되도록 코드를 작성하시오. 단어리스트는 아래를 사용하시오.\n",
        "\n",
        "wlist = [\"kick\",\"play\",\"print\",\"seek\",\"need\"]\n",
        "\n"
      ],
      "metadata": {
        "id": "6VtViJHpFDs-"
      }
    },
    {
      "cell_type": "code",
      "source": [
        "import random\n",
        "\n",
        "wlist = [\"kick\", \"play\", \"print\", \"seek\", \"need\"]\n",
        "\n",
        "# Choose a random word from wlist\n",
        "random_word = random.choice(wlist)\n",
        "\n",
        "# Add 'ed' at the end of the word\n",
        "modified_word = random_word + 'ed'\n",
        "\n",
        "print(modified_word)"
      ],
      "metadata": {
        "id": "LJ_XehIdKNGd"
      },
      "execution_count": null,
      "outputs": []
    },
    {
      "cell_type": "markdown",
      "source": [
        "#💧 Question 3\n",
        "\n",
        "**Using the following text, complete the following tasks:**\n",
        "\n",
        "Once upon a time, in a dense forest, lived a diligent ant named Archie. Archie was known for his relentless work ethic, always gathering food and strengthening his ant hill, even when the sun was at its peak.\n",
        "\n",
        "One day, a grasshopper named Gerry hopped by, laughing at Archie. \"Why do you work so hard, Archie?\" Gerry asked. \"Come, bask in the sun with me.\"\n",
        "\n",
        "Archie, wiping his brow, replied, 'I am investing my time now, Gerry, so that I do not need to have to worry later.'\n",
        "\n",
        "Gerry shrugged and hopped away, leaving Archie to his work. The summer passed, and the harsh winter arrived. Gerry, who had spent his summer hopping and basking, found himself cold and hungry. He hopped over to Archie's hill, shivering.\n",
        "\n",
        "Archie, who was comfortably nestled inside his warm and well-stocked hill, saw Gerry. He invited him in, sharing his food and warmth. Gerry, grateful yet regretful, understood the lesson Archie had tried to teach him in the summer.\n",
        "\n",
        "From that day forward, Gerry learned to invest his time wisely, understanding that hard work today can ensure comfort and security tomorrow. And Archie, with his wisdom and foresight, became a symbol of diligence and wise investment in the forest.\n",
        "\n"
      ],
      "metadata": {
        "id": "W1zQNXgxFKiU"
      }
    },
    {
      "cell_type": "markdown",
      "source": [
        "+ Step 1) 위의 텍스트를 'mytext'라는 변수이름으로 저장하시오. 'mytext'의 데이터 타입은 string이어야 합니다."
      ],
      "metadata": {
        "id": "-Or43kCAMqx2"
      }
    },
    {
      "cell_type": "code",
      "source": [
        "mytext = '''Once upon a time, in a dense forest, lived a diligent ant named Archie. Archie was known for his relentless work ethic, always gathering food and strengthening his ant hill, even when the sun was at its peak.\n",
        "One day, a grasshopper named Gerry hopped by, laughing at Archie. \"Why do you work so hard, Archie?\" Gerry asked. \"Come, bask in the sun with me.\"\n",
        "Archie, wiping his brow, replied, 'I am investing my time now, Gerry, so that I do not need to have to worry later.'\n",
        "Gerry shrugged and hopped away, leaving Archie to his work. The summer passed, and the harsh winter arrived. Gerry, who had spent his summer hopping and basking, found himself cold and hungry. He hopped over to Archie's hill, shivering.\n",
        "Archie, who was comfortably nestled inside his warm and well-stocked hill, saw Gerry. He invited him in, sharing his food and warmth. Gerry, grateful yet regretful, understood the lesson Archie had tried to teach him in the summer.\n",
        "From that day forward, Gerry learned to invest his time wisely, understanding that hard work today can ensure comfort and security tomorrow. And Archie, with his wisdom and foresight, became a symbol of diligence and wise investment in the forest.'''\n"
      ],
      "metadata": {
        "id": "9WWSq6AiFL_k"
      },
      "execution_count": null,
      "outputs": []
    },
    {
      "cell_type": "markdown",
      "source": [
        "+ Step 2) 불필요한 스페이스 제거, 개별 단어를 리스트로 만들어 'mywords'라는 이름으로 저장한 후, len(mywords)를 이용하여 마지막으로 'The story contains N words.\"가 출력되도록 하시오. (N은 총 단어수)"
      ],
      "metadata": {
        "id": "qIm_1XgEvtZY"
      }
    },
    {
      "cell_type": "code",
      "source": [
        "mywords = mytext.split()\n",
        "num_words = len(mywords)\n",
        "story_sentence = f\"The story contains {num_words} words.\"\n",
        "print(story_sentence)"
      ],
      "metadata": {
        "id": "H0LZdOf8vmIL"
      },
      "execution_count": null,
      "outputs": []
    },
    {
      "cell_type": "markdown",
      "source": [
        "+ Step 3) mytext를 문장 단위로 나누고 'mysentence'로 저장하고, len(mysentence)를 이용하여 마지막으로 'The story contains N sentences.\"가 출력되도록 하시오. (N은 총 문장수)"
      ],
      "metadata": {
        "id": "t6imEqS4xv7v"
      }
    },
    {
      "cell_type": "code",
      "source": [
        "set2 = mytext.split(\".\")\n",
        "set2\n",
        "set3 = [s.strip() for s in set2]\n",
        "set3\n",
        "mysentence = [x for x in set3 if x != \"\"]\n",
        "mysentence\n",
        "num_sentences = len(mysentence)\n",
        "story_sentence = f\"The story contains {num_sentences} sentences.\"\n",
        "print(story_sentence)"
      ],
      "metadata": {
        "id": "64NcDdl5ytyZ"
      },
      "execution_count": null,
      "outputs": []
    },
    {
      "cell_type": "markdown",
      "source": [
        "+ Step 4) mytext를 가지고 워드클라우드를 만드시오."
      ],
      "metadata": {
        "id": "uJoVzCDOvvUR"
      }
    },
    {
      "cell_type": "code",
      "source": [
        "#@markdown Wordcloud with your own text: Paste your text\n",
        "\n",
        "#Import libraries\n",
        "import matplotlib.pyplot as plt\n",
        "from wordcloud import WordCloud\n",
        "\n",
        "# Getting text from the user\n",
        "user_text = input(\"Please paste your text here: \")\n",
        "\n",
        "\n",
        "wordcloud = WordCloud(\n",
        "    background_color='white',\n",
        "    width=800,\n",
        "    height=800,\n",
        "    max_words=100\n",
        ").generate(user_text)\n",
        "\n",
        "plt.figure(figsize=(8, 8))\n",
        "plt.imshow(wordcloud, interpolation='bilinear')\n",
        "plt.axis('off')\n",
        "plt.show()"
      ],
      "metadata": {
        "id": "jLToX2IGvnEA"
      },
      "execution_count": null,
      "outputs": []
    },
    {
      "cell_type": "markdown",
      "source": [
        "+ Step 5) mytext에서 문장 번호를 선택하면 해당 문장이 오디오로 재생되도록 코드를 작성하시오. (힌트, gtts, Audio를 불러오고, 코드에 #@param을 이용하여 리스트로 문장번호를 작성한 후, text = 선택된 문장이 되도록 한 후, Audio()함수를 이용하여 음성을 합성합니다.)\n",
        "+ 아래 제공한 코드는 #를 풀고 사용하실 수 있습니다.\n",
        "+ gtts는 아래코드를 활용해도 됩니다.\n",
        "```\n",
        "# Necessary libraries installed\n",
        "!pip install gtts\n",
        "from gtts import gTTS\n",
        "from IPython.display import Audio\n",
        "```\n",
        "```\n",
        "# tts(text) is defined\n",
        "def tts(mytext):\n",
        "  tts = gTTS(mytext)\n",
        "  tts.save('sample.mp3')\n",
        "  return Audio('sample.mp3', autoplay=True)\n",
        "```"
      ],
      "metadata": {
        "id": "mIp-UHVPxhpD"
      }
    },
    {
      "cell_type": "code",
      "source": [],
      "metadata": {
        "id": "UAyizVxNvoDS"
      },
      "execution_count": null,
      "outputs": []
    },
    {
      "cell_type": "markdown",
      "source": [
        "+ Step 6: Question 3번에 있는 텍스트 내용을 상징하는 이미지를 온라인에서 접근 가능한 AI 도구를 사용하여 생성하고, 만들어진 이미지를 본인 Github에 저장한 후, 링크를 이용하여 아래 코드를 돌리면 해당 이미지가 보일 수 있도록 하시오.\n",
        "+ 추가로 맨 마지막에 이미지 파일을 업로드하게 되어 있습니다. (바탕화면에도 저장해 두기 바랍니다.)"
      ],
      "metadata": {
        "id": "HMCNpRHIBYy1"
      }
    },
    {
      "cell_type": "code",
      "source": [
        "#markdown Slides\n",
        "\n",
        "from IPython.display import Image\n",
        "\n",
        "myslides = \"1\" #@param = [1]\n",
        "\n",
        "sn = int(myslides)\n",
        "\n",
        "url = [\"https://github.com/eng-edu-lgh/DL23/raw/main/image0.png?raw=true\",]\n",
        "\n",
        "image = Image(url[sn], width = 50, height = 50)\n",
        "display(image)"
      ],
      "metadata": {
        "id": "CyAzz2TmBeTY"
      },
      "execution_count": null,
      "outputs": []
    },
    {
      "cell_type": "markdown",
      "source": [
        "# 😍 The End:\n",
        "+ 한 학기 동안 고생 많았고 여러분 협조 덕분에 잘 마무리된 것 같습니다. 2년 후에는 여러분 학생들과 재밌는 수업하고 있는 즐거운 상상을 해봅니다 :-)\n",
        "---\n",
        "<기말제출 안내>\n",
        "\n",
        "\n",
        "+ 작성한 코드를 **Github이 아니라 본인 Google Drive에** 'DL_final.ipynb'로 저장하세요. **시험이 모두 완료된 1시 이후 (본인 시간될 때)** 구글드라이브에서 해당 파일을 더블클릭하여 열면 코랩으로 열립니다. 이를 다시 Github DL repository에 저장해 두시기 바랍니다 (보관용) 채점시 확인용으로 참고할 필요가 있을 수 있습니다. File > Save a copy in Drive (나중에는 Save a copy in Github)\n",
        "+ 주의사항: pdf로 만들어 제출하는데 혹시라도 확인이 필요한 경우 제가 github을 방문하여 코드를 확인하는 경우가 생길 수 있으니, 꼭 (Google) Drive에 사본을 저장해 두세요.\n",
        "+ 완성된 코드는 중간고사 때와 마찬가지로 **pdf로 만들어 이미지파일과 함께 두 개의 파일을** [여기](https://forms.gle/iMxnt8aHmFrqyzAE7)를 눌러 제출하시면 됩니다.\n",
        "+ Colab munu > File > print > save as pdf"
      ],
      "metadata": {
        "id": "RVko5GPI41EH"
      }
    }
  ]
}
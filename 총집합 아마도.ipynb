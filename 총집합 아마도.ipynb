{
  "nbformat": 4,
  "nbformat_minor": 0,
  "metadata": {
    "colab": {
      "provenance": [],
      "authorship_tag": "ABX9TyMwE9AbIpdlJdRSXfI3RtgI",
      "include_colab_link": true
    },
    "kernelspec": {
      "name": "python3",
      "display_name": "Python 3"
    },
    "language_info": {
      "name": "python"
    }
  },
  "cells": [
    {
      "cell_type": "markdown",
      "metadata": {
        "id": "view-in-github",
        "colab_type": "text"
      },
      "source": [
        "<a href=\"https://colab.research.google.com/github/eng-edu-lgh/DL23/blob/main/%EC%B4%9D%EC%A7%91%ED%95%A9%20%EC%95%84%EB%A7%88%EB%8F%84.ipynb\" target=\"_parent\"><img src=\"https://colab.research.google.com/assets/colab-badge.svg\" alt=\"Open In Colab\"/></a>"
      ]
    },
    {
      "cell_type": "code",
      "execution_count": null,
      "metadata": {
        "id": "9NCdAa47NelU"
      },
      "outputs": [],
      "source": []
    },
    {
      "cell_type": "markdown",
      "source": [
        "**Python:**\n",
        "+ Python is a popular and **easy-to-learn** programming language.\n",
        "+It is used for **web development, data analysis, and artificial intelligence.**\n",
        "+Python has a **simple syntax,** making it a great choice for beginners.\n",
        "+It has a **large and active community,** offering many resources and support.\n",
        "+Python has a **vast library of pre-built modules and packages,** saving time and effort in development.\n",
        "+Overall, Python is an **accessible and practical language to learn, with many applications in different fields.**"
      ],
      "metadata": {
        "id": "5ask1MDoN31z"
      }
    },
    {
      "cell_type": "markdown",
      "source": [
        "--\n",
        "#####-을 통해서 선을 생성, '#'을 통해서 글자 크기 조절\n",
        "--"
      ],
      "metadata": {
        "id": "pAUYJmvwPOOQ"
      }
    },
    {
      "cell_type": "code",
      "source": [
        "#@markdown '#@markdown' 을 통해 코드속에서 텍스트 입력"
      ],
      "metadata": {
        "cellView": "form",
        "id": "bKuRr4jqQj_L"
      },
      "execution_count": null,
      "outputs": []
    },
    {
      "cell_type": "code",
      "source": [
        "#tts를 인스톨하고 임포트하고 정의까지 하는 거지!\n",
        "!pip install gTTS\n",
        "from gtts import gTTS\n",
        "from IPython.display import Audio\n",
        "def tts(text):\n",
        "  gtts_object = gTTS(text,lang = \"en\", slow = True) \n",
        "  gtts_object.save(\"myaudio.mp3\")\n",
        "  return Audio(\"myaudio.mp3\")"
      ],
      "metadata": {
        "colab": {
          "base_uri": "https://localhost:8080/"
        },
        "id": "Jyk4ur8AOYyq",
        "outputId": "d03b6948-42de-48e8-f9b8-fd33409b17da"
      },
      "execution_count": 46,
      "outputs": [
        {
          "output_type": "stream",
          "name": "stdout",
          "text": [
            "Looking in indexes: https://pypi.org/simple, https://us-python.pkg.dev/colab-wheels/public/simple/\n",
            "Requirement already satisfied: gTTS in /usr/local/lib/python3.10/dist-packages (2.3.2)\n",
            "Requirement already satisfied: requests<3,>=2.27 in /usr/local/lib/python3.10/dist-packages (from gTTS) (2.27.1)\n",
            "Requirement already satisfied: click<8.2,>=7.1 in /usr/local/lib/python3.10/dist-packages (from gTTS) (8.1.3)\n",
            "Requirement already satisfied: urllib3<1.27,>=1.21.1 in /usr/local/lib/python3.10/dist-packages (from requests<3,>=2.27->gTTS) (1.26.15)\n",
            "Requirement already satisfied: certifi>=2017.4.17 in /usr/local/lib/python3.10/dist-packages (from requests<3,>=2.27->gTTS) (2022.12.7)\n",
            "Requirement already satisfied: charset-normalizer~=2.0.0 in /usr/local/lib/python3.10/dist-packages (from requests<3,>=2.27->gTTS) (2.0.12)\n",
            "Requirement already satisfied: idna<4,>=2.5 in /usr/local/lib/python3.10/dist-packages (from requests<3,>=2.27->gTTS) (3.4)\n"
          ]
        }
      ]
    },
    {
      "cell_type": "code",
      "source": [
        "#@markdown 이걸로 그냥 코리안, 영어, 불어 tts 가능\n",
        "%%capture\n",
        "!pip install gTTS      # Installation\n",
        "from gtts import gTTS  # Import\n",
        "from IPython.display import Audio\n",
        "\n",
        "#######################\n",
        "def etts(text):\n",
        "  text_to_say = text\n",
        "\n",
        "  gtts_object = gTTS(text = text_to_say,\n",
        "                     lang = \"en\", tld = \"us\",\n",
        "                    slow = True)\n",
        "  \n",
        "  gtts_object.save(\"E-audio.mp3\")\n",
        "  return Audio(\"E-audio.mp3\")\n",
        "#######################\n",
        "\n",
        "def ktts(text):\n",
        "  text_to_say = text\n",
        "\n",
        "  gtts_object = gTTS(text = text_to_say,\n",
        "                     lang = \"ko\",\n",
        "                    slow = False)\n",
        "  \n",
        "  gtts_object.save(\"K-audio.mp3\")\n",
        "  return Audio(\"K-audio.mp3\")\n",
        "\n",
        "#######################\n",
        "\n",
        "def ftts(text):\n",
        "  text_to_say = text\n",
        "\n",
        "  gtts_object = gTTS(text = text_to_say,\n",
        "                     lang = \"fr\",\n",
        "                    slow = False)\n",
        "  \n",
        "  gtts_object.save(\"F-audio.mp3\")\n",
        "  return Audio(\"F-audio.mp3\")"
      ],
      "metadata": {
        "cellView": "form",
        "id": "jqJ15HHvQ1nI"
      },
      "execution_count": 48,
      "outputs": []
    },
    {
      "cell_type": "code",
      "source": [
        "ftts(\"Bon jour!\")"
      ],
      "metadata": {
        "id": "Hy0NxSnLRL06"
      },
      "execution_count": null,
      "outputs": []
    },
    {
      "cell_type": "code",
      "source": [
        "ktts(\"안녕하세요?\")"
      ],
      "metadata": {
        "id": "Y2fa3ldVRKRT"
      },
      "execution_count": null,
      "outputs": []
    },
    {
      "cell_type": "code",
      "source": [
        "etts(\"Good morning!\")"
      ],
      "metadata": {
        "id": "eqCpWplgRFUL"
      },
      "execution_count": null,
      "outputs": []
    },
    {
      "cell_type": "code",
      "source": [
        "tts('hi')"
      ],
      "metadata": {
        "colab": {
          "base_uri": "https://localhost:8080/",
          "height": 76
        },
        "id": "yaQyzdJnPEGG",
        "outputId": "a16ac38c-f932-4f7e-d100-ece4a8d2e246"
      },
      "execution_count": 4,
      "outputs": [
        {
          "output_type": "execute_result",
          "data": {
            "text/plain": [
              "<IPython.lib.display.Audio object>"
            ],
            "text/html": [
              "\n",
              "                <audio  controls=\"controls\" >\n",
              "                    <source src=\"data:audio/mpeg;base64,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\" type=\"audio/mpeg\" />\n",
              "                    Your browser does not support the audio element.\n",
              "                </audio>\n",
              "              "
            ]
          },
          "metadata": {},
          "execution_count": 4
        }
      ]
    },
    {
      "cell_type": "code",
      "source": [
        "#@markdown [3] 이건 텍스트를 바로 입력(Using a pop-up window)\n",
        "mytext = input(\"Type text: \")\n",
        "tts(mytext)"
      ],
      "metadata": {
        "colab": {
          "base_uri": "https://localhost:8080/",
          "height": 93
        },
        "id": "EjY_UUKLP-XU",
        "outputId": "9c7adc4e-fdc6-4d06-e2cc-2674fbaa5ed8"
      },
      "execution_count": 53,
      "outputs": [
        {
          "name": "stdout",
          "output_type": "stream",
          "text": [
            "Type text: hi\n"
          ]
        },
        {
          "output_type": "execute_result",
          "data": {
            "text/plain": [
              "<IPython.lib.display.Audio object>"
            ],
            "text/html": [
              "\n",
              "                <audio  controls=\"controls\" >\n",
              "                    <source src=\"data:audio/mpeg;base64,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\" type=\"audio/mpeg\" />\n",
              "                    Your browser does not support the audio element.\n",
              "                </audio>\n",
              "              "
            ]
          },
          "metadata": {},
          "execution_count": 53
        }
      ]
    },
    {
      "cell_type": "code",
      "source": [
        "#@markdown Q1: \"What is openAI?\"\n",
        "\n",
        "mytext = \"OpenAI is a research organization dedicated to promoting and developing friendly AI in a responsible way. It was founded in 2015 by Elon Musk, Sam Altman, Greg Brockman, Ilya Sutskever, and Wojciech Zaremba with the goal of ensuring that artificial intelligence benefits humanity as a whole. OpenAI conducts research in a wide range of areas related to AI, including machine learning, robotics, and natural language processing, and also provides open-source tools and resources for the AI community. The organization aims to advance AI in a way that is safe, transparent, and beneficial for society, and to promote a future in which AI is aligned with human values and well-being.\"\n",
        "print(mytext)\n",
        "tts(mytext)"
      ],
      "metadata": {
        "cellView": "form",
        "id": "Cp__RTFCazaC"
      },
      "execution_count": null,
      "outputs": []
    },
    {
      "cell_type": "markdown",
      "source": [
        "variable이란 =로 정의를 한것을 의미"
      ],
      "metadata": {
        "id": "tKdDBSLvSNYl"
      }
    },
    {
      "cell_type": "code",
      "source": [
        "x = 10\n",
        "y = \"Hello, class!\"\n",
        "z = [1, 2, 3]"
      ],
      "metadata": {
        "id": "MEgKfJD7R7eu"
      },
      "execution_count": 8,
      "outputs": []
    },
    {
      "cell_type": "code",
      "source": [
        "# 링크나 함수를 넣을 수도 있다\n",
        "#이처럼 코드 속에 텍스트를 넣으려면'#'를 앞에 입력하면 된다 \n",
        "import pandas as pd\n",
        "url = \"https://github.com/MK316/Spring2023/raw/main/data/att_sample.csv\"\n",
        "data = pd.read_csv(url)\n",
        "data"
      ],
      "metadata": {
        "id": "odaVXjAfSkMq"
      },
      "execution_count": null,
      "outputs": []
    },
    {
      "cell_type": "code",
      "source": [
        "x1 = x * 10\n",
        "x2 = x + 5\n",
        "\n",
        "print(x1, x2)"
      ],
      "metadata": {
        "colab": {
          "base_uri": "https://localhost:8080/"
        },
        "id": "Iop2rsG7TKNB",
        "outputId": "fd0f1016-d9c3-496c-e0e6-78520e60729a"
      },
      "execution_count": 10,
      "outputs": [
        {
          "output_type": "stream",
          "name": "stdout",
          "text": [
            "100 15\n"
          ]
        }
      ]
    },
    {
      "cell_type": "code",
      "source": [
        "y1 = y + \"Welcome to the class.\"\n",
        "z1 = z + [3,2,1]\n",
        " \n",
        "print(y1, z1)"
      ],
      "metadata": {
        "colab": {
          "base_uri": "https://localhost:8080/"
        },
        "id": "nJptuwrCTRTN",
        "outputId": "77d67031-442b-4593-8484-8fd6a35b2536"
      },
      "execution_count": 11,
      "outputs": [
        {
          "output_type": "stream",
          "name": "stdout",
          "text": [
            "Hello, class!Welcome to the class. [1, 2, 3, 3, 2, 1]\n"
          ]
        }
      ]
    },
    {
      "cell_type": "code",
      "source": [
        "x = 2; y = 5\n",
        "\n",
        "a1 = x + y\n",
        "a2 = x - y\n",
        "a3 = x * y\n",
        "a4 = x / y\n",
        "a5 = x ** y"
      ],
      "metadata": {
        "id": "kKsMYjWHTRh5"
      },
      "execution_count": 13,
      "outputs": []
    },
    {
      "cell_type": "code",
      "source": [
        "print(a1, a2, a3, a4, a5)"
      ],
      "metadata": {
        "colab": {
          "base_uri": "https://localhost:8080/"
        },
        "id": "2s_CnmYnTpOB",
        "outputId": "6afb32ef-1c9f-4dcf-ac6c-6527c039b34c"
      },
      "execution_count": 14,
      "outputs": [
        {
          "output_type": "stream",
          "name": "stdout",
          "text": [
            "7 -3 10 0.4 32\n"
          ]
        }
      ]
    },
    {
      "cell_type": "code",
      "source": [
        "#@markdown 계산기를 만들어 보자\n",
        "# This function adds two numbers\n",
        "def add(x, y):\n",
        "    return x + y\n",
        "\n",
        "# This function subtracts two numbers\n",
        "def subtract(x, y):\n",
        "    return x - y\n",
        "\n",
        "# This function multiplies two numbers\n",
        "def multiply(x, y):\n",
        "    return x * y\n",
        "\n",
        "# This function divides two numbers\n",
        "def divide(x, y):\n",
        "    return x / y\n"
      ],
      "metadata": {
        "cellView": "form",
        "id": "a6GyQwG_T9Kx"
      },
      "execution_count": 16,
      "outputs": []
    },
    {
      "cell_type": "code",
      "source": [
        "# 테스트 하면서 각각을 대입해보자\n",
        "\n",
        "add(2,3)\n",
        "# subtract(3,2)\n",
        "# multiply(2,3)\n",
        "# divide(3,2)"
      ],
      "metadata": {
        "colab": {
          "base_uri": "https://localhost:8080/"
        },
        "id": "4n33wl7GUKBa",
        "outputId": "ac564433-6e0a-43a7-fcbb-88e207fd6fca"
      },
      "execution_count": 18,
      "outputs": [
        {
          "output_type": "execute_result",
          "data": {
            "text/plain": [
              "5"
            ]
          },
          "metadata": {},
          "execution_count": 18
        }
      ]
    },
    {
      "cell_type": "code",
      "source": [
        "#@markdown 이걸로 드롭박스를 이용해서 계산기가 가능해\n",
        "func = \"subtract\" #@param = [\"add\",\"subtract\",\"multiply\",\"divide\"]\n",
        "digits = input(\"Type two numbers: (e.g., 3,4)\")\n",
        "digitsplit = digits.split(',')\n",
        "d1 = int(digitsplit[0])\n",
        "d2 = int(digitsplit[1])\n",
        "\n",
        "if func == \"add\":\n",
        "  result = add(d1,d2)\n",
        "  text = \"The addition of %d and %d equals %d.\"%(d1,d2,result)\n",
        "elif func == \"subtract\":\n",
        "  result = subtract(d1,d2)\n",
        "  text = \"If you subtract %d from %d, you get %d.\"%(d2,d1,result)\n",
        "elif func == \"divide\":\n",
        "  result = divide(d1,d2)\n",
        "  text = \"When you divide %d by %d, you get %d.\"%(d1,d2,result)\n",
        "elif func == \"multiply\":\n",
        "  result = multiply(d1,d2)\n",
        "  text = \"%d multiplied by %d is %d.\"%(d1,d2,result)\n",
        "\n",
        "print(text)\n",
        "tts(text)\n",
        "Audio(\"myaudio.mp3\")"
      ],
      "metadata": {
        "colab": {
          "base_uri": "https://localhost:8080/",
          "height": 110
        },
        "cellView": "form",
        "id": "nRhMWK4bUVFs",
        "outputId": "0a432961-5932-41ab-e4d4-67de65d7dfef"
      },
      "execution_count": 19,
      "outputs": [
        {
          "output_type": "stream",
          "name": "stdout",
          "text": [
            "Type two numbers: (e.g., 3,4)1, 2\n",
            "If you subtract 2 from 1, you get -1.\n"
          ]
        },
        {
          "output_type": "execute_result",
          "data": {
            "text/plain": [
              "<IPython.lib.display.Audio object>"
            ],
            "text/html": [
              "\n",
              "                <audio  controls=\"controls\" >\n",
              "                    <source src=\"data:audio/mpeg;base64,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\" type=\"audio/mpeg\" />\n",
              "                    Your browser does not support the audio element.\n",
              "                </audio>\n",
              "              "
            ]
          },
          "metadata": {},
          "execution_count": 19
        }
      ]
    },
    {
      "cell_type": "markdown",
      "source": [
        "다른 공식도 존재하지!: <br>\n",
        "* Comparison Operators: ==, !=, <, >, <=, >= <br>\n",
        "* Assignment Operators: =, +=, -=, *=, /=, %= <br>\n",
        "* Logical Operators: and, or, not <br>\n",
        "* Identity Operators: is, is not <br>\n",
        "* Membership Operators: in, not in "
      ],
      "metadata": {
        "id": "CwhViMYaUm-G"
      }
    },
    {
      "cell_type": "code",
      "source": [
        "#@markdown ***Title: 이걸로는 유튜브 영상을 갖다 붙일 수 있다***\n",
        "from IPython.display import YouTubeVideo, display\n",
        "video = YouTubeVideo(\"AgINA9_IFiI\", width=600)\n",
        "display(video)"
      ],
      "metadata": {
        "cellView": "form",
        "id": "-nrYN9vFU8mE"
      },
      "execution_count": null,
      "outputs": []
    },
    {
      "cell_type": "code",
      "source": [
        "#@markdown 사진 붙이는 법도 보자! \n",
        "from IPython.display import Image\n",
        "\n",
        "pages = \"1\" #@param = [\"1\", \"2\"]\n",
        "adds = ['https://github.com/MK316/Spring2023/raw/main/DL/data/earth.png',\n",
        "        'https://github.com/MK316/Spring2023/raw/main/DL/data/worldtimezone.png']\n",
        "\n",
        "if pages == \"1\":\n",
        "  add = adds[0]\n",
        "elif pages == \"2\":\n",
        "  add = adds[1]\n",
        "\n",
        "Image(url=add, width=900, height=600)"
      ],
      "metadata": {
        "cellView": "form",
        "id": "z9ZwE0nfVM1i"
      },
      "execution_count": null,
      "outputs": []
    },
    {
      "cell_type": "code",
      "source": [
        "from datetime import datetime\n",
        "import pytz\n",
        "\n",
        "#@markdown **🌲 Step [1] 이 코드를 써서 위치, 국ㄱ 정보를 입력해봐!:**\n",
        "# Get the timezone object for New York\n",
        "\n",
        "location = 'America/New_York' #@param = ['Asia/Seoul','Asia/Shanghai','Asia/Dubai','Australia/Sydney','America/New_York', 'Canada/Montreal','Europe/London', 'Europe/Barcelona','Africa/Cairo']\n",
        "loc = location.split(\"/\")\n",
        "locq = loc[1]\n",
        "\n",
        "tz_loc = pytz.timezone(location) \n",
        "datetime = datetime.now(tz_loc)\n",
        "current_time1 = datetime.strftime(\"%H:%M\")\n",
        "current_time2 = datetime.strftime(\"%I:%M %p\")\n",
        "\n",
        "# Get the current time in New York\n",
        "print(\"Current Time in %s is\"%locq, current_time2)"
      ],
      "metadata": {
        "colab": {
          "base_uri": "https://localhost:8080/"
        },
        "cellView": "form",
        "id": "ZYybe2sbVfRp",
        "outputId": "529db7a5-c116-4a69-b281-b96837f733d7"
      },
      "execution_count": 22,
      "outputs": [
        {
          "output_type": "stream",
          "name": "stdout",
          "text": [
            "Current Time in New_York is 12:40 PM\n"
          ]
        }
      ]
    },
    {
      "cell_type": "markdown",
      "source": [],
      "metadata": {
        "id": "TedA-KR-V8xk"
      }
    },
    {
      "cell_type": "code",
      "source": [
        "#@markdown **🌲 Step [2] 이제 사용할 언어를 선택해봐!**\n",
        "# language and dialect selection\n",
        "language_select = \"en/us/English(US)\" #@param = [\"en/us/English(US)\",\"en/co.uk/English(UK)\",\"en/com.au/English(Australia)\",\"en/ca/English(Canada)\",\"en/co.in/English(India)\",\"en/ie/English(Ireland)\",\"fr/fr/French\",\"es/es/Spanish(Spain)/\",\"ko/ko/Korean\",\"zh-CN/any/Chinese(Main Land)\"]\n",
        "langsel = language_select.split(\"/\")\n",
        "lg = langsel[0]\n",
        "dialect = langsel[1]\n",
        "\n",
        "# text input\n",
        "txt = input(\"Type texts to say: \")\n",
        "\n",
        "import random\n",
        "citylist = [\"London\",\"Paris\",\"New York\",\"Dubai\",\"Jinju\",\"Barcelona\",\"Shanghai\",\"Montreal\",\"Sydney\"]\n",
        "city = random.choice(citylist)\n",
        "mytext = \"What time is it in %s now?\"%city + \"... \" +  txt\n",
        "# function\n",
        "if lg == \"ko\":\n",
        "  tts = gTTS(mytext, lang = lg, slow = False)\n",
        "elif lg == \"zh-CN\":\n",
        "  tts = gTTS(mytext, lang = lg, slow = False)\n",
        "else:\n",
        "  tts = gTTS(mytext, lang = lg, tld = dialect, slow = False)\n",
        "\n",
        "tts.save('myaudio.mp3')\n",
        "  \n",
        "# Save as a file for reading\n",
        "\n",
        "# Play audio\n",
        "from IPython.display import Audio, display\n",
        "Audio('myaudio.mp3', autoplay = True)"
      ],
      "metadata": {
        "colab": {
          "base_uri": "https://localhost:8080/",
          "height": 93
        },
        "cellView": "form",
        "id": "Pwul1VirVr8K",
        "outputId": "0b31569f-ca41-42b6-b939-3d970d2ab53e"
      },
      "execution_count": 28,
      "outputs": [
        {
          "name": "stdout",
          "output_type": "stream",
          "text": [
            "Type texts to say: Current Time in New_York is 12:40 PM\n"
          ]
        },
        {
          "output_type": "execute_result",
          "data": {
            "text/plain": [
              "<IPython.lib.display.Audio object>"
            ],
            "text/html": [
              "\n",
              "                <audio  controls=\"controls\" autoplay=\"autoplay\">\n",
              "                    <source src=\"data:audio/mpeg;base64,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\" type=\"audio/mpeg\" />\n",
              "                    Your browser does not support the audio element.\n",
              "                </audio>\n",
              "              "
            ]
          },
          "metadata": {},
          "execution_count": 28
        }
      ]
    },
    {
      "cell_type": "markdown",
      "source": [
        "정수, 소수, 스트링을 배워보자 \n",
        "* integer: e.g., -3, 1, 0, 234, etc.\n",
        "* float: e.g., -3.0, 1.2, 0, 3.141592653589793238, etc.\n",
        "* string: (characters) \"1\", '0', \"3.29\", \"Mary\", \"euphoria\", 'My name is Jane.'\n"
      ],
      "metadata": {
        "id": "eo5rIOubWWz3"
      }
    },
    {
      "cell_type": "code",
      "source": [
        "# DIY\n",
        "a = 1\n",
        "b = 3\n",
        "c = a + b\n",
        "print(c)\n",
        "\n",
        "a1 = \"1\"\n",
        "b1 = \"3\"\n",
        "c1 = a1 + b1\n",
        "print(c1)"
      ],
      "metadata": {
        "colab": {
          "base_uri": "https://localhost:8080/"
        },
        "id": "d-jPpvm2XOUK",
        "outputId": "f8bbfe9b-98f4-445d-e31a-a4dbf2c10ac6"
      },
      "execution_count": 25,
      "outputs": [
        {
          "output_type": "stream",
          "name": "stdout",
          "text": [
            "4\n",
            "13\n"
          ]
        }
      ]
    },
    {
      "cell_type": "code",
      "source": [
        "type(c)"
      ],
      "metadata": {
        "colab": {
          "base_uri": "https://localhost:8080/"
        },
        "id": "K0aAW93KX4YP",
        "outputId": "071246c8-a757-49a0-bbd8-4e178782cfe8"
      },
      "execution_count": 30,
      "outputs": [
        {
          "output_type": "execute_result",
          "data": {
            "text/plain": [
              "int"
            ]
          },
          "metadata": {},
          "execution_count": 30
        }
      ]
    },
    {
      "cell_type": "code",
      "source": [
        "print(type(z), type(z1))"
      ],
      "metadata": {
        "colab": {
          "base_uri": "https://localhost:8080/"
        },
        "id": "dga4p7ehX9wW",
        "outputId": "3092b5af-db0e-4181-b483-99afb2c8c5bc"
      },
      "execution_count": 31,
      "outputs": [
        {
          "output_type": "stream",
          "name": "stdout",
          "text": [
            "<class 'int'> <class 'str'>\n"
          ]
        }
      ]
    },
    {
      "cell_type": "code",
      "source": [
        "#절대값을 입력해보자!\n",
        "print(\"The value of a1:\", a1)"
      ],
      "metadata": {
        "colab": {
          "base_uri": "https://localhost:8080/"
        },
        "id": "DuYyHr6MYEk_",
        "outputId": "aa77ae84-208a-49ac-9f01-359b1aeef41d"
      },
      "execution_count": 34,
      "outputs": [
        {
          "output_type": "stream",
          "name": "stdout",
          "text": [
            "The value of a1: 1\n"
          ]
        }
      ]
    },
    {
      "cell_type": "code",
      "source": [
        "#@markdown 이거도 계산기야!\n",
        "\n",
        "# This function adds two numbers\n",
        "def add(x, y):\n",
        "    return x + y\n",
        "\n",
        "# This function subtracts two numbers\n",
        "def subtract(x, y):\n",
        "    return x - y\n",
        "\n",
        "# This function multiplies two numbers\n",
        "def multiply(x, y):\n",
        "    return x * y\n",
        "\n",
        "# This function divides two numbers\n",
        "def divide(x, y):\n",
        "    return x / y\n"
      ],
      "metadata": {
        "id": "VdrP-Ik5YRaP"
      },
      "execution_count": 41,
      "outputs": []
    },
    {
      "cell_type": "code",
      "source": [
        "add(1200,34)"
      ],
      "metadata": {
        "colab": {
          "base_uri": "https://localhost:8080/"
        },
        "id": "kaTX8aK7YXJX",
        "outputId": "1132f55c-962a-4b7e-d563-4c90fc46b318"
      },
      "execution_count": 36,
      "outputs": [
        {
          "output_type": "execute_result",
          "data": {
            "text/plain": [
              "1234"
            ]
          },
          "metadata": {},
          "execution_count": 36
        }
      ]
    },
    {
      "cell_type": "code",
      "source": [
        "#@markdown 🔄 음성계산기1: tts('text')\n",
        "%%capture\n",
        "!pip install gTTS\n",
        "from gtts import gTTS\n",
        "from IPython.display import Audio\n",
        "\n",
        "def tts(text):\n",
        "  text_to_say = text\n",
        "\n",
        "  gtts_object = gTTS(text = text_to_say,\n",
        "                     lang = \"en\", tld = \"us\",\n",
        "                    slow = True)\n",
        "  \n",
        "  gtts_object.save(\"E-audio.mp3\")\n",
        "  return Audio(\"E-audio.mp3\")"
      ],
      "metadata": {
        "id": "bM-AC75ZZHMe"
      },
      "execution_count": 42,
      "outputs": []
    },
    {
      "cell_type": "code",
      "source": [
        "#음성계산기2\n",
        "func = \"divide\" #@param = [\"add\",\"subtract\",\"multiply\",\"divide\"]\n",
        "digits = input(\"Type two numbers: (e.g., 3,4)\")\n",
        "digitsplit = digits.split(',')\n",
        "d1 = int(digitsplit[0])\n",
        "d2 = int(digitsplit[1])\n",
        "\n",
        "if func == \"add\":\n",
        "  result = add(d1,d2)\n",
        "  text = \"The addition of %d and %d equals %d.\"%(d1,d2,result)\n",
        "elif func == \"subtract\":\n",
        "  result = subtract(d1,d2)\n",
        "  text = \"If you subtract %d from %d, you get %d.\"%(d2,d1,result)\n",
        "elif func == \"divide\":\n",
        "  result = divide(d1,d2)\n",
        "  text = \"When you divide %d by %d, you get %d.\"%(d1,d2,result)\n",
        "elif func == \"multiply\":\n",
        "  result = multiply(d1,d2)\n",
        "  text = \"%d multiplied by %d is %d.\"%(d1,d2,result)\n",
        "\n",
        "print(text)\n",
        "tts(text)\n",
        "Audio(\"E-audio.mp3\")"
      ],
      "metadata": {
        "colab": {
          "base_uri": "https://localhost:8080/",
          "height": 110
        },
        "cellView": "form",
        "id": "sQT6e981YnaL",
        "outputId": "95bfd721-9437-4b3f-9e53-2929739864d4"
      },
      "execution_count": 43,
      "outputs": [
        {
          "output_type": "stream",
          "name": "stdout",
          "text": [
            "Type two numbers: (e.g., 3,4)9,9\n",
            "When you divide 9 by 9, you get 1.\n"
          ]
        },
        {
          "output_type": "execute_result",
          "data": {
            "text/plain": [
              "<IPython.lib.display.Audio object>"
            ],
            "text/html": [
              "\n",
              "                <audio  controls=\"controls\" >\n",
              "                    <source src=\"data:audio/mpeg;base64,//NExAAAAANIAUAAAP8woFFMF+jORP9p8NmICK2f8btwRb4hXABSeQjWFkT5GOeVmBp/+5b2/zu160eb/8n4aFZ1K3/8jf/KrHJR1In//7/f+KYp5Y+dZyZKliYqBwaX//NExFMScvo8AZoQATMmGAtGysYGNIRmI4VgLvjX48jN5NziwDCYDlNDFkQTBcBzKkdkHCCHT4B+Bqj6AGgJ2DB5u7JkMJxAsA2Pi4yDE0+i5QZlsdSz7KapTorQQmJq//NExFwhKWZMAZ2YAGx5NX80Z3TVSN7PlJxI42Hw6Xp2HkkSDGjkFnHgwt27R5YCnlaziFSiGAsXBUBCwGM4404cCQUDTDgWMLC81K+jdQDEAHVUd4xMjQMo0BkrlxgM//NExCoVuO5cAdxoAAKm8MY2WYSClPhsgT4vmCx+E4miC03Us4qqivvRpG4w09jETav7pQIKRbS71074VGXmMRKk1kPhIUAEImGwkBRofAhhqAjKapODAoXJMxcCUu0Y//NExCYZcSZwAOaQcOjHOcGgIIWP2XcbVgjS5So43krOcIC4ej7q3iuKjvlhSv4qq+/cYH5B6PHxAsEBOpTkShNjaP///2S9JcPvRk2cz5LlABq4dVMqOINnVmYce0tB//NExBMW8SqYAN4ecA+X9Vros5YQiYq4K7ZAtpS1XLzRRyxCMyhAxjjOtGFvaXkTN/u+f/n//FKfeIETGsv2feJX0+BZNeF3qBBJUf+wEFBij///9CX/1XJBBpW5Arqj//NExAoS0d6wAMvOmIKcRTLZV8EhInL44kd/mir1b5ThJnKDF4hKUQptXRLTzVmoK3jHzHv84bz9AXk+DyzlQUB2+VX36v0bnFvf/r5RlbHNUJCKQByRy4GHBRzBbqU+//NExBEW4aKsANQWlFQhZltxHBC6x0p1x1DbfMTvLAySy6pYpEc0m00PoHG8FAJ98kknTwSh3tdahYDu+TUnv9R/W2/0j/wkuf/Oh+XoeBgbqP///+r+tbfMqJvwOXXu//NExAgUAb6kANLWlP0u4LRjyh3aqz8cBo2qDQAoor0frgEavklR8mrf2ui8gQJYp0AhH4qQQV+trucqBGtsIlR/mDa/ltf//Lv5OuprknoK5at3kZZNQGOABgM2dnaE//NExAsUMUKEANvQcEhDwQrUYCbAnWXefzDAXKzaaOIoPtx+JFT89+d6NNpwUAtXiTPvEOvRTlm4OiYIFuomFnsTAv0pRj//lSVflvzv//7K9SFYsDM5LnGHFafYIwOH//NExA0VoT58AOYWcCGCdPIVJBmZhgoGSecvyHPDKoO4hq/zKDOa/j138eA/jtZcqDpWjkqPTyRGT46BlfA8M7uCbPnyg2PNc86rs+tbf9parMO///6ldR74ou8wcWDp//NExAkR+TqIAORWcEGSYGsCZQYBBY94yIPjQK5iMWp1AnWf9RGk/8Q4/UX+tb+DWuZAfS/YSgTF0EAOCAp0MWqti1Y4hlw/6X//1IlNx5hIjxGMgqVJouKFCp8NhMQh//NExBQSoZKUANNQlFqbEZIe4PR9tzTqLeit9SSHX//8lEbGhA40cAkB4XuauO/IpJZ0+sz/IqlY9zxBnP+1H///+RqKbn5AXqG4MrAVZoNipp7q12tjkFYbaJOJfy+2//NExBwSYZqYANtWlLRfrV6P///4OcQVAwaMOSCST7tjTnvhVed517PddfDXMqTrqXUep3sf///74kqrWmXiGEpyqilKd8uc8BvCZs1G1eCiKCe48vJBut/Pe/26kNSY//NExCUSWZqYANNalMOpTnAQoXkkjUik5WaEZlsoy3qdtR5LUcN2e5bn6tm37f///TWQ51ImMBDiL1NIItLwNH4DikXsZgcMJy3k/V+hP08fTzAdhAdMmCai+kigO4Ki//NExC4RYYagANHalGLqUH8vvRSR9/Wv38ydRV/vqR///t/+lYxy/OsnCOtVzxOSnaZLRoUyqr0SCVcqLfUc8w/qKfHr54ZifQiEWHENNKgsDXUJhIysQi23f1Xqf72y//NExDsRyYqgANqUlBGaNZ6HRJ///7P+pKqA7l2DCAqaxczlaOULOoyJj8In+Co91RQeeNn5R+VGjcIjOQA+fdgsofUK5ZZ4lDjmIYPurej9fcsvGR1T6/XVnb+oDMOE//NExEYPyYagANHUlP6ceFUCngosb6CXRKAUABFB8GHm/2rLO32c0jjs5HO8AIKa4JJf0aRR9Pp25R40EwO8CkGivihSAQtQzYOYBEZl6ahQOhw3gVMMwOES20KaakSC//NExFkPaRqYAMoMcYcw7vJ8Pq813newCb6u2an//GWGgEZmFGY6sUoGFBRJUkDRo8zZ/y1Go3iJvjgjGdmyYiwp1kjH4lj2MykzR53VMvelRw6g6+s3jWD3nS/46TPs//NExG4QuRpoAVwYAHnzaD65dX/thh99lb1l1Vf//k/SBopbzRiZePn/8/T05znuEMCctG8vKjEQZC////mlPvqb/z7yxE3HYdNznZz/////j3/N8Vf+aLGg6Do6DRBQ//NExH4ggyqAAZpYAJkD4xaNEpUVMFeGTAVX409XgkEEPFfkksTd6JWVIfKxuPech1wvD6s01o+V41tdU3JYFy9jLlhouVufA707QmKORyik8PaVK3Ejucx0LtIRiKy6//NExE8e8qKoAZlYAKUkA0vEQoHeadk1HX76bDzhpSz9tN6eeji+v6mv///mr2w2rpHfCa1vgErpqZ7VahZSJPSxm2lQBBTlwQBArVqzc3/3z3xbhf/8nfnftsa4ufAQ//NExCYYYYqgAdt4AMmrh4oI0CWMnFVuqyGSorXYFh97w3Nlr37+LuLRcOVcz7g6+tV/xW1vv2383m4VQwg1BwsD8O/////+pbH/qAR8N1RVjpDPG3Te26hKHci1rBWU//NExBcX8eqcANYOmJkfn7cFxc/2eQf3D77e2MJlU7ezW3rIQW8aupJOZa3NTnpCoyxsqTVSjjEyJyx2UdnlH2Kvsa1XH3Xmbo1t1XLv+Q///u+g6FW73HJaBFu6p22o//NExAoT0R6cANZkcDGJOagWNQ+FcyIixy6Mhp44bwKoFNhqwqlSazIuF6y6gmUgCxL5q50X5b5fPc+yqiqfqUVFIqOENZ4M56Ww3IOHGPf1h1WYqXXwAGgOqrvCoAI9//NExA0RyRqYAMvacIFjYuyAiwjhcYMENSdNe8OOJGwkEi4PqjChFh5lI1GgYYc1SzVWma9SO5w2U7pJcyNt9u6qp8Q/3Q0qaTnF2sHNaF8HbcQCjAf12pdUQ6pI4Ws4//NExBgR0KJ8ANYYTD62W6ABD9XDppdsQlE72joknuBYPEB7hZ4otzhKlrWPfajbtJP+708z////96m66kGHEqKPm1+prKrcSA2o1yqrJoFyH3HdjUeKtMJHDxTUsq0I//NExCMSqHp4AMrMSChK8eUCdBAgMrYcObbEvWJxG/RCQvaGVl0BRNyl/X6TD3ktKGHzTF2GsxI47CbRNuCseZCDHMOkKEe53YlbuXwkTh0/U5xOHTqKrN4sCkx4mJjV//NExCsScRqAAHjGcIRFLE4ZW9b5cWMoqPqSpwxOtu7o10oKK3rIZRYjMmV5rwB8AO6CbY8iQEILxDwTMBbIeW9zE/CNrzQn15QhqEBdvQ98yV3m0QTkHhcItWZRDy5M//NExDQPuJ6YAHveTIOQMaPMp6/+07/Ur293JUa+Q7R1KYd4BxwJXlNCcRAc3ALtv7ZNsmD6+2QmmS5kLnsmVAvjw0ogDdLDEbpx50Un6mus004xaqSbv/KZPdUc9NXH//NExEgRiSqkAMZUcC/LYEjL9bxQ+DdwfYrzBi7FwIcszCZJupVZ74cBiqacbndVgDYEGITghKGqyDqY6TBu6qR70PUm+tFa6zQqIHCofs/2Tv9P+tVLmQTAwzR1F4Gu//NExFQSUSqsAMZkcIpOdmWwCjwhli23EGHA6I06lmbb1QqBK9fQkIrg/0L6tThpqOPaDJm+8Wzu+8fW/85xe+92rHgQipDf/9mpR6ArwDbImgpYzyfcgz1ch9TM0AX5//NExF0R8Sq4AI4ecD9hVYzuERw4cO0cEsNhDO0LexE6LsZ5L3LsLVHzfdcT01rdr099axrN76hZxSPsNRT/+lqFtr+kcIwRdMZlgEoNtfLsXRloHUnK1l6EUgbA81i1//NExGgSYSq8AI4ecK7HwGoNp5ioOUJMEORjzVKJd+pN9SRkX260CXeijLxryWt////riN78K70CGEwyX5znJwDUpRC4GnXhJUQMYv9Vic43ccnDwRT2rNeKBUQjhK8K//NExHERATK0AH5acJEp4cNrviUZylEy1o3qzMbz+pQdS+tSaLiINq2ZQtzalUdW+zom/dZh12N0V9RqiraSwZ1c0rmeW6zombGjxme7MQ8IgALCu7NtTnINJAY4cWga//NExIAYqbacANaalET+O+jYYItBhDAsuz3JRUFTxxlODwqBlQAV9J3slrsTCON/feO268WyzUHYSBwbInD5QQgBRs+EiePZYfZMGirr9O1F/3xfznE6mqlzXRwxru55//NExHAemgaYANbWmbbVbOj2fQy/tDuVltjnMYaN0jzx3x/wJEZTYtJENZWFBlYGF31+Q2KBwWBat+XUW0yHmj9zDDoYCwLaqRp4l7l8WWT8MPpKEUIXhLJYkzXMl1NI//NExEgfOgqUANbemNZvj+bsXgNschXvfytNf95h23n+kOv/vH1XXnzHe5xajJnP3vOt4/xW2P6QA2ywk5n///8qrXudvJHhuT3TuNZyTHwinbjlRhFM7iFSEn1mssvE//NExB4ZabKgAM6elONhPcm43LdaxxgB3b2W7sbhqls6sc5GgfJE1or2lDXsWDZtQLNvV2diVqt92dz1u/pitt/33n+98V/+8Zxu94eA7NhLg1GPXTPogViIWRUkMoJA//NExAsTiSawAJ5ScAs17edl0gNAdfuX133mO619SW7/zXXZz+TPj4EB0MocXRgHHcxG2YFSLJ1HLuaMuCQnAhtIhT7KHLelzWbNP/////QqpOfdgoxg2J15WpQYVB2P//NExA8Q8UasAMvQcIiDF8RQcyxG1Iic1/gQ4v/Lr/c1e2O4txgcioO2SJw9NFVsw2pliasmbUdlsaxjfb+KtbaqljuxWuKHA1eAQRaJN1kipDRqijbEWZwM7Lk3Z2rY//NExB4SQUKMANYMcI1fy1TXLX6yyef6p2/lFqbQUAqcFBgqvVOCo/eai3ear1RpGN2rnTsYeiUwcFMLA5eDBYyruNJTgMQgoIihnoAnuteVhcaNjl3ZG/EDZY519/rP//NExCgR6MpsAN4EcHn/5nq1v0nMEINYJ0A/6AA/RIaaaLyCfkL0blL//6tdCDFEpQELARiu4TYLDFoqcmDxoKBoZZi8AjI6HrCkFcxZktFrh5PCjaghFpA3QjvgMIyw//NExDMR4O5wANvGcMoYMeMbBVwbYTNhBH/9f9nJdv/+tRCBF+Osqwy+pR6Up9oYDoTM6TQOSCq83Bgu5+Zu+0poNPf+l5zm4DuczzDJ/an/ap8NVtBA5KlbqqM6YscA//NExD4R8QJ0AOYQcO3///u/////bFURgOHW6CEKitjMOhUv4rECQGbrjIcMX0mnhHyPzXnklFCu71H8/3yE467EwCkx8tqPlmnjxlCi6Hi4up/+iksmVFwor/////////NExEkSmTZ4AOYOcP1qTlh5iIVARsJXETeKAKycwIHDTUICoJeiIrQGs5UkTFIT38/t/+5u/zl18RYqKFePl9RHtQIGzxNVxoLX2bMuruJgJdZ/+v/3f///qmNUkNlq//NExFES8TJ4AOYOcA1e2jGACRXAgGMQmM4UgQgIPvgQgRItapwc+z3m4P7vUQnt/nJjs7w7fmt/JM/SGmuCTNaSdXvrvueUBpOn6R//b9dp7isaFAuYExYFDqwAVAog//NExFgR+Tp8AOYWcD2fLTI0i1EHneIXJOROYFivfhvOa53sBX9czf4SX1Qtm+tntiu5/QZ31AC33QaFGdViH6GeUHgDtzad/d+DdPV6qmfxd3F1g5gJvIICAuIkoQaM//NExGMUgTZ4AOYScAJ5J6ZIaCwqBQcxknFl+R9QM41Us4El5fQDIRm/k3JtI3+Dy36SpRRSMWZpTtQdv5c7DBUw5VjQO/P0konQHq9nCYjpRomV/ko6SwUxOUr19zBR//NExGQf2eqEAN5YmDf7vz3Nx01+mzq/NnzjqML1yJ+sDkr/oscnA+q9zceKkAifTi+XTJdQs+SRZU04KBQVnI6V4zACVe/FDAAXhBTcDROVlAEqhzN4kJa65BPKLA0F//NExDcf2eaYANZSmI+7jwAoUMPWY8S5kUoZr4SmKyCxSDIoFbfWORqCxCK23vME6bQqL18Xiu3OSc6p+L5bpx2NLt/5C/nntNS6vEgfQKNd/////VWv/eI7B05+pPIz//NExAoS6Oa0AMPecRzC29LbCWGRWx3AOwLRZ2iRFCFtt1MJsOhkgKVxATBiURQRokqjV221oZ57QrwKWtBCIT6DnH0bTC0Pv3dV7XPa0rH/q2YWRml5TrMDx1M9LBEo//NExBEVMUqsAMYMlVodPbjgq2dd/FsQVkaDJWUs0nsmexCcl4XMBjgYC9JbEn+gaWZ66KPT32szHlV/92/9bH9VNlyi5wLD9AkIYt+b/95u5hvJ6SpHA+GVaFm2JGcr//NExA8UOYasAM4KlLNP0HrgPdpYEyZIhWeu1ICTKooEyfFlIK5K4YlL+sJZJX7jVeqi3MYH1KAqdWbmP5XorDFlKopqpmsZxFc360/7k+8/lOmqPbor+TPTVdOPX4dB//NExBEUoZKsAMZKlKYx/Hs0+Je5vcZt0gqIcIcvs1XZEBICImqLbsoTVn5a7uCZ/lCApqUSbRjN0E31EhN6OJMucVd9Rx6rFCay+n/5Fav6xlQieIlt8qvEDKlRVf08//NExBEUSgqoAM5OmGVacL2W5g0EaTlykY2YJ0P3t5Qg4gb27V5J1fFnmrrxy7n61le//PFbdR31Hup4TNnjiv53lC+ao9/9f/+ZI4oqVpkwCfEUtGPAnbJ/UP8L5xxp//NExBIRgOq4AJPecKgzAfzlnCfAZxGZt5U5epKRmwlAfo6ZuwD1sW83fs8X/ECK84CUuBRoINJCBtac9Wu//+vL/+nCr5DSYzIhqtbOtogBpYb1gCeEmZvBhjwL1BpD//NExB8SeTq0AMPYcE+s12TsOj5dbKk7Vv3B8nZjZ4+7127M9N/i+c5v7zRyMwaDa0pcpbEf/9fH/4juEGi8hrpoCfJXrnuIFifGB2OUb5V6VpbUJlrG0Z0lZhTkTXtG//NExCgSCUK0AMPScMCpFAyfBFoUCRd3Tk5nMUjJqUm3SSKMviUJrJXOqqSKqv7q6MyvdFIakQVYDSZqVqG7WJ28hY6aZ6TZde7Gy6+Yt5fZ3+XXL4mKNBQI9sWKx2na//NExDIRsUKoAMvWcJPGtdPNTXk2bUGCIoQJNINkrMSrropnUbmYMojz2s19WXGeR6ObeshYgMT2C4lxB0wbVkcq4lb8xfQ4/I5kf9ldxiwqkRAMAJzVLE1Tmm1H76lk//NExD4SkSaUANvScFYGhUNHiR639HKrcqp45U6IyFGvawCZmKJVmNIB/d0UF0tMwnh0paNkgDUW0vOdHpVh1l7crDrywvX0s8h2puJQS+0EaJw7tdB3UEW0udX///XV//NExEYRSTKEANwQcH5vP2vQ1KBCIqLXT0IUAdSGgOHqrlKCFZbQUQKRAiYa3DWdKV//DUp1iIOexmKo0K4CvwluwG1MOJiTOwRDGkv/4v//////LGGQG2ARhky9SzE4//NExFMR+TKEAOPKcBYKHAIYtDpjCCtOp34LksUKQ5gJpLRrdCa11Kkq6hnsH9ciY/VY9VMtrJulxDFI1CAaiWKJscsFA1VzuBcGmNK8aTBj2BUGmHGOcpaAkZkzBQIw//NExF4QgQ58AOPQcCtOCjgSNS6mi12LUWdu7ALiyyknX+NakIg01GlY59zN/qOXlswNK9aVoWdn+upVRfChqdh0haZQALvEISZoUnFbsLsNqi9TB4AZXuB4hRQvXhTt//NExG8SUQ5oAOZScDdEYgPG2cQKMZ4QXCygwTSFwIA3tJhgH+gT5//6F//////1VVDmnr1Bo+cCPkRa/4MCzQ1E4YQGmsiMTM2U2k3MWPgWEiMaqBp3PIUnWoHGzCRG//NExHgSCK5sAN4STG0eiCAhCEgoftBR5R9OBAO37Z3IdxrFFNwG69qmsVLGOcrv2KSWVjeCyhEEwwYCwQQjYuBe3t17p5/l2S3juXGB5HBlR/VIlV3pNpFyezyegyh7//NExIIh4fqAAN4QmL//R9SOpabOCiVCaYVHXCQ6mYgIGP2mUZbOZwiYICVBRqGR9XUPgEmZeedMFPPenqRc1CFlmVRmXbFYFTcwIcy51CC+pm1pgsAuWy+DqeXv5N0S//NExE0focaQANaQlYwVSWOFVU82DFEo0OxHDkWcHwseLvRzvd/V31xM3/ZiOjvMxykufKoKbp1jjzP8/L8FsWMiU5GW9lBI+F/qqHASVSObLAgSLOHgOKTiiBoM+7AC//NExCEWsSakAMaicGBOvNjI2MUtYgBgIcJkOWMwAfDEggiok59ZKkuyki0ynNbobmCNRmk61n0kigkbJ06MhORcnpMP/lm9lsZePB5XC5VIzUcClFdT8pL7MGZOQBHU//NExBkYQSKoAMZecBDRVMyNIZg0d2NEtJqO2ySDYp8i7EtRCWBKDzuFWg7P55qw2ebXebvDk+4caPnxLx2NghAu4H0jlkxqTw6WmkvSVmr67FraHLf0JYm/dy2W5hd2//NExAsUSSqsAMYecIQEevm+hEm1AxKxd9mcaK1GzUxeXu1UYr26pzWpIWR83kSnnJcEQ/jnul97YK68H/vLZxFrRj3nbXpJyy5m5ai8g/KafsSqw5mkKmzhgOml1xuo//NExAwS+TKsAMYYcAAbqpPMc3aLCE1rXtzs/t6rOs4h3uI5mh9+rutYyOnkwHTKzZHrZYqtC/WuxzWB13m1PSsNidqYhQQtSeAb/9O1jNCizNuVyE+/1HQXlWXrEUsk//NExBMRuTqoAMvScOLM831RfPbd+CjddJ/62+0P9M/ljW2mBqC4DGIpiT5FLIzddDH1hE7BIgnQlus4Vr7e79SW3nYMOISMdxYMKtPAoGCbC9o3F9iI6S0cvLlRa3+z//NExB8SGTqYAMvScGstVac5UP//Lf/401S7tkREZKhqSUlSWltu3IouTCrpAWSktYa54C/E1S9l5SkyuZA0amElOM14WA1V2lG2kp2rLAFa3Qh2hMQap1LfMXXkMffI//NExCkR8SaAANvScIv+mf/i+sT2bRWrol9rC8MGnfYvzoPKJkA7v/V//61cr2IdzCM8ysDcBoRo0MqZVcgEzLjhOuRmBvu9FGB5fwi6Jv9qzvKM/sGt1Ov8a/L5ekW9//NExDQRgSqAANvScEbysNXFE7LOVLmr9E3e7///6lmwE45ijOfiFwcn4YrfHTAiUzglU5DcNvJGdtC00lCSx/kSd69+pjDmpmetCiPpxlkpF7qQ2byymSVEEJpDK8cj//NExEESaSp4AN4ScbXlkbQqmQwhSolflBKPhNGyqCSV8AbwFQAeBxwjCWLuDZWb0e2xpx363ZBzuua3XtSxIXv6+g4a8NzoO9hFeEDcvY/fNuiA1//4t//////Rp6WD//NExEoRuSaAAN5QcAlJgs0sdhg6ONLNSJQ7AQKIZpxUokLc0CjhC0uaIc7TEXBOEZi0OPEa1IoJsU8Cr4titydQKQhghnAdhXHZfbV1Tt92C+w42/aVh+++cOZ18+cp//NExFYZ0bKUANPYlZTfmk50zt79Ob+VjiIlqnVj1a1nJhJ2NCLlGgMImSmmFDmaExatAVwR+BrssBQ2D2m5KHpWSDJ2liOJqdCLq9XH+c51p4oSTowfRUn44eIxTaeu//NExEEYYTqoAMYecC5wIkj/F5cZ3uNXcF5O8hPgAMNBZB8fa9BxDFdYUAzpBav/YLvwntI1onLKN0rPRIl6vSCgr9J7MRQSlnM36L4OpjDTW0MiyEZD8FgejdOg82lv//NExDITSTq0AMYecGZvpNiFL/V7ala1/+N49db9rZpSQGXmHlXWSyqp/3RxMD9qQWFWIQY9lKHe9alzMgwSvMruBUaiPfyXMh3VjnqpKQGChvmiK6GAqIl6uU+awYFN//NExDcR2OK0AMYecVazbZJOnd9SkplKOr/+xD+1z1vIgCyCrRw8z4DJl2OTMQ4ljGq7IWKr+/caKFDLridaVs4Bw3nKAdEAKAvLKZcGaHJHe6JeK6CNIxeoyTMDzLRd//NExEIVUUKwAMYgcep26K3pJmhmmDo6wZVmGX2o79bV/PCu7hPQ6lSeYUZOSEH/4qgyXPG40cRgQipODIBp3D09rGAn+DM84NfQKIngVLKupEnY/GGqr6h51kg0PvoM//NExD8WYXakAM5QlI/9hf4Y+PJND+7YoG5nJpFcQSPyoLOto/9Whf3q6z4HfuW8HjAvWK4dlAwa1azoHAL0zuETl4JmnFXrxxaLLp25FiaBPPJTnL+Ntl97q9x+NQIO//NExDgTwUKwAMYecOlIDL//q3/vr+98WxSkEhOIWGnGTqOS1/7oRq2cpmBGcMVbxlCRji2NyheDu2NuGFygUC1qHKAVBnG03qocJpbEfAcxYCXRnjzELFIG4ObxJ3tY//NExDwSeOq0AMYecex61HbSOLhxMmtuzv2w5+5IFiN9yhmADRN1agkg4Ym2w1y80gJwXhNpWQYYuR1Py/ljLC40iBDxAWFUKhHq3NGCGCEUTRKjf//3+D8iZPavup+d//NExEURQMK4AMPeTd/MIC3AuiAJwUnbUFQP943k/FuexVOhxoyIgsBJzKPwWwfMBTn+njdOIsZOxJC9NS89hPYmoxsCCoWDg3tVUskF3tZ0prrndt3Hnb6hwc/lGtAW//NExFMRYMa4AHvecDRq6tNel27Dbaw72PoVPtL4QojIL9poLnNBJbOwoaOMuKRZ2BlhzzWxmNX3tX4z/rP3/jX1bHtBPjYyvqr1sPQM7WRYrUSYGkjqLwIFU0JWhMzY//NExGASYTqwAMYecEIH8zyga4/lUwH6oam+aSi0kSDEucxX69rVtcv4VsQKnQUBLD+7ylHiprDrf/u87lXLcwOwjGcoKE3uEIVPaXYasvM+QuY9h2G33hOBGpW81tZU//NExGkRiNq0AHveceVLyYD9sA4roRwALSo5va2fuywt7GPmnTN8/dr2VmVjISDCxDZetKlJjoBpIisRQh9wlSLsCTBeVwOdudwRjM0q4RzltW3o1xWaOy2JMimoGgSU//NExHUScTqsAMPYcA/JEmQINVzYTlaWJcXKiFhEKnrl0WIj1d2cgNijxSeHh2qAwUnsKceqxMAEcOFEDDcQj04enap2tCtX9L8uvKwRTVYXUjjW+yW7QW3LXcX2kzad//NExH4QkPqwAIvScOFWiyhSBl0N/1/1qsMKoaPhmODCVWD7nO29u54iTlig1RawXrzci/e4F583zZfz+3mHXZrUvHa54fAdHxTDYwYTziBIXe8lL+O3tNYQQi4qYO2z//NExI4RiUqkAMLWlMp/2t/rdCzET8MdF+hF4sZvRV0QRU50JVDjTjBbE3WI7HmWWqJU9OlbnviP/n9v7ZodpyA+AFPWAZKFyeZWQJNNYJMInCcCweLCxV1bnMEw4Per//NExJoTAT6YAM4WcP0Br///9dVgM5EjeXlqSRhi8oaEAtNMAKwWIvK3MRDHjzkBKTeSLuinXapbOeGMv/GUXpVbZ+Gn1sesM0jJWzcgORViBGmIFcSg+LdnYz/1/ywa//NExKEVCTaMAMzWcAFIsRgB/0wGHSuRFkGtlLqL4NpiCgRkasoKZSz6wKBsojYwSb5Uv87DF/skt2ykZsZXivMNhm/EEYcgAxoMejI7JZCNovQbY//6X2U/zZqj//9P//NExJ8SuTZ4AN4QcE0wwAigBrwB4LCBY4BhlBBG7XuIgaYOVqFL/P6HxoqdDo2s1MhBeYTHd9q/9TJ4fMQGbTwXw2I/K2ewmE+EsXAjBUNAQ6Kf/U+7/////6FJLAEo//NExKcVKSpoAN4McCPmfE9l02YKDHKiSG7NzJhxkyVJ0fUZxF2XJvl+H85Q2re8239zK6HuZEvBb5kjyKHoTDIs+lAMAwCx//8UZ//////rMBCWoIIDz7xSSokEoKWm//NExKUTwPpoAOYMcFS0DKwtlQYiMIbEKATyIVCdXmZtHkbDM0fOsk2dkiFBkNh2kpTwaPdJkt+5j5uVZLp5/+FQw5n2M19aJiB1BgRNw32FqBKrFUMbsnaWdaAwrujl//NExKkRwPZoANvGcJOY6kMJslJYWf90zu1kXkql5Ro5neW5yFCIcQSjJGGwVOMd/53/U9EwI4ueIjRx6RwUQkWABMDIXilDxlsR4luWzleK569OVgOqPWFb1rq2QoCS//NExLUSaTpkANsMcKk3/+s1QCFBhXDVV4x312XUBGf/lg4U4+VSGwk7AP0mKSBjzAqutAdaJYLSrhKWIjQEdIHnKRkXKeBg6pxVy3EW2lZidsAWP1pkeVtscFSttv8B//NExL4P+P5gANvKcHs9CgSRF1YRr7sQG2Bn7MHQh+d+1SkQhA4PEaiaypYZA4YI2J1axUsWXUurWKlji8JwulVlk4OllDAnQyP2axy/5SMmWWl/2W/7LAdT/stl7LAY//NExNEQATJMANPGcDQPVC4rWKiwefs4tirPyoVFG4tVTEFNRTMuMTAwVVVVVVVVVVVVVVVVVVVVVVVVVVVVVVVVVVVVVVVVVVVVVVVVVVVVVVVVVVVVVVVVTEFNRTMu//NExOQQGHH8AHmGSDEwMFVVVVVVVVVVVVVVVVVVVVVVVVVVVVVVVVVVVVVVVVVVVVVVVVVVVVVVVVVVVVVVVVVVVVVVVVVVVVVVVVVVVVVVVVVVVVVVVVVV/1+MrO0r//NExPYYygGMAMJGmDgx/910fAUPVX/2uRR9nl4X4/JyBCLyRsqSGG/9i5KYOj78fj9x+PzyNAVD1jv5IZMMMMIyQQpxQYiE/5nvxFjQeJIjB4Sf//P/FQ0jFsmICNxS//NExKwAAANIAAAAAGTP//2+39zWY4uPCrElUKoBDIOAAoASE9HTG4Z1CZmQBGGw4ZOJhhsMBUcmCwE+5gIJFAFR/zpmXyScrv/I71PtimOnvyd1HznPYV73L2rtvqQU//NExKwAAANIAUAAACM4STSMbNudZ5Q/Ry2kZsxqdEhHojDcnHRXtgmqowgVbn7us8577nuXNvbuc4Jo0eyTZWzbburdGv/E58u9wXWPfD5k+qxNVUl79iAAO/WDTgVQ//NExP8aKyo0AZpQAFcQYNjkEBUEnfkqjL/jo9HoKmyo3epP5O+dSqNov+/6Qo0yweDb4w85zqUM8dhDK2fIVIQTDVisnKnDxEfJjzbeb/339ur3JX8z3/Kc1GKWTQYL//NExOkiakZQAdxIANn6AuD36xccOOJVaRQuUIACCK2ZzHYcApxY5hdPmNQi72aCEAARNTmgdDgzkSFn80W/XN9q78p/Eu8aQsxINwHh4LoAOGRSY2KbXn62Ghw+SKPJ//NExLIaUhZsANqSmDR1ko+Sjg3jwYJnmEMGBbBxeHrulj39P+/5hnoQ+YnuIuNnXNcff/3d6jQ0KvgtIaPwRnyKfaMSlgRhUeaOZMja4rCCCUxEsRFgadgJYF5+Vl0///NExJsfGoZ0AOIWuaRky9BN9RgaNZ0GrQvpNTWaEmPcl0RNgbA3jBj2NyUVJ5mrLkKN228d48COTigkDyVB5EdzibBaOwQAiDAhTJhZcU6LqYv2Rf77tlfe63U6ziks//NExHEgut6EANtWufr///9ku2Xf8fMW+OI+u03iOW53qseGBc6hXGjZs1VVExBJMsFmuyOxKmnUVNeE/j/wqX/+L/48WPe/g4j33bcCjyBEjticSkBBAJAkg04pzMti//NExEEiKt6MANvWuWD4Sh7FMEcd5iHgEs2JocEMoKWlpkW8LuadNyqyYH4nHD8nWTEOlkxFsiU2OZbr474+6k4bIf////9zVztqv5/7/va1ii4bKuZ6xeIE5ANLor99//NExAsVQYqgANIYlPUKK0UJXlKgpAIZ8oL38Mn+qJ8oWfypCeOmNGIiHjo5AqPQ6l1uxkjJiJYclAor4VvW/um1tykz337q9dIwbDx8x4Ut/7v/X/rp5lzs6DUAvfU///NExAkS+cagANKWlGMJXMhIF5LbSMBsr4gCbyh/oP/FcVnUoMR2Bs+nGyA/LMukiohq5cCUOspifO/+7/3f+6v3JHGX8T/0m//////siVF+LOqsNgEnOVSInGLEbAgc//NExBAWit6MANvOuU01GK+q8yL1a/zDJE5Z+bpBy3/2AsUu7rsoQgrqn8jDF+f21l1n4ortfMCoDiU6xx3Zf//Z1Ipu2ynGnf////////ZTfm2og6W1KmlMllDcQuCm//NExAgSiLZ0AVtIAEnIZaMhxbk7iXxk54NGTXY5StLaa+0iz5rfK3bshM+OdUiNS8SEETMgkSeIgoJQVBWdDQFcEiP/x8sHYmf/////9VUyAM2cdgprJMiBqYbEreZa//NExBAU6mJsAZooAL1eeXrui0/jfzEW2kIRO3sx//OcUb0tbw4AgIBw+f//YTOHA4KC///6EOc6iYuHP///w4KC9jiZzgE//8EBwDPlwcDCPc5bemgeH4Lk6R25zKHj//NExA8VghqoAYgoAKsuqKhjMfcliOcg8jMRlseo8aVBMXOD4CPI5OCOPERYQD4iUgcDit+j7IUTnIcyDlO8n/45GBEeYeKAUvOBH/m8xJ2xqTAjoZV8SL0I5uKzIqin//NExAwTaVKoAdk4AKcB3E1HXQbS7rcYsf+5f3P7c8/U99DOvQcZGGhZ2JhAWLohMvpLyinjrOQyTigdZRocxynCV3Hfqe/i5V3/5Zd/Tec+oCSIYtyQLhnSymq9krHE//NExBEU8UKwAM4WcAdR5Lcwzevhqhnr/6iGuflYr1T98EufccreQBoczgEasG4VB5LYQIN79Y3TfJsWrRn2tDgAUifhs0JgVWQ/2////6XXPxKpYrWrw6OUZZjdU6En//NExBAScUa4AMYScKBmNxkLxPxvcZd+X9rU9TD8lZ3FlpBC4I5sJHVhQSGwILiQ8AaaOaKcJMORRnOL53bO5FWptt+/tmWuvYZJcIMZVBjC6rWFteIOrPYZvqgqyfLs//NExBkSSTa8AH4YcEX4l+94ynPs1iPHOlKkPKpVxpKzwlOiomdWubdbFam12l771r0dZaBcDOQrdVWm1ar//O8NNscrRIVtGEaAJoC7PObk8AeiqfpBxQ00somH9pEX//NExCIRIS64AMRecB/XRvxL7kDOVOoL2ZhifFmLX+INP8Zp/qsEMMCTbav8PW6q5v6saHv0E1SwyiOUU1Q207A1LeeNIYicm79RuC1se3KRxXzhdFso0JMQcBgNzZFA//NExDAR6TKsAMZacBal9yVVdMlm1zXqPtsO05LbvRp8tcjfXZzVLPMRuMPyglBs3JZayxbaZACU2e7XkyNyP0DUsSn5bjZpJdqmlVyZfIVMoj9G6JqjdV1Bi11vFsZ1//NExDsSmTakAMYecPcHW8arXGJ6Rs2taNyv/Uo0CcpqbbqchAmrIKjRXDcFjAC8OpuIUhz9hPGLaPLjGtvp2tYcx8iYsj0tpwvZt59ta1mvzr5z81r8WrWDFoLBQ7To//NExEMR6RJsAMPecMUW2mpVCgaBSRIFYCLDaqUPBoJ5+n5MGYDzwBiCnSZ5oQqC5iP5QwyIUJeUDTAkb38cQAIkou65qVUlbb0HBotLrhtzf+fd60//////pUtWHCQL//NExE4SMOpgAMvGcBwvHECiFwWAACYFHpjZZk1pAISKAEak5xFJmKbFlAyBIJEVnSscpiN6HIH3zT/U1tx4IPZbsnOl1f9Qxcsolco0/91oBUc4faWZAgRnUTAECO2A//NExFgScO5gAOZGcFCmzTMYICmGhgMTjhkkxwRWoYkMInMVGQExcJW60ovBwVbr0i/WcPVsQAUZFEXg/c8Ms+sTqlqNxVkIIoYkBSCVE4y4ig5XRcgHTgfctexhLUmg//NExGEQyI5kAObYTNpL2P+ZkKO5DAECMdBMRiMSLgOKEZwgTmkkuERADo4THAwDYVnUWP7P4fRVX287ADE5Q5wESvTaCvkCkBJgGlZoiWdqViQQgWYkMjwPFFcjBLD9//NExHASCKJsAObSTGgZGOWZvDd+/M2dIYfbTezOtlf49IMsJdW+zU5a1v+tEQAkLsAUFBk0ctNolUAsmE9BUChcNHRS+rc94iMFuC2qahlbp0UpQDZ+/UYnY+3STZzT//NExHoRsO5wAN7GcLF7KxNX951+/+f4cw2FNxd739PQlVcp3dWVCMdCQEHECCv4QUb4cayYlOJogCrGIAGZNBg0YVEBkZGsHwcrQwsB1HzPjDABWvFRcej2ZtUUJzDJ//NExIYVsXZ4AOaKlI6WQQA11mJYnSIJErmAgpGHlSIPLfiEItdmKLv527OUfrjlI4Suut0NvnO69uusdgoYEUVHYjnPGBMZWWgWqgQAIhxLzwAGAQJFDQYNBhKQ4kEF//NExIIh4YJ4AOaYlDf///6uhZZLlExW3LcuhCjHnMWA4fhR75snU+rMDXg9yUijAyojR1PvCITYmRC/yZ4XgzrC0ycNLVmXqYYPzkKX7S4ypr9rOCM885Rn+DUPxe8K//NExE0hAZKAAN7SlKK/p/9PP09qj8IvAdOIXAT4KAhGYPmOmKgyyMjKPpzgiOQeEAHPjXjT4IAUEAmiej///+660uuU35eYQqTF5zEYRPNTLUJ1Di06qA8XDMvUEB4V//NExBwZEYKYANZQlCtlRGT5uMwHoFlI/K2HlYJJy9wHGvXHYv9xpu9qT3eECvlryHdI6X6/LcJWhAs8A+KwZdS46qHh6kCQWEAm5IP/3Pso////+tWVbgwQYZtdUULU//NExAoUcUKkAMYaccIpByAQGo3AEKX9ksIASMWgFrZfmcpknIfvsPWemrDadYAUhzhNwDQswLh01LiB9NNS16mTQPpzFf7692RdAvJ5Wm+SgN6UqcfrmcdjyBCTV+2F//NExAsVEUakAMYacN8VpEpBqNLHx4UtmE90gYrEkOrJZY2Na1+oxCRl0LeIACsjtAF8rOFwxWsostNFFS2cz1Nu+27V3SRSSTNAVDhJ60MPvH+rt/oV/KOmxkzHCx6G//NExAkTuUqcAMPElCym+ZwSOSmWKzbAdz80wAClCaBsBlSqQYTT0LWXyTWW2xBaQRkC02bFRTLW84pIA6Ai0btk02FGQqsHCYskSjBaHAxZ/9ClzbIQxmLKAJLCyVAj//NExA0R+NacAMYYcFC++gLhT8SlhOFxFruKlUnyfCE9xeX+F2K7QfTcGx8ZDwLe1J+VekTjTSqJK5UiYlbdWj9Wi3/////XzpmfnWgzeKDGq07QNdMINS8sDIgu4/NG//NExBgRAUqQAMvElDxlQLVWCXGJVFTSwIf3TdbO+uy8yR07EpDimQCeFVlLTr//4pH/cmRsK22oVxIVknDFalwUBmUHCiazDBCE2IwaAl4DURmUQ0+z9SSJLX7azsXJ//NExCcR0T54AN4GcJw+muWAzB5oDZqDKKn0s0QGegtaR+fn+1pjAdH/23aaVXYjPT/8FxKfMK5P6aLnF3TmlBYqra4A0upda+/0qf9sFrtPjzUO0tWtZd68mHUWlpxC//NExDISMUJ0ANYMcHuYk1/shWj3+x93H1v2l3Y1wnX/7dmpVDHHDPttbdb4NzlJeFNLNpZh9tm7FC7um1ncF8q0WO0WXbn73V4zt5XKhZB9HkX6vEt8iIxJ9z4/+9nf//NExDwRqUJ0ANYMcLviVHm/+g51yv9KT4eGGDZ4giAZwwJFDlqXrBGXqgkKRkgInuEXL5RYlGTbNJ9wK+FF8xdokz7DZmP2U+nZ6eHHnp+/Df5l99/gxgU/+kLG+k8x//NExEgSQUJ0ANvMcIheS410GfW4iBVAxU7CHh5FziE5FlUoiGdUYJIuWIkp63Dqi9mqUd3sXcgIyr6R0TVv9jcZRypu8/37234+YHTU//60WMt2IqZO4zbo47QORO8F//NExFIRsUJ0ANsMcAmZoqAhKDw4HMgLA+nCii5OY+SdKJrNE6YiuZrvn1qvaxmqhQEgICasBCqpQ/+rAwo8o9iIqsNP///5akIZOMBB5Z2Iq0R+QuC4NgWFzNzmCxBz//NExF4RoPpkANPGcF8xfXcsfefFFq7LfSxiwxgfGHI7EohKFbnei8eE9irXVb8ldKo9NMsor0euhVUEl5imhaaPl2QulbMDcBR2Nb0crGtR1KidWs7qxSgqUBxo4cLL//NExGoRCPYMAMIEcDT1AsYHCwtqHPmgrOpARlh4NLpQ06dLf1zxZVWz0GbDyxKjaMNwQLt5aOgBKZkhAGFlEMu/3vSCFFu7mUTAzc7EJ7EDuCLezuwjc+/MsGHTR8Vf//NExHgRgOoEAGCGcG3q9SwIAy5wPoXvON1LdUcf1ufo9iXCyhHS4D+N1QGUiUqrqp1kIMny4pJbNETwOkIKkM9rltWuEpGST3Fy3HpauSXDLrSufMXLcy6dKmVvW+a0//NExIUSWUHgAEmGcDq4BhLvlPmmwSMJG4SLROunw65ajdnK/2Wyi0RSwWEjlkYJa8xLbLEnRac/7aao3KdknRZ1R2KFEllFCpf+cUNJBKWUklkqCYaSQTzRUEgwKJEE//NExI4gUmXcAHsMucQORkwYGgFCoqLGh4qKEjQVFRYPP5oVFRbqb9QsLirBUVwKFRQkaAoqLB40sUb9YqKC3//9YrgUKkILEBE3zyawcBrIEM+WQUeF6ZHbTCGHpwHZ//NExF8RcFVYAGGGJMBGePgdf+ZYAjmdD4BAAdHLB/4GBmb/geI8f/ngCMz82hMD+jw9/BERG/8GhE8CwGh5EWlySiAsB0uASH45PehMVwCgScA0aQ5pYVLgiJSwqmhn//NExGwAAANIAAAAABpFNCysixZq1Y1L+MVkTyElghZyOHBSwUlsyaRwGCoJJdqNIqIkcrfVOdXmZyq/nnEiwVRqLabhIKsGSefJGCRFqpqsii5FVa7HacSciSO//6aC//NExL8RuIXgADGMScLFEmKkhoqLl1UFFA4QHCQYSBAQswWMKChqwNX9EqhyUKqiLPqqqqr2iJVUiVaq//+1TJStFQ5amqr//1QaqkSiJV0iUVX//8q0tTVUs//////+//NExMsgUnXYAGJMubpVTEFNRTMuMTAwVVVVVVVVVVVVVVVVVVVVVVVVVVVVVVVVVVVVVVVVVVVVVVVVVVVVVVVVVVVVVVVVVVVVVVVVVVVVVVVVVVVVVVVVTEFNRTMu//NExJwSkEUoADGEJTEwMFVVVVVVVVVVVVVVVVVVVVVVVVVVVVVVVVVVVVVVVVVVVVVVVVVVVVVVVVVVVVVVVVVVVVVVVVVVVVVVVVVVVVVVVVVVVVVVVVVVRHhOQKvY//NExKQAAANIAAAAAPcW1IoyAqaJCAqbFCbTG3F6BNokIyIWDBGiYn6vZ0wvJgjLHhIRrObh72cI7/dZC9hOUJ68//8nimlM+U0DhhhDz//5TQOGGEB4Ry///+ZPKZf///NExKwAAANIAAAAAPpTNKxPCP4TpWJL/YT3SmgNhCISAfqQHrO8WMg5c1e0SP5ezJ09EPFwUiqEdEx5SJamXrVxmeiUQSWaj8XXl+NrIlzrkGojIupywWjFNDA2s5Gy//NExKwAAANIAAAAAPN2hgbjWtQuW2fMZBs//1+s060KXNGlHqHESJmxubO+aNKtAkRPhct81/nf7f1njZOmL3KyG+U1opFsnO96LZNE4u88dRzxleWTIgwtPEQTIc0H//NExP8a6x3AAEpGvDIEuKwWOLmROSFSJXS/NnL6r6iEBIDwlH0JySSSZPTXrLiUJQkk09dxp602tb6rTExMVz3zM2aXLa9ZcBAQE39UBAQEBbVVUv9gwEBAQo9m9VXq//NExOYjgyHcAHsMvICAgKr/xmZuszM3+qqqrxlUv+qwYKO/8RXAoFN/wYKeCgp38CgmYhYQGwzxicIDYQ8MnSmjsZPKaXP///7k8InSsTgiEOlYQHBDCAMIpiA4IYQB//NExKsfcm3IAMMGuYJTQOGGEB4ppWGEOQAgmAAWM//HVwOwc1IskVoLCEYJx0EhkgHw0IRgnEoqGUAuKiEobJSI6wfRKqPZWuGyv///I1OaLhaJpiY0GAyA4JBRA8JB//NExIASIZXAABjGlIDCBwBEggcAgwsYFAESQHAEGBxgUCgZAcARRMMFCS0EiJSaiRrqSmGiur///JgmRLDREkRIcEiAmGDRERJKVEFZWDa01nLfvsl4ppAm6jW2dv3c//NExIoeQcHQAEpMlaS7G5foBgNNsPJk7///73n7GEI+2TJ20Pd5//dsQJ6YQkOwbnwfZAoKV6O7u9wlQlFi5+iXyWLi4ue4oKJu7u4oHAeCifFaCgoKCgomlO8BwAoD//NExGQgWrXUAMGQuUM5Fwbi9kGJy7+72WLi78lh2LmeAB+Y/DMPzPABFTdBMgAUAMhGUJqwoazNqGqFlqwp05QEvscSrz/Of/u3/9VX7mkSM+ZqqqteZecOJJOai5qO//NExDUfAw3QAHmMuVVvn/+Zn1PrXIkSKNEiRJKt/9USqu1YxxIBEiRIGIkSKM+jiU9zSJHDiU/mgoBCUZqt/7mkSVefVbNV/6rzv/aq395lGQUGTEFNRVVVTEFNRTMu//NExAwAAANIAAAAADEwMFVVVVVVVVVVVVVVVVVVVVVVVVVVVVVVVVVVVVVVVVVVVVVVVVVVVVVVVVVVVVVVVVVVVVVVVVVVVVVVVVVVVVVVVVVVVVVVVVVVVVVVVVVV//NExF8AAANIAAAAAFVVVVVVVVVVVVVVVVVVVVVVVVVVVVVVVVVVVVVVVVVVVVVVVVVVVVVVVVVVVVVVVVVVVVVVVVVVVVVVVVVVVVVVVVVVVVVVVVVVVVVVVVVVVVVV//NExKwAAANIAAAAAFVVVVVVVVVVVVVVVVVVVVVVVVVVVVVVVVVVVVVVVVVVVVVVVVVVVVVVVVVVVVVVVVVVVVVVVVVVVVVVVVVVVVVVVVVVVVVVVVVVVVVVVVVVVVVV\" type=\"audio/mpeg\" />\n",
              "                    Your browser does not support the audio element.\n",
              "                </audio>\n",
              "              "
            ]
          },
          "metadata": {},
          "execution_count": 43
        }
      ]
    },
    {
      "cell_type": "code",
      "source": [
        "a = [1, \"Mary\", 4, \"John\"]  # This is a 이건 리스트 list\n",
        "print(type(a))\n",
        "\n",
        "# a+a"
      ],
      "metadata": {
        "colab": {
          "base_uri": "https://localhost:8080/"
        },
        "id": "3OE2ya5yZado",
        "outputId": "c653f9d3-cf25-415f-f20b-9c61d52c1555"
      },
      "execution_count": 45,
      "outputs": [
        {
          "output_type": "stream",
          "name": "stdout",
          "text": [
            "<class 'list'>\n"
          ]
        }
      ]
    },
    {
      "cell_type": "code",
      "source": [
        "#@markdown Run this code to see guesiong game\n",
        "import random\n",
        "\n",
        "# Define a dictionary of words and their hints\n",
        "word_hints = {\n",
        "    \"suprasegmental\": [\n",
        "        \"This term is related to the features of speech that go beyond individual sounds.\",\n",
        "        \"It is often associated with intonation, stress, and timing.\",\n",
        "        \"Examples include pitch, tone, and stress patterns.\",\n",
        "        \"The answer begins with 's'.\"\n",
        "    ],\n",
        "    \"geminate\": [\n",
        "        \"This term is related to a specific type of consonant.\",\n",
        "        \"It refers to a consonant that is pronounced for a longer duration than its regular counterpart.\",\n",
        "        \"In some languages, it can be represented by doubling the consonant in writing.\",\n",
        "        \"The answer begins with 'g'.\"\n",
        "    ],\n",
        "    \"syllable\": [\n",
        "        \"This term is related to a unit of speech.\",\n",
        "        \"It is a sequence of speech sounds, typically consisting of a vowel and any surrounding consonants.\",\n",
        "        \"A word can have one or multiple of these units.\",\n",
        "        \"The answer begins with 's'.\"\n",
        "    ]\n",
        "}\n",
        "\n",
        "# Define guessing game\n",
        "\n",
        "def guessing_game(word_hints):\n",
        "    words = list(word_hints.keys())\n",
        "    random.shuffle(words)\n",
        "\n",
        "    for word in words:\n",
        "        print(\"\\nGuess the word based on the following hints:\")\n",
        "        hints = word_hints[word]\n",
        "        attempts = 0\n",
        "\n",
        "        while attempts < len(hints):\n",
        "            print(f\"Hint {attempts + 1}: {hints[attempts]}\")\n",
        "            guess = input(\"Your guess: \").strip().lower()\n",
        "\n",
        "            if guess == word.lower():\n",
        "                print(\"Congratulations! You guessed the correct word!\\n\")\n",
        "                break\n",
        "            else:\n",
        "                print(\"Incorrect. Try again with another hint.\\n\")\n",
        "                attempts += 1\n",
        "\n",
        "        if attempts == len(hints):\n",
        "            print(f\"Sorry, you've run out of hints. The correct word was: {word}\\n\")\n",
        "\n",
        "# Using this conditional structure is a common practice in Python to allow a script to be both executed as a standalone program and imported as a module in other scripts without immediately running the code within the script.\n",
        "if __name__ == \"__main__\":\n",
        "  guessing_game(word_hints)"
      ],
      "metadata": {
        "cellView": "form",
        "id": "ytZ3MEhdbs-R"
      },
      "execution_count": null,
      "outputs": []
    },
    {
      "cell_type": "code",
      "source": [
        "#@markdown Install and import libraries\n",
        "%%capture\n",
        "!pip install gtts\n",
        "!pip install IPython\n",
        "from gtts import gTTS\n",
        "from IPython.display import Audio, display\n",
        "\n",
        "#@markdown etts(), ktts()\n",
        "def etts(text):\n",
        "  text_to_say = text\n",
        "\n",
        "  gtts_object = gTTS(text = text_to_say,\n",
        "                     lang = \"en\",\n",
        "                    slow = False)\n",
        "  \n",
        "  gtts_object.save(\"E-audio.mp3\")\n",
        "  return Audio(\"E-audio.mp3\")\n",
        "\n",
        "def ktts(text):\n",
        "  text_to_say = text\n",
        "\n",
        "  gtts_object = gTTS(text = text_to_say,\n",
        "                     lang = \"ko\",\n",
        "                    slow = False)\n",
        "  \n",
        "  gtts_object.save(\"K-audio.mp3\")\n",
        "  return Audio(\"K-audio.mp3\")"
      ],
      "metadata": {
        "cellView": "form",
        "id": "ggLEqW3Pb4OV"
      },
      "execution_count": 2,
      "outputs": []
    },
    {
      "cell_type": "markdown",
      "source": [
        "---\n",
        "### 예스 노 질문 생성기의 제한사항\n",
        "\n",
        "1. The statement you're entering must contain a be-verb.\n",
        "2. If you use a proper noun as a subject, restrict it to one of the followings: \n",
        "\n",
        "> **Male: Tom, Thomas, Bill**\n",
        "\n",
        "> **Female: Mary, Jane, Jessica**\n",
        "\n",
        "2. Must contain a punctuation(.)\n",
        "---"
      ],
      "metadata": {
        "id": "wEilwc9JcTER"
      }
    },
    {
      "cell_type": "code",
      "source": [
        "#@markdown 자동 yes-No question (Audio autoplay)\n",
        "sentence = input(\"Type a sentence containing a be verb: e.g., I am a students.\\n\")\n",
        "beverbs = [\"is\", \"was\", \"are\", \"were\"]\n",
        "pronouns = [\"I\",\"You\",\"He\",\"She\",\"They\",\"It\"]\n",
        "names = [\"Mary\", \"Jane\", \"Tom\",\"Thomas\",\"Jessica\", \"Bill\"]\n",
        "\n",
        "def check_word(list_A, list_B):\n",
        "    for a in list_A:\n",
        "        for b in list_B:\n",
        "            if b in a:\n",
        "                mword = a\n",
        "                return True, mword\n",
        "    return False, None\n",
        "\n",
        "\n",
        "cat1 = sentence.split()\n",
        "\n",
        "result = check_word(cat1,beverbs)\n",
        "\n",
        "if result[0] == True:\n",
        "  if cat1[0] in pronouns:\n",
        "      b = result[1]\n",
        "      be = \" \"+b+\" \"\n",
        "      ss = sentence.split(be)\n",
        "      subj = ss[0]\n",
        "      nsubj = subj[0].lower()+subj[1:]\n",
        "      pred = ss[1]\n",
        "      w1 = b[0].upper() + b[1:] # Capitalized be verb\n",
        "      newsent = w1 + \" \" + nsubj + \" \" + pred[:-1] + \"?\"\n",
        "      mytext = \"I'll make it to a yes-no question: \" + newsent\n",
        "      print(\"Yes-no question: \", newsent)\n",
        "  elif cat1[0] not in pronouns and cat1[0] in names:\n",
        "        b = result[1]\n",
        "        be = \" \"+b+\" \"\n",
        "        ss = sentence.split(be)\n",
        "        subj = ss[0]\n",
        "        pred = ss[1]\n",
        "        w1 = b[0].upper() + b[1:] # Capitalized be verb\n",
        "        newsent = w1 + \" \" + subj + \" \" + pred[:-1] + \"?\"\n",
        "        mytext = \"I'll make it to a yes-no question: \" + newsent\n",
        "        print(\"Yes-no question: \", newsent)\n",
        "  elif cat1[0] not in pronouns and cat1[0] not in names:\n",
        "        b = result[1]\n",
        "        be = \" \"+b+\" \"\n",
        "        ss = sentence.split(be)\n",
        "        subj = ss[0]\n",
        "        nsubj = subj[0].lower()+subj[1:]\n",
        "        pred = ss[1]\n",
        "        w1 = b[0].upper() + b[1:] # Capitalized be verb\n",
        "        newsent = w1 + \" \" + nsubj + \" \" + pred[:-1] + \"?\"\n",
        "        mytext = \"I'll make it to a yes-no question: \" + newsent\n",
        "        print(\"Yes-no question: \", newsent)\n",
        "\n",
        "else:\n",
        "    mytext = \"The sentence you\\' provided does not contain a 'Be' verb. Try again.\"\n",
        "    print(\"Type a sentence that contains a be verb.\")\n",
        "\n",
        "etts(mytext)\n",
        "Audio(\"E-audio.mp3\",autoplay=True)"
      ],
      "metadata": {
        "colab": {
          "base_uri": "https://localhost:8080/",
          "height": 128
        },
        "cellView": "form",
        "id": "sP7CN7QYcFmu",
        "outputId": "69c0eac6-00c6-43d5-e4c4-e21a948da7c2"
      },
      "execution_count": 5,
      "outputs": [
        {
          "output_type": "stream",
          "name": "stdout",
          "text": [
            "Type a sentence containing a be verb: e.g., I am a students.\n",
            "Tom is a boy.\n",
            "Yes-no question:  Is Tom a boy?\n"
          ]
        },
        {
          "output_type": "execute_result",
          "data": {
            "text/plain": [
              "<IPython.lib.display.Audio object>"
            ],
            "text/html": [
              "\n",
              "                <audio  controls=\"controls\" autoplay=\"autoplay\">\n",
              "                    <source src=\"data:audio/mpeg;base64,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\" type=\"audio/mpeg\" />\n",
              "                    Your browser does not support the audio element.\n",
              "                </audio>\n",
              "              "
            ]
          },
          "metadata": {},
          "execution_count": 5
        }
      ]
    },
    {
      "cell_type": "code",
      "source": [
        "#@markdown 리딩 어드벤처 게임\n",
        "print(\"Welcome to the adventure game!\")\n",
        "print(\"=\"*50)\n",
        "print(\"You are a high school student who has been chosen to embark on a quest to save your town from a mysterious curse.\")\n",
        "print(\"You will face various challenges and choices along the way, and your decisions will determine the outcome of the story.\")\n",
        "print(\"=\"*50)\n",
        "name = input(\"What is your name? \")\n",
        "print(\"=\"*50)\n",
        "print(f\"Nice to meet you, {name}! Are you ready to begin?\")\n",
        "print(\"=\"*50)\n",
        "# Start of the story\n",
        "print(\"You wake up one morning to find that your town is covered in a thick fog.\")\n",
        "print(\"People are starting to get sick, and strange things are happening.\")\n",
        "print(\"You decide to investigate and find out that a curse has been cast upon the town.\")\n",
        "print(\"You meet a wise old sage who tells you that the only way to lift the curse is to find a magical artifact that is hidden in a dangerous dungeon.\")\n",
        "print(\"=\"*50)\n",
        "# First choice\n",
        "print(\"You have two options:\")\n",
        "print(\"Option 1: Search for clues in the town.\")\n",
        "print(\"Option 2: Go straight to the dungeon.\")\n",
        "print(\"=\"*50)\n",
        "choice = input(\"Which option do you choose? (1 or 2) \")\n",
        "print(\"=\"*50)\n",
        "if choice == \"1\":\n",
        "    print(\"You spend the day talking to townspeople and searching for clues.\")\n",
        "    print(\"You find a cryptic message that leads you to a hidden cave.\")\n",
        "elif choice == \"2\":\n",
        "    print(\"You journey to the dungeon and face many dangers along the way.\")\n",
        "    print(\"You eventually reach the entrance to the dungeon.\")\n",
        "print(\"=\"*50)\n",
        "# Second choice\n",
        "print(\"You have two options:\")\n",
        "print(\"Option 1: Enter the cave.\")\n",
        "print(\"Option 2: Enter the dungeon.\")\n",
        "print(\"=\"*50)\n",
        "choice = input(\"Which option do you choose? (1 or 2) \")\n",
        "print(\"=\"*50)\n",
        "if choice == \"1\":\n",
        "    print(\"=\"*50)\n",
        "    print(\"You enter the cave and find the magical artifact!\")\n",
        "    print(\"You bring it back to the town and the curse is lifted.\")\n",
        "    print(\"Congratulations! You have saved the town!\")\n",
        "    print(\"=\"*50)\n",
        "elif choice == \"2\":\n",
        "    print(\"=\"*50)\n",
        "    print(\"You enter the dungeon and face many challenges.\")\n",
        "    print(\"You eventually find the magical artifact, but it is guarded by a powerful monster.\")\n",
        "    print(\"You must defeat the monster to retrieve the artifact.\")\n",
        "    print(\"You engage in a fierce battle!\")\n",
        "    print(\"You lost the battle and the curse remains.\")\n",
        "    print(\"Brave You! Though the curse remains, people appreicate your effort.\")\n",
        "    print(\"=\"*50)\n"
      ],
      "metadata": {
        "cellView": "form",
        "id": "XdZFWl1gcz-e"
      },
      "execution_count": null,
      "outputs": []
    },
    {
      "cell_type": "code",
      "source": [
        "#@markdown 리스닝 스토리 게임\n",
        "from gtts import gTTS\n",
        "import IPython.display as ipd\n",
        "\n",
        "def play_audio(text):\n",
        "    language = 'en'\n",
        "    audio = gTTS(text=text, lang=language, slow=False)\n",
        "    audio.save(\"audio.mp3\")\n",
        "    ipd.display(ipd.Audio(\"audio.mp3\", autoplay=True))\n",
        "\n",
        "# Introduction\n",
        "play_audio(\"Welcome to the story game. You are walking home from school when you hear footsteps behind you. You look back and see a shady figure in the distance. What do you do?\")\n",
        "ipd.clear_output(wait=True)\n",
        "input(\"Press Enter to continue...\")\n",
        "\n",
        "# Stage 1\n",
        "play_audio(\"You decide to run. Do you run towards the park or towards the busy street?\")\n",
        "ipd.clear_output(wait=True)\n",
        "choice = input(\"Enter 1 to run towards the park, or 2 to run towards the busy street: \")\n",
        "if choice == \"1\":\n",
        "    play_audio(\"You run towards the park and manage to lose the shady figure. You continue walking home and make it back safely.\")\n",
        "elif choice == \"2\":\n",
        "    play_audio(\"You run towards the busy street, hoping to find someone to help you. As you get closer, you realize that the figure is a police officer. You stop and explain what happened, and the officer escorts you home safely.\")\n",
        "ipd.clear_output(wait=True)\n",
        "input(\"Press Enter to continue...\")\n",
        "\n",
        "# Stage 2\n",
        "play_audio(\"You arrive home and find that your front door is slightly open. Do you go inside or call the police?\")\n",
        "ipd.clear_output(wait=True)\n",
        "choice = input(\"Enter 1 to go inside, or 2 to call the police: \")\n",
        "if choice == \"1\":\n",
        "    play_audio(\"You cautiously enter your home and find that everything is as you left it. You breathe a sigh of relief and go about your evening.\")\n",
        "elif choice == \"2\":\n",
        "    play_audio(\"You call the police and they arrive shortly after. They search your home and find no one inside. You spend the night at a friend's house and return home the next day.\")\n",
        "ipd.clear_output(wait=True)\n",
        "input(\"Press Enter to continue...\")\n",
        "\n",
        "# Conclusion\n",
        "play_audio(\"Good choice! you have successfully made it home safely. Thanks for playing!\")\n",
        "ipd.clear_output(wait=True)\n"
      ],
      "metadata": {
        "cellView": "form",
        "id": "S1EaH4brc8Dv"
      },
      "execution_count": null,
      "outputs": []
    },
    {
      "cell_type": "markdown",
      "source": [
        "렌덤 생성기"
      ],
      "metadata": {
        "id": "sARVIjJ3dQma"
      }
    },
    {
      "cell_type": "code",
      "source": [
        "random.randint(1, 10) #random.randint(x,y)는 함수이므로 문법대로 사용해야 함."
      ],
      "metadata": {
        "colab": {
          "base_uri": "https://localhost:8080/"
        },
        "id": "jegvcBxEdMi6",
        "outputId": "94c08074-ef77-4da1-a969-3f8b7a097a8f"
      },
      "execution_count": 8,
      "outputs": [
        {
          "output_type": "execute_result",
          "data": {
            "text/plain": [
              "5"
            ]
          },
          "metadata": {},
          "execution_count": 8
        }
      ]
    },
    {
      "cell_type": "code",
      "source": [
        "a1 = random.randint(1, 10)\n",
        "a1*10  #변수를 이용하면 결과값을 이용한 다른 연산이나 작업이 가능하다."
      ],
      "metadata": {
        "colab": {
          "base_uri": "https://localhost:8080/"
        },
        "id": "MAbfvQ5zdPyk",
        "outputId": "53816d33-4d2e-45ec-b8bd-5d31fb1f4610"
      },
      "execution_count": 9,
      "outputs": [
        {
          "output_type": "execute_result",
          "data": {
            "text/plain": [
              "10"
            ]
          },
          "metadata": {},
          "execution_count": 9
        }
      ]
    },
    {
      "cell_type": "markdown",
      "source": [
        "☺️ DIY: Let a4 = \"화이팅\", and get '화이팅화이팅화이팅화이팅화이팅화이팅화이팅화이팅화이팅화이팅'(10번)"
      ],
      "metadata": {
        "id": "odz3G-7peU7j"
      }
    },
    {
      "cell_type": "code",
      "source": [
        "a4 = \"화이팅\"\n",
        "a4*10"
      ],
      "metadata": {
        "colab": {
          "base_uri": "https://localhost:8080/",
          "height": 36
        },
        "id": "yqMSlAUIeUmP",
        "outputId": "e975040f-4360-4c51-fc76-12ae0c906646"
      },
      "execution_count": 10,
      "outputs": [
        {
          "output_type": "execute_result",
          "data": {
            "text/plain": [
              "'화이팅화이팅화이팅화이팅화이팅화이팅화이팅화이팅화이팅화이팅'"
            ],
            "application/vnd.google.colaboratory.intrinsic+json": {
              "type": "string"
            }
          },
          "metadata": {},
          "execution_count": 10
        }
      ]
    },
    {
      "cell_type": "code",
      "source": [
        "x2 = [1,2,3]\n",
        "x2"
      ],
      "metadata": {
        "colab": {
          "base_uri": "https://localhost:8080/"
        },
        "id": "CPJseLjIejki",
        "outputId": "db5fc2d0-8ab8-4852-a4af-ada47c758a96"
      },
      "execution_count": 11,
      "outputs": [
        {
          "output_type": "execute_result",
          "data": {
            "text/plain": [
              "[1, 2, 3]"
            ]
          },
          "metadata": {},
          "execution_count": 11
        }
      ]
    },
    {
      "cell_type": "code",
      "source": [
        "#이건 몇번째 수열을 도출하는 방법\n",
        "x2[0]"
      ],
      "metadata": {
        "colab": {
          "base_uri": "https://localhost:8080/"
        },
        "id": "dgEMuGHXek3T",
        "outputId": "3d4297ae-eb2c-49a2-d56f-9600daefd5eb"
      },
      "execution_count": 13,
      "outputs": [
        {
          "output_type": "execute_result",
          "data": {
            "text/plain": [
              "1"
            ]
          },
          "metadata": {},
          "execution_count": 13
        }
      ]
    },
    {
      "cell_type": "code",
      "source": [
        "# range(x,y) 이거는 쭉 적는 방법\n",
        "x3 = range(1,10)\n",
        "list(x3)  #list(), range(1,10)"
      ],
      "metadata": {
        "colab": {
          "base_uri": "https://localhost:8080/"
        },
        "id": "bHB6Oq6fevan",
        "outputId": "6fb8959d-34ba-4d66-b8f1-19f40666cd3c"
      },
      "execution_count": 16,
      "outputs": [
        {
          "output_type": "execute_result",
          "data": {
            "text/plain": [
              "[1, 2, 3, 4, 5, 6, 7, 8, 9]"
            ]
          },
          "metadata": {},
          "execution_count": 16
        }
      ]
    },
    {
      "cell_type": "code",
      "source": [
        "# 이건 문자를 쭉 적는 방법\n",
        "x4 = \"John\"\n",
        "list(x4)"
      ],
      "metadata": {
        "colab": {
          "base_uri": "https://localhost:8080/"
        },
        "id": "nEwShAj8e6k7",
        "outputId": "e991b984-4293-4dea-f3de-6500d3023eac"
      },
      "execution_count": 15,
      "outputs": [
        {
          "output_type": "execute_result",
          "data": {
            "text/plain": [
              "['J', 'o', 'h', 'n']"
            ]
          },
          "metadata": {},
          "execution_count": 15
        }
      ]
    },
    {
      "cell_type": "code",
      "source": [
        "#이건 정의하고 불러 오는법 \n",
        "mydict = {\"API\":\"Application Programming Interface\", \"GPT\":\"Generative Pretrained Transformer\"}\n",
        "mydict['API']"
      ],
      "metadata": {
        "colab": {
          "base_uri": "https://localhost:8080/",
          "height": 36
        },
        "id": "7bc39F6sc8QZ",
        "outputId": "31d65a05-aad7-405c-8596-e590c63e55ed"
      },
      "execution_count": 19,
      "outputs": [
        {
          "output_type": "execute_result",
          "data": {
            "text/plain": [
              "'Application Programming Interface'"
            ],
            "application/vnd.google.colaboratory.intrinsic+json": {
              "type": "string"
            }
          },
          "metadata": {},
          "execution_count": 19
        }
      ]
    },
    {
      "cell_type": "code",
      "source": [
        "#수업 인원을 이렇게 적는다면 편하겠죠?\n",
        "class_size = {\"Class A\": 25, \"Class B\": 30, \"Class C\": 32}\n",
        "class_size['Class C']"
      ],
      "metadata": {
        "colab": {
          "base_uri": "https://localhost:8080/"
        },
        "id": "ijnIdTK1fRTx",
        "outputId": "89dd0d77-5454-4568-b19a-b241c21e54b5"
      },
      "execution_count": 20,
      "outputs": [
        {
          "output_type": "execute_result",
          "data": {
            "text/plain": [
              "32"
            ]
          },
          "metadata": {},
          "execution_count": 20
        }
      ]
    },
    {
      "cell_type": "code",
      "source": [
        "yournumber = input()  # 이건 내가 정한 번호 드롭박스로 하는 법\n",
        "yournumber"
      ],
      "metadata": {
        "colab": {
          "base_uri": "https://localhost:8080/",
          "height": 53
        },
        "id": "Z4t8UFvafnYt",
        "outputId": "fd11c104-65ca-488f-f057-cf8a30daaa55"
      },
      "execution_count": 21,
      "outputs": [
        {
          "name": "stdout",
          "output_type": "stream",
          "text": [
            "1\n"
          ]
        },
        {
          "output_type": "execute_result",
          "data": {
            "text/plain": [
              "'1'"
            ],
            "application/vnd.google.colaboratory.intrinsic+json": {
              "type": "string"
            }
          },
          "metadata": {},
          "execution_count": 21
        }
      ]
    },
    {
      "cell_type": "code",
      "source": [
        "yournumber = int(yournumber) # 이걸 통해서 타입을 변경시켜보자\n",
        "type(yournumber)"
      ],
      "metadata": {
        "colab": {
          "base_uri": "https://localhost:8080/"
        },
        "id": "l4nE-e5ifxYO",
        "outputId": "bb79de73-5d66-4dc6-c1a6-eeb5964547fd"
      },
      "execution_count": 23,
      "outputs": [
        {
          "output_type": "execute_result",
          "data": {
            "text/plain": [
              "int"
            ]
          },
          "metadata": {},
          "execution_count": 23
        }
      ]
    },
    {
      "cell_type": "code",
      "source": [
        "# print() 함수 배우기\n",
        "print(\"대한민국\")\n",
        "\n",
        "a2 = \"화이팅!\"  # a1: variable(변수)\n",
        "print(a2)\n",
        "print(a2*10)\n",
        "print(\"화이팅 10번 합시다: \", a2*10)\n",
        "a2"
      ],
      "metadata": {
        "colab": {
          "base_uri": "https://localhost:8080/",
          "height": 105
        },
        "id": "USgEk71CgJMk",
        "outputId": "2cfec27b-4880-4588-d12c-44ba8699304a"
      },
      "execution_count": 24,
      "outputs": [
        {
          "output_type": "stream",
          "name": "stdout",
          "text": [
            "대한민국\n",
            "화이팅!\n",
            "화이팅!화이팅!화이팅!화이팅!화이팅!화이팅!화이팅!화이팅!화이팅!화이팅!\n",
            "화이팅 10번 합시다:  화이팅!화이팅!화이팅!화이팅!화이팅!화이팅!화이팅!화이팅!화이팅!화이팅!\n"
          ]
        },
        {
          "output_type": "execute_result",
          "data": {
            "text/plain": [
              "'화이팅!'"
            ],
            "application/vnd.google.colaboratory.intrinsic+json": {
              "type": "string"
            }
          },
          "metadata": {},
          "execution_count": 24
        }
      ]
    },
    {
      "cell_type": "code",
      "source": [
        "print(a2)\n",
        "print(\"=\"*30)\n",
        "a1=random.randint(1,10)\n",
        "print(\"Random integer between 1 and 10:\", a1)"
      ],
      "metadata": {
        "colab": {
          "base_uri": "https://localhost:8080/"
        },
        "id": "6k4YRjKTgMCL",
        "outputId": "a1c46718-ed98-4f4c-e4ba-85abbe46b6d2"
      },
      "execution_count": 25,
      "outputs": [
        {
          "output_type": "stream",
          "name": "stdout",
          "text": [
            "화이팅!\n",
            "==============================\n",
            "Random integer between 1 and 10: 8\n"
          ]
        }
      ]
    },
    {
      "cell_type": "markdown",
      "source": [
        "☺️DIY: \n",
        "**Q: John and Mary have been together for many days. Ask Mary how many days it has been since she met John. Then you tell Mary how many hours it has been since she met John.**\n",
        "\n",
        "1. Set the variable 'day' to 24\n",
        "2. Set the variable 'num_day' for the input from the user. Get a number (number of days) from the user using input() function\n",
        "2. Calculate days to hours: set the variable 'hours' to the final result."
      ],
      "metadata": {
        "id": "0gcrsGaZgQnm"
      }
    },
    {
      "cell_type": "code",
      "source": [
        "day = 23\n",
        "num_day = 60\n",
        "hours = 60\n",
        "print(\"The total hours passed since Mary met John are: \", hours, \"hours.\")"
      ],
      "metadata": {
        "colab": {
          "base_uri": "https://localhost:8080/"
        },
        "id": "_z6ilpbTgQN0",
        "outputId": "abc7b7b6-b678-4562-8bb4-62a5c1eb210f"
      },
      "execution_count": 27,
      "outputs": [
        {
          "output_type": "stream",
          "name": "stdout",
          "text": [
            "The total hours passed since Mary met John are:  60 hours.\n"
          ]
        }
      ]
    },
    {
      "cell_type": "code",
      "source": [
        "w1 = \" Mary is friendly. \"\n",
        "w1"
      ],
      "metadata": {
        "colab": {
          "base_uri": "https://localhost:8080/",
          "height": 36
        },
        "id": "zX5ZAC5RgpHo",
        "outputId": "2bdf3fe7-d6f3-4cbb-fa1f-107707020a25"
      },
      "execution_count": 28,
      "outputs": [
        {
          "output_type": "execute_result",
          "data": {
            "text/plain": [
              "' Mary is friendly. '"
            ],
            "application/vnd.google.colaboratory.intrinsic+json": {
              "type": "string"
            }
          },
          "metadata": {},
          "execution_count": 28
        }
      ]
    },
    {
      "cell_type": "code",
      "source": [
        "w1.strip()"
      ],
      "metadata": {
        "colab": {
          "base_uri": "https://localhost:8080/",
          "height": 36
        },
        "id": "L7DLHo6_grR-",
        "outputId": "dd729d00-6049-4a05-9a44-64c80173715c"
      },
      "execution_count": 29,
      "outputs": [
        {
          "output_type": "execute_result",
          "data": {
            "text/plain": [
              "'Mary is friendly.'"
            ],
            "application/vnd.google.colaboratory.intrinsic+json": {
              "type": "string"
            }
          },
          "metadata": {},
          "execution_count": 29
        }
      ]
    },
    {
      "cell_type": "code",
      "source": [
        "w1 = \"Mary is friendly.\"\n",
        "w1.split()"
      ],
      "metadata": {
        "colab": {
          "base_uri": "https://localhost:8080/"
        },
        "id": "o_7C8PHEgtKB",
        "outputId": "eba3606e-4de0-4427-be56-f502385d5f6d"
      },
      "execution_count": 30,
      "outputs": [
        {
          "output_type": "execute_result",
          "data": {
            "text/plain": [
              "['Mary', 'is', 'friendly.']"
            ]
          },
          "metadata": {},
          "execution_count": 30
        }
      ]
    },
    {
      "cell_type": "code",
      "source": [
        "w2 = \"out-of-date\"\n",
        "w2.split('-')"
      ],
      "metadata": {
        "colab": {
          "base_uri": "https://localhost:8080/"
        },
        "id": "rW2BBiDvguwC",
        "outputId": "8621d2e9-89b4-452b-d213-2d476e67b765"
      },
      "execution_count": 31,
      "outputs": [
        {
          "output_type": "execute_result",
          "data": {
            "text/plain": [
              "['out', 'of', 'date']"
            ]
          },
          "metadata": {},
          "execution_count": 31
        }
      ]
    },
    {
      "cell_type": "code",
      "source": [
        "w1 = \"Mary\"\n",
        "w2 = \"is\"\n",
        "w3 = \"friendly\""
      ],
      "metadata": {
        "id": "a8XCt7sQgw-p"
      },
      "execution_count": 32,
      "outputs": []
    },
    {
      "cell_type": "code",
      "source": [
        "wordlist = [w1, w2, w3]\n",
        "wordlist"
      ],
      "metadata": {
        "colab": {
          "base_uri": "https://localhost:8080/"
        },
        "id": "viGdR3CrgzDV",
        "outputId": "59b93a08-c9fa-4813-80a3-1d381dde62d7"
      },
      "execution_count": 33,
      "outputs": [
        {
          "output_type": "execute_result",
          "data": {
            "text/plain": [
              "['Mary', 'is', 'friendly']"
            ]
          },
          "metadata": {},
          "execution_count": 33
        }
      ]
    },
    {
      "cell_type": "code",
      "source": [
        "w2 = \"out-of-date\"\n",
        "mysplit = w2.split('-')\n",
        "mysplit"
      ],
      "metadata": {
        "colab": {
          "base_uri": "https://localhost:8080/"
        },
        "id": "OsPjKYBkg1Cx",
        "outputId": "d18bac27-25ee-49a9-8eb4-2fbb5bce5569"
      },
      "execution_count": 34,
      "outputs": [
        {
          "output_type": "execute_result",
          "data": {
            "text/plain": [
              "['out', 'of', 'date']"
            ]
          },
          "metadata": {},
          "execution_count": 34
        }
      ]
    },
    {
      "cell_type": "code",
      "source": [
        "' '.join(wordlist)"
      ],
      "metadata": {
        "colab": {
          "base_uri": "https://localhost:8080/",
          "height": 36
        },
        "id": "Zxu0-undg56M",
        "outputId": "5e1455bb-b63a-4871-bd53-b84edc355c5b"
      },
      "execution_count": 35,
      "outputs": [
        {
          "output_type": "execute_result",
          "data": {
            "text/plain": [
              "'Mary is friendly'"
            ],
            "application/vnd.google.colaboratory.intrinsic+json": {
              "type": "string"
            }
          },
          "metadata": {},
          "execution_count": 35
        }
      ]
    },
    {
      "cell_type": "code",
      "source": [
        "'-'.join(wordlist)"
      ],
      "metadata": {
        "colab": {
          "base_uri": "https://localhost:8080/",
          "height": 36
        },
        "id": "Xt7KdNw_hAbd",
        "outputId": "c2fffccd-efb3-46c6-8193-c481dbfd6524"
      },
      "execution_count": 36,
      "outputs": [
        {
          "output_type": "execute_result",
          "data": {
            "text/plain": [
              "'Mary-is-friendly'"
            ],
            "application/vnd.google.colaboratory.intrinsic+json": {
              "type": "string"
            }
          },
          "metadata": {},
          "execution_count": 36
        }
      ]
    },
    {
      "cell_type": "code",
      "source": [
        "' '.join(mysplit)"
      ],
      "metadata": {
        "colab": {
          "base_uri": "https://localhost:8080/",
          "height": 36
        },
        "id": "fxWAFJyQhCSe",
        "outputId": "4bf4b25a-8e28-455d-85a8-4b667d5a80e3"
      },
      "execution_count": 37,
      "outputs": [
        {
          "output_type": "execute_result",
          "data": {
            "text/plain": [
              "'out of date'"
            ],
            "application/vnd.google.colaboratory.intrinsic+json": {
              "type": "string"
            }
          },
          "metadata": {},
          "execution_count": 37
        }
      ]
    },
    {
      "cell_type": "code",
      "source": [
        "w1.lower()"
      ],
      "metadata": {
        "colab": {
          "base_uri": "https://localhost:8080/",
          "height": 36
        },
        "id": "JCPAr2kohGFm",
        "outputId": "4663f621-4c86-4906-87d6-0f1815cba380"
      },
      "execution_count": 38,
      "outputs": [
        {
          "output_type": "execute_result",
          "data": {
            "text/plain": [
              "'mary'"
            ],
            "application/vnd.google.colaboratory.intrinsic+json": {
              "type": "string"
            }
          },
          "metadata": {},
          "execution_count": 38
        }
      ]
    },
    {
      "cell_type": "code",
      "source": [
        "w1.upper()"
      ],
      "metadata": {
        "colab": {
          "base_uri": "https://localhost:8080/",
          "height": 36
        },
        "id": "RwMm9UNUhHl1",
        "outputId": "e02bc7ab-fbfd-451a-ed66-bdb2b7cbbf07"
      },
      "execution_count": 39,
      "outputs": [
        {
          "output_type": "execute_result",
          "data": {
            "text/plain": [
              "'MARY'"
            ],
            "application/vnd.google.colaboratory.intrinsic+json": {
              "type": "string"
            }
          },
          "metadata": {},
          "execution_count": 39
        }
      ]
    },
    {
      "cell_type": "code",
      "source": [
        "len(w1) #number of string"
      ],
      "metadata": {
        "colab": {
          "base_uri": "https://localhost:8080/"
        },
        "id": "hJFE80qNhK2o",
        "outputId": "576bc6ce-5094-4bde-cc16-d5975b49200a"
      },
      "execution_count": 40,
      "outputs": [
        {
          "output_type": "execute_result",
          "data": {
            "text/plain": [
              "4"
            ]
          },
          "metadata": {},
          "execution_count": 40
        }
      ]
    },
    {
      "cell_type": "code",
      "source": [
        "w1[0] #1st string"
      ],
      "metadata": {
        "colab": {
          "base_uri": "https://localhost:8080/",
          "height": 36
        },
        "id": "8NbTYgaAhM1c",
        "outputId": "8181d340-c1c8-45af-9762-c6e282041c3c"
      },
      "execution_count": 41,
      "outputs": [
        {
          "output_type": "execute_result",
          "data": {
            "text/plain": [
              "'M'"
            ],
            "application/vnd.google.colaboratory.intrinsic+json": {
              "type": "string"
            }
          },
          "metadata": {},
          "execution_count": 41
        }
      ]
    },
    {
      "cell_type": "code",
      "source": [
        "w1[0:]"
      ],
      "metadata": {
        "colab": {
          "base_uri": "https://localhost:8080/",
          "height": 36
        },
        "id": "3FQw4sPihPEl",
        "outputId": "d8dfa211-d5bf-46f3-e20f-60b71f296b8c"
      },
      "execution_count": 42,
      "outputs": [
        {
          "output_type": "execute_result",
          "data": {
            "text/plain": [
              "'Mary'"
            ],
            "application/vnd.google.colaboratory.intrinsic+json": {
              "type": "string"
            }
          },
          "metadata": {},
          "execution_count": 42
        }
      ]
    },
    {
      "cell_type": "code",
      "source": [
        "w = \"mary\"\n",
        "ini = w[0].upper()\n",
        "ini\n",
        "w = ini + w[1:]\n",
        "print(w)"
      ],
      "metadata": {
        "colab": {
          "base_uri": "https://localhost:8080/"
        },
        "id": "LA3nJjpfhX-T",
        "outputId": "1efa3144-ddfe-4555-d643-158da9b583c5"
      },
      "execution_count": 43,
      "outputs": [
        {
          "output_type": "stream",
          "name": "stdout",
          "text": [
            "Mary\n"
          ]
        }
      ]
    },
    {
      "cell_type": "code",
      "source": [
        "# 수열을 정의 하고 루프로 나열 하기 Define a list of numbers\n",
        "numbers = [1, 2, 3, 4, 5]\n",
        "\n",
        "# Use a for loop to iterate through the list\n",
        "for num in numbers:\n",
        "    # Print the square of each number\n",
        "    print(num ** 2)"
      ],
      "metadata": {
        "colab": {
          "base_uri": "https://localhost:8080/"
        },
        "id": "J7kW6dt9hk9B",
        "outputId": "29d30614-150c-451b-da91-2127e7370104"
      },
      "execution_count": 45,
      "outputs": [
        {
          "output_type": "stream",
          "name": "stdout",
          "text": [
            "1\n",
            "4\n",
            "9\n",
            "16\n",
            "25\n"
          ]
        }
      ]
    },
    {
      "cell_type": "code",
      "source": [
        "numbers = [1,2,3,4,5]\n",
        "squared = []\n",
        "\n",
        "for i in numbers:\n",
        "  s = i ** 2\n",
        "  squared.append(s)\n",
        "\n",
        "print(squared)"
      ],
      "metadata": {
        "colab": {
          "base_uri": "https://localhost:8080/"
        },
        "id": "XMTyJQkOhxgv",
        "outputId": "5046c57b-ec45-4485-d00b-dfa5d4681b2f"
      },
      "execution_count": 46,
      "outputs": [
        {
          "output_type": "stream",
          "name": "stdout",
          "text": [
            "[1, 4, 9, 16, 25]\n"
          ]
        }
      ]
    },
    {
      "cell_type": "code",
      "source": [
        "#이걸로 이름을 나열해 봅시다\n",
        "num_names = input(\"How many names? \")\n",
        "num_names = int(num_names)\n",
        "\n",
        "attendance = []\n",
        "\n",
        "for i in range(0, num_names):\n",
        "  name = input()\n",
        "  attendance.append(name)\n",
        "\n",
        "print(attendance)\n"
      ],
      "metadata": {
        "colab": {
          "base_uri": "https://localhost:8080/"
        },
        "id": "mmO4PzVPh-i1",
        "outputId": "21008b91-ae78-43d0-a9ee-f0c400c8bbc1"
      },
      "execution_count": 48,
      "outputs": [
        {
          "output_type": "stream",
          "name": "stdout",
          "text": [
            "How many names? 3\n",
            "1\n",
            "2\n",
            "3\n",
            "['1', '2', '3']\n"
          ]
        }
      ]
    },
    {
      "cell_type": "code",
      "source": [
        "len(attendance)"
      ],
      "metadata": {
        "colab": {
          "base_uri": "https://localhost:8080/"
        },
        "id": "E520Sic8iIPT",
        "outputId": "7d3ba3a3-0113-495e-a2ef-2848ce81e32c"
      },
      "execution_count": 49,
      "outputs": [
        {
          "output_type": "execute_result",
          "data": {
            "text/plain": [
              "3"
            ]
          },
          "metadata": {},
          "execution_count": 49
        }
      ]
    },
    {
      "cell_type": "code",
      "source": [
        "#우와 카운트 다운이다 Set the starting number for the countdown\n",
        "sn = 10\n",
        "\n",
        "# Use a for loop to iterate through the countdown\n",
        "for i in range(sn, 0, -1):\n",
        "    # Print the current countdown number\n",
        "    print(i)\n",
        "\n",
        "# Print the final message after the countdown\n",
        "print(\"Blast off!\")"
      ],
      "metadata": {
        "colab": {
          "base_uri": "https://localhost:8080/"
        },
        "id": "2_useDxQiOpO",
        "outputId": "9afe237e-e6c2-4097-cafe-ea2834639c66"
      },
      "execution_count": 51,
      "outputs": [
        {
          "output_type": "stream",
          "name": "stdout",
          "text": [
            "10\n",
            "9\n",
            "8\n",
            "7\n",
            "6\n",
            "5\n",
            "4\n",
            "3\n",
            "2\n",
            "1\n",
            "Blast off!\n"
          ]
        }
      ]
    },
    {
      "cell_type": "code",
      "source": [
        "# start_number = \n",
        "\n",
        "# for i in range(,,):\n",
        "#   print(i)"
      ],
      "metadata": {
        "id": "KRuMR8F3iZBl"
      },
      "execution_count": null,
      "outputs": []
    },
    {
      "cell_type": "code",
      "source": [
        "# DIY how to get a list with numbers 1*1, 2*4, 3*9, 4*16, 5*25 from the above\n",
        "\n",
        "a = numbers\n",
        "b = squared\n",
        "# hint: a[0] = 1, a[2] = 2, b[0]=1, b[1]=4\n",
        "\n",
        "#for i in range(,):\n",
        "#  s = \n",
        "#  print(s)"
      ],
      "metadata": {
        "id": "VepHlw0Iicyi"
      },
      "execution_count": null,
      "outputs": []
    },
    {
      "cell_type": "code",
      "source": [
        "# 이건 하나 하나 더하는 계산기Define add function\n",
        "def add(x,y):\n",
        "  sum = x + y\n",
        "  return sum"
      ],
      "metadata": {
        "id": "nAySbEeEizMl"
      },
      "execution_count": 55,
      "outputs": []
    },
    {
      "cell_type": "code",
      "source": [
        "# Run this and revise the code to display the result as we expect\n",
        "# hint think about the type of x, y\n",
        "\n",
        "x = input()\n",
        "y = input()\n",
        "\n",
        "add(x,y)"
      ],
      "metadata": {
        "colab": {
          "base_uri": "https://localhost:8080/",
          "height": 70
        },
        "id": "aXAg9RiAir-t",
        "outputId": "e9da8c55-1aae-4a85-dec1-13f245a50794"
      },
      "execution_count": 54,
      "outputs": [
        {
          "name": "stdout",
          "output_type": "stream",
          "text": [
            "ㅁ\n",
            "ㅁ\n"
          ]
        },
        {
          "output_type": "execute_result",
          "data": {
            "text/plain": [
              "'ㅁㅁ'"
            ],
            "application/vnd.google.colaboratory.intrinsic+json": {
              "type": "string"
            }
          },
          "metadata": {},
          "execution_count": 54
        }
      ]
    },
    {
      "cell_type": "markdown",
      "source": [],
      "metadata": {
        "id": "JMkgnY80ibnk"
      }
    },
    {
      "cell_type": "markdown",
      "source": [],
      "metadata": {
        "id": "SGquaSKvW85O"
      }
    },
    {
      "cell_type": "markdown",
      "source": [],
      "metadata": {
        "id": "GL_Kic79WWk6"
      }
    },
    {
      "cell_type": "code",
      "source": [],
      "metadata": {
        "id": "f4mjyAZlVNBx"
      },
      "execution_count": null,
      "outputs": []
    },
    {
      "cell_type": "markdown",
      "source": [],
      "metadata": {
        "id": "9x7zBvUeWV0r"
      }
    },
    {
      "cell_type": "code",
      "source": [],
      "metadata": {
        "id": "iWZfDmF_WVs_"
      },
      "execution_count": null,
      "outputs": []
    },
    {
      "cell_type": "markdown",
      "source": [],
      "metadata": {
        "id": "z67dUfSxU795"
      }
    },
    {
      "cell_type": "code",
      "source": [],
      "metadata": {
        "id": "kgYu6KEJUmv-"
      },
      "execution_count": null,
      "outputs": []
    },
    {
      "cell_type": "markdown",
      "source": [],
      "metadata": {
        "id": "7NOC-QMkR62J"
      }
    },
    {
      "cell_type": "markdown",
      "source": [],
      "metadata": {
        "id": "lA7oaamMO6pD"
      }
    }
  ]
}